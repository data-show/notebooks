{
 "cells": [
  {
   "cell_type": "markdown",
   "metadata": {},
   "source": [
    "# Social Vulnerability Index 2018 - United States "
   ]
  },
  {
   "cell_type": "markdown",
   "metadata": {},
   "source": [
    "<hr>"
   ]
  },
  {
   "cell_type": "markdown",
   "metadata": {},
   "source": [
    "CDC’s Social Vulnerability Index (SVI) is a tool to spatially identify and socially vulnerable populations. The SVI uses U.S. Census variables that reflect at-risk populations to identify and map vulnerable areas. Information on the location and relative concentration of different types of social vulnerabilities in small geographic areas, such as census tracts can help emergency managers locate and plan for the specific needs of their communities, before, during, and after a disaster.\n",
    "\n",
    "The SVI draws together 15 different measures of vulnerability in 4 different themes : \n",
    "- Socioeconomic \n",
    "- Household Composition & Disability \n",
    "- Minority Status & Language \n",
    "- Housing Type & Transportation\n",
    "\n",
    "Using a percentile ranking method, each tract receives a separate ranking from 0 (lowest vulnerability) to 1 (highest vulnerability) for each of the 4 themes, as well as an overall ranking."
   ]
  },
  {
   "cell_type": "markdown",
   "metadata": {},
   "source": [
    "Hereafter, we will use Plotly library to spatially visualize this US Social Vulnerability Index.\n",
    "\n",
    "Data can be downloaded at the following link : https://svi.cdc.gov/data-and-tools-download.html"
   ]
  },
  {
   "cell_type": "markdown",
   "metadata": {},
   "source": [
    "## Import required libraries"
   ]
  },
  {
   "cell_type": "code",
   "execution_count": null,
   "metadata": {},
   "outputs": [],
   "source": [
    "import pandas as pd\n",
    "import numpy as np\n",
    "import geopandas as gpd\n",
    "import json\n",
    "import plotly.express as px"
   ]
  },
  {
   "cell_type": "markdown",
   "metadata": {},
   "source": [
    "## Data pre-processing"
   ]
  },
  {
   "cell_type": "markdown",
   "metadata": {},
   "source": [
    "To visualize the Social Vulnerability Index in the US, we chose to use a Choropleth Map which is a map composed of colored polygons. It is a useful way to represent spatial variations of a quantity.\n",
    "\n",
    "In order to make Choropleth Maps we need two main types of input :\n",
    "\n",
    "1. Geometry information to shape the map : here a JSON file\n",
    "2. A list of values indexed by feature identifier to color the map : here a CSV file"
   ]
  },
  {
   "cell_type": "markdown",
   "metadata": {},
   "source": [
    "### JSON file"
   ]
  },
  {
   "cell_type": "markdown",
   "metadata": {},
   "source": [
    "Here we load a CSV file containing the geometry information for US counties, where `feature.id` is a *'FIPS'* code.\n",
    "\n",
    "We only keep the columns required and convert the CSV file into a GeoJSON file."
   ]
  },
  {
   "cell_type": "code",
   "execution_count": null,
   "metadata": {},
   "outputs": [],
   "source": [
    "map_path = 'Data/SVI2018_US_county.shp'\n",
    "\n",
    "map_df = gpd.read_file(map_path)\n",
    "\n",
    "map_df.drop(map_df.loc[:, 'LOCATION':'Shape_STLe'].columns, inplace=True, axis = 1)\n",
    "\n",
    "map_df.to_file(\"SVI2018_US_county.json\", driver=\"GeoJSON\")\n",
    "geo_json_data = json.load(open(\"SVI2018_US_county.json\",'r'))"
   ]
  },
  {
   "cell_type": "markdown",
   "metadata": {},
   "source": [
    "### CSV file"
   ]
  },
  {
   "cell_type": "markdown",
   "metadata": {},
   "source": [
    "Here we load the CSV file which contains the SVI data by county, also indexed by *'FIPS'* code.\n",
    "\n",
    "We select and properly rename the required columns to color our maps.\n",
    "\n",
    "In the dataset, values of -999 represent \"null\" or \"no data\", so we replace these values by special value `np.nan` in order to ignore them on our mapping."
   ]
  },
  {
   "cell_type": "code",
   "execution_count": null,
   "metadata": {},
   "outputs": [],
   "source": [
    "df = pd.read_csv('Data/SVI2018_US_COUNTY.csv', dtype={\"FIPS\": str})\n",
    "\n",
    "\n",
    "df.rename(columns={'RPL_THEME1':'SS_SVI', 'RPL_THEME2':'HCD_SVI', 'RPL_THEME3':'MSL_SVI', 'RPL_THEME4':'HTT_SVI', 'RPL_THEMES': 'SVI'}, inplace=True)\n",
    "df.replace(-999.0, np.nan, inplace=True)\n",
    "svi = df[['ST','STATE','ST_ABBR','COUNTY','FIPS','SS_SVI','HCD_SVI','MSL_SVI','HTT_SVI','SVI']]\n",
    "\n",
    "svi.head()"
   ]
  },
  {
   "cell_type": "markdown",
   "metadata": {},
   "source": [
    "## SVI Mapping"
   ]
  },
  {
   "cell_type": "markdown",
   "metadata": {},
   "source": [
    "To create our Choropleth Maps we will use Plotly Express' `px.choropleth` function.\n",
    "\n",
    "The GeoJSON data is passed to the `geojson` argument, and the data is passed into the `color` argument of `px.choropleth`, in the same order as the IDs are passed into the `locations` argument.\n",
    "\n",
    "We use the `featureidkey` parameter to specify where to match the values of `locations`. Here we use the *'FIPS'* key in the `properties` field."
   ]
  },
  {
   "cell_type": "markdown",
   "metadata": {},
   "source": [
    "The SVI score is ranked from 0 (lowest vulnerability) to 1 (highest vulnerability), which is why we have defined the `range_color` from 0 to 1.\n",
    "\n",
    "Our dataset focusing on the United States, we have set `layout.geo.scope` to *'usa'* to automatically configure the map to display data centered on the United States in an appropriate projection."
   ]
  },
  {
   "cell_type": "markdown",
   "metadata": {},
   "source": [
    "### Overall SVI Map"
   ]
  },
  {
   "cell_type": "code",
   "execution_count": null,
   "metadata": {},
   "outputs": [],
   "source": [
    "fig_svi = px.choropleth(svi, geojson=geo_json_data, locations='FIPS', color='SVI',\n",
    "                    featureidkey=\"properties.FIPS\",\n",
    "                    hover_data=[\"STATE\", \"COUNTY\"],\n",
    "                    color_continuous_scale=\"YlOrRd\",\n",
    "                    range_color=(0, 1),\n",
    "                    scope=\"usa\",\n",
    "                    labels={'SVI':'SVI US 2018'}\n",
    "                   )\n",
    "\n",
    "fig_svi.update_layout(margin={\"r\":0,\"t\":0,\"l\":0,\"b\":0})"
   ]
  },
  {
   "cell_type": "markdown",
   "metadata": {},
   "source": [
    "![SVI_US_2018](SVI_Maps/SVI_US_2018.png)"
   ]
  },
  {
   "cell_type": "markdown",
   "metadata": {},
   "source": [
    "### Socioeconomic Status Map"
   ]
  },
  {
   "cell_type": "code",
   "execution_count": null,
   "metadata": {},
   "outputs": [],
   "source": [
    "fig_ss_svi = px.choropleth(svi, geojson=geo_json_data, locations='FIPS', color='SS_SVI',\n",
    "                    featureidkey=\"properties.FIPS\",\n",
    "                    hover_data=[\"STATE\", \"COUNTY\"],\n",
    "                    color_continuous_scale=\"Greens\",\n",
    "                    range_color=(0, 1),\n",
    "                    scope=\"usa\",\n",
    "                    labels={'SS_SVI':'SVI US 2018<br>Socioeconomic Status'}\n",
    "                   )\n",
    "\n",
    "fig_ss_svi.update_layout(margin={\"r\":0,\"t\":0,\"l\":0,\"b\":0})"
   ]
  },
  {
   "cell_type": "markdown",
   "metadata": {},
   "source": [
    "![Socioeconomic_Status](SVI_Maps/Socioeconomic_Status.png)"
   ]
  },
  {
   "cell_type": "markdown",
   "metadata": {},
   "source": [
    "### Household Composition & Disability Map"
   ]
  },
  {
   "cell_type": "code",
   "execution_count": null,
   "metadata": {},
   "outputs": [],
   "source": [
    "fig_hcd_svi = px.choropleth(svi, geojson=geo_json_data, locations='FIPS', color='HCD_SVI',\n",
    "                    featureidkey=\"properties.FIPS\",\n",
    "                    hover_data=[\"STATE\", \"COUNTY\"],\n",
    "                    color_continuous_scale=\"YlOrBr\",\n",
    "                    range_color=(0, 1),\n",
    "                    scope=\"usa\",\n",
    "                    labels={'HCD_SVI':'SVI US 2018<br>Household Composition<br>& Disability'}\n",
    "                   )\n",
    "\n",
    "fig_hcd_svi.update_layout(margin={\"r\":0,\"t\":0,\"l\":0,\"b\":0})"
   ]
  },
  {
   "cell_type": "markdown",
   "metadata": {},
   "source": [
    "![Household_Composition_and_Disability](SVI_Maps/Household_Composition_and_Disability.png)"
   ]
  },
  {
   "cell_type": "markdown",
   "metadata": {},
   "source": [
    "### Minority Status & Language Map"
   ]
  },
  {
   "cell_type": "code",
   "execution_count": null,
   "metadata": {},
   "outputs": [],
   "source": [
    "fig_msl_svi = px.choropleth(svi, geojson=geo_json_data, locations='FIPS', color='MSL_SVI',\n",
    "                    featureidkey=\"properties.FIPS\",\n",
    "                    hover_data=[\"STATE\", \"COUNTY\"],\n",
    "                    color_continuous_scale=\"Purples\",\n",
    "                    range_color=(0, 1),\n",
    "                    scope=\"usa\",\n",
    "                    labels={'MSL_SVI':'SVI US 2018<br>Minority Status<br>& Language'}\n",
    "                   )\n",
    "\n",
    "fig_msl_svi.update_layout(margin={\"r\":0,\"t\":0,\"l\":0,\"b\":0})"
   ]
  },
  {
   "cell_type": "markdown",
   "metadata": {},
   "source": [
    "![Minority_Status_and_Language](SVI_Maps/Minority_Status_and_Language.png)"
   ]
  },
  {
   "cell_type": "markdown",
   "metadata": {},
   "source": [
    "### Housing Type & Transportation Map"
   ]
  },
  {
   "cell_type": "code",
   "execution_count": null,
   "metadata": {},
   "outputs": [],
   "source": [
    "fig_htt_svi = px.choropleth(svi, geojson=geo_json_data, locations='FIPS', color='HTT_SVI',\n",
    "                    featureidkey=\"properties.FIPS\",\n",
    "                    hover_data=[\"STATE\", \"COUNTY\"],\n",
    "                    color_continuous_scale=\"Blues\",\n",
    "                    range_color=(0, 1),\n",
    "                    scope=\"usa\",\n",
    "                    labels={'HTT_SVI':'SVI US 2018<br>Housing Type<br>& Transportation'}\n",
    "                   )\n",
    "\n",
    "fig_htt_svi.update_layout(margin={\"r\":0,\"t\":0,\"l\":0,\"b\":0})"
   ]
  },
  {
   "cell_type": "markdown",
   "metadata": {},
   "source": [
    "![Housing_Type_and_Transportation](SVI_Maps/Housing_Type_and_Transportation.png)"
   ]
  },
  {
   "cell_type": "markdown",
   "metadata": {},
   "source": [
    "<hr>"
   ]
  },
  {
   "cell_type": "markdown",
   "metadata": {},
   "source": [
    "## Sources"
   ]
  },
  {
   "cell_type": "markdown",
   "metadata": {},
   "source": [
    "- SVI Documentation : https://svi.cdc.gov/\n",
    "- Choropleth Maps in Python with Plotly : https://plotly.com/python/choropleth-maps/"
   ]
  }
 ],
 "metadata": {
  "kernelspec": {
   "display_name": "Python 3",
   "language": "python",
   "name": "python3"
  },
  "language_info": {
   "codemirror_mode": {
    "name": "ipython",
    "version": 3
   },
   "file_extension": ".py",
   "mimetype": "text/x-python",
   "name": "python",
   "nbconvert_exporter": "python",
   "pygments_lexer": "ipython3",
   "version": "3.7.6"
  }
 },
 "nbformat": 4,
 "nbformat_minor": 4
}
