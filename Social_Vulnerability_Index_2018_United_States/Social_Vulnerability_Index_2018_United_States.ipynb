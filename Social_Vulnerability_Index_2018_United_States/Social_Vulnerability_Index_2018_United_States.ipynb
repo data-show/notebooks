{
 "cells": [
  {
   "cell_type": "markdown",
   "metadata": {},
   "source": [
    "# Social Vulnerability Index 2018 - United States "
   ]
  },
  {
   "cell_type": "markdown",
   "metadata": {},
   "source": [
    "<hr>"
   ]
  },
  {
   "cell_type": "markdown",
   "metadata": {},
   "source": [
    "CDC’s Social Vulnerability Index (SVI) is a tool to spatially identify and socially vulnerable populations. The SVI uses U.S. Census variables that reflect at-risk populations to identify and map vulnerable areas. Information on the location and relative concentration of different types of social vulnerabilities in small geographic areas, such as census tracts can help emergency managers locate and plan for the specific needs of their communities, before, during, and after a disaster.\n",
    "\n",
    "The SVI draws together 15 different measures of vulnerability in 4 different themes : \n",
    "- Socioeconomic \n",
    "- Household Composition & Disability \n",
    "- Minority Status & Language \n",
    "- Housing Type & Transportation\n",
    "\n",
    "Using a percentile ranking method, each tract receives a separate ranking from 0 (lowest vulnerability) to 1 (highest vulnerability) for each of the 4 themes, as well as an overall ranking."
   ]
  },
  {
   "cell_type": "markdown",
   "metadata": {},
   "source": [
    "Hereafter, we will use Plotly library to spatially visualize this US Social Vulnerability Index.\n",
    "\n",
    "Data can be downloaded at the following link : https://svi.cdc.gov/data-and-tools-download.html"
   ]
  },
  {
   "cell_type": "markdown",
   "metadata": {},
   "source": [
    "## Import required libraries"
   ]
  },
  {
   "cell_type": "code",
   "execution_count": 1,
   "metadata": {},
   "outputs": [],
   "source": [
    "from IPython.display import display\n",
    "import pandas as pd\n",
    "import numpy as np\n",
    "import geopandas as gpd\n",
    "import json\n",
    "import plotly.express as px"
   ]
  },
  {
   "cell_type": "markdown",
   "metadata": {},
   "source": [
    "## Data pre-processing"
   ]
  },
  {
   "cell_type": "markdown",
   "metadata": {},
   "source": [
    "To visualize the Social Vulnerability Index in the US, we chose to use a Choropleth Map which is a map composed of colored polygons. It is a useful way to represent spatial variations of a quantity.\n",
    "\n",
    "In order to make Choropleth Maps we need two main types of input :\n",
    "\n",
    "1. Geometry information to shape the map : here a JSON file\n",
    "2. A list of values indexed by feature identifier to color the map : here a CSV file"
   ]
  },
  {
   "cell_type": "markdown",
   "metadata": {},
   "source": [
    "### JSON file"
   ]
  },
  {
   "cell_type": "markdown",
   "metadata": {},
   "source": [
    "Here we load a CSV file containing the geometry information for US counties, where `feature.id` is a *'FIPS'* code.\n",
    "\n",
    "We only keep the columns required and convert the CSV file into a GeoJSON file."
   ]
  },
  {
   "cell_type": "code",
   "execution_count": 5,
   "metadata": {},
   "outputs": [],
   "source": [
    "map_path = 'Data/SVI2018_US_county.shp'\n",
    "map_df = gpd.read_file(map_path)\n",
    "\n",
    "map_df.drop(map_df.loc[:, 'LOCATION':'Shape_STLe'].columns, inplace=True, axis = 1)\n",
    "\n",
    "geo_json_data = json.loads(map_df.to_json())"
   ]
  },
  {
   "cell_type": "markdown",
   "metadata": {},
   "source": [
    "### CSV file"
   ]
  },
  {
   "cell_type": "markdown",
   "metadata": {},
   "source": [
    "Here we load the CSV file which contains the SVI data by county, also indexed by *'FIPS'* code.\n",
    "\n",
    "We select and properly rename the required columns to color our maps.\n",
    "\n",
    "In the dataset, values of -999 represent \"null\" or \"no data\", so we replace these values by special value `np.nan` in order to ignore them on our mapping."
   ]
  },
  {
   "cell_type": "code",
   "execution_count": 6,
   "metadata": {},
   "outputs": [
    {
     "data": {
      "text/html": [
       "<div>\n",
       "<style scoped>\n",
       "    .dataframe tbody tr th:only-of-type {\n",
       "        vertical-align: middle;\n",
       "    }\n",
       "\n",
       "    .dataframe tbody tr th {\n",
       "        vertical-align: top;\n",
       "    }\n",
       "\n",
       "    .dataframe thead th {\n",
       "        text-align: right;\n",
       "    }\n",
       "</style>\n",
       "<table border=\"1\" class=\"dataframe\">\n",
       "  <thead>\n",
       "    <tr style=\"text-align: right;\">\n",
       "      <th></th>\n",
       "      <th>ST</th>\n",
       "      <th>STATE</th>\n",
       "      <th>ST_ABBR</th>\n",
       "      <th>COUNTY</th>\n",
       "      <th>FIPS</th>\n",
       "      <th>SS_SVI</th>\n",
       "      <th>HCD_SVI</th>\n",
       "      <th>MSL_SVI</th>\n",
       "      <th>HTT_SVI</th>\n",
       "      <th>SVI</th>\n",
       "    </tr>\n",
       "  </thead>\n",
       "  <tbody>\n",
       "    <tr>\n",
       "      <th>0</th>\n",
       "      <td>35</td>\n",
       "      <td>NEW MEXICO</td>\n",
       "      <td>NM</td>\n",
       "      <td>Rio Arriba</td>\n",
       "      <td>35039</td>\n",
       "      <td>NaN</td>\n",
       "      <td>0.8758</td>\n",
       "      <td>0.9268</td>\n",
       "      <td>0.5409</td>\n",
       "      <td>NaN</td>\n",
       "    </tr>\n",
       "    <tr>\n",
       "      <th>1</th>\n",
       "      <td>1</td>\n",
       "      <td>ALABAMA</td>\n",
       "      <td>AL</td>\n",
       "      <td>Autauga</td>\n",
       "      <td>01001</td>\n",
       "      <td>0.3631</td>\n",
       "      <td>0.5810</td>\n",
       "      <td>0.5947</td>\n",
       "      <td>0.3741</td>\n",
       "      <td>0.4354</td>\n",
       "    </tr>\n",
       "    <tr>\n",
       "      <th>2</th>\n",
       "      <td>1</td>\n",
       "      <td>ALABAMA</td>\n",
       "      <td>AL</td>\n",
       "      <td>Blount</td>\n",
       "      <td>01009</td>\n",
       "      <td>0.6143</td>\n",
       "      <td>0.3187</td>\n",
       "      <td>0.5915</td>\n",
       "      <td>0.1741</td>\n",
       "      <td>0.4242</td>\n",
       "    </tr>\n",
       "    <tr>\n",
       "      <th>3</th>\n",
       "      <td>1</td>\n",
       "      <td>ALABAMA</td>\n",
       "      <td>AL</td>\n",
       "      <td>Butler</td>\n",
       "      <td>01013</td>\n",
       "      <td>0.8455</td>\n",
       "      <td>0.9077</td>\n",
       "      <td>0.6447</td>\n",
       "      <td>0.6259</td>\n",
       "      <td>0.8653</td>\n",
       "    </tr>\n",
       "    <tr>\n",
       "      <th>4</th>\n",
       "      <td>1</td>\n",
       "      <td>ALABAMA</td>\n",
       "      <td>AL</td>\n",
       "      <td>Calhoun</td>\n",
       "      <td>01015</td>\n",
       "      <td>0.7866</td>\n",
       "      <td>0.8303</td>\n",
       "      <td>0.6507</td>\n",
       "      <td>0.6492</td>\n",
       "      <td>0.8252</td>\n",
       "    </tr>\n",
       "  </tbody>\n",
       "</table>\n",
       "</div>"
      ],
      "text/plain": [
       "   ST       STATE ST_ABBR      COUNTY   FIPS  SS_SVI  HCD_SVI  MSL_SVI  \\\n",
       "0  35  NEW MEXICO      NM  Rio Arriba  35039     NaN   0.8758   0.9268   \n",
       "1   1     ALABAMA      AL     Autauga  01001  0.3631   0.5810   0.5947   \n",
       "2   1     ALABAMA      AL      Blount  01009  0.6143   0.3187   0.5915   \n",
       "3   1     ALABAMA      AL      Butler  01013  0.8455   0.9077   0.6447   \n",
       "4   1     ALABAMA      AL     Calhoun  01015  0.7866   0.8303   0.6507   \n",
       "\n",
       "   HTT_SVI     SVI  \n",
       "0   0.5409     NaN  \n",
       "1   0.3741  0.4354  \n",
       "2   0.1741  0.4242  \n",
       "3   0.6259  0.8653  \n",
       "4   0.6492  0.8252  "
      ]
     },
     "execution_count": 6,
     "metadata": {},
     "output_type": "execute_result"
    }
   ],
   "source": [
    "df = pd.read_csv('Data/SVI2018_US_COUNTY.csv', dtype={\"FIPS\": str})\n",
    "\n",
    "\n",
    "df.rename(columns={'RPL_THEME1':'SS_SVI', 'RPL_THEME2':'HCD_SVI', 'RPL_THEME3':'MSL_SVI', 'RPL_THEME4':'HTT_SVI', 'RPL_THEMES': 'SVI'}, inplace=True)\n",
    "df.replace(-999.0, np.nan, inplace=True)\n",
    "svi = df[['ST','STATE','ST_ABBR','COUNTY','FIPS','SS_SVI','HCD_SVI','MSL_SVI','HTT_SVI','SVI']]\n",
    "\n",
    "svi.head()"
   ]
  },
  {
   "cell_type": "markdown",
   "metadata": {},
   "source": [
    "## SVI Mapping"
   ]
  },
  {
   "cell_type": "markdown",
   "metadata": {},
   "source": [
    "To create our Choropleth Maps we will use Plotly Express' `px.choropleth` function.\n",
    "\n",
    "The GeoJSON data is passed to the `geojson` argument, and the data is passed into the `color` argument of `px.choropleth`, in the same order as the IDs are passed into the `locations` argument.\n",
    "\n",
    "We use the `featureidkey` parameter to specify where to match the values of `locations`. Here we use the *'FIPS'* key in the `properties` field."
   ]
  },
  {
   "cell_type": "markdown",
   "metadata": {},
   "source": [
    "The SVI score is ranked from 0 (lowest vulnerability) to 1 (highest vulnerability), which is why we have defined the `range_color` from 0 to 1.\n",
    "\n",
    "Our dataset focusing on the United States, we have set `layout.geo.scope` to *'usa'* to automatically configure the map to display data centered on the United States in an appropriate projection."
   ]
  },
  {
   "cell_type": "markdown",
   "metadata": {},
   "source": [
    "### Overall SVI Map"
   ]
  },
  {
   "cell_type": "code",
   "execution_count": null,
   "metadata": {},
   "outputs": [],
   "source": [
    "fig_svi = px.choropleth(svi, geojson=geo_json_data, locations='FIPS', color='SVI',\n",
    "                    featureidkey=\"properties.FIPS\",\n",
    "                    hover_data=[\"STATE\", \"COUNTY\"],\n",
    "                    color_continuous_scale=\"YlOrRd\",\n",
    "                    range_color=(0, 1),\n",
    "                    scope=\"usa\",\n",
    "                    labels={'SVI':'SVI US 2018'}\n",
    "                   )\n",
    "fig_svi.update_layout(margin={\"r\":0,\"t\":0,\"l\":0,\"b\":0})\n",
    "\n",
    "fig_svi.write_image(file=\"SVI_Maps/SVI_US_2018.png\", format=\"png\")"
   ]
  },
  {
   "cell_type": "markdown",
   "metadata": {},
   "source": [
    "![SVI_US_2018](SVI_Maps/SVI_US_2018.png)"
   ]
  },
  {
   "cell_type": "markdown",
   "metadata": {},
   "source": [
    "### Socioeconomic Status Map"
   ]
  },
  {
   "cell_type": "code",
   "execution_count": 16,
   "metadata": {},
   "outputs": [],
   "source": [
    "fig_ss_svi = px.choropleth(svi, geojson=geo_json_data, locations='FIPS', color='SS_SVI',\n",
    "                    featureidkey=\"properties.FIPS\",\n",
    "                    hover_data=[\"STATE\", \"COUNTY\"],\n",
    "                    color_continuous_scale=\"Greens\",\n",
    "                    range_color=(0, 1),\n",
    "                    scope=\"usa\",\n",
    "                    labels={'SS_SVI':'SVI US 2018<br>Socioeconomic Status'}\n",
    "                   )\n",
    "fig_ss_svi.update_layout(margin={\"r\":0,\"t\":0,\"l\":0,\"b\":0})\n",
    "\n",
    "fig_ss_svi.write_image(file=\"SVI_Maps/Socioeconomic_Status.png\", format=\"png\")"
   ]
  },
  {
   "cell_type": "markdown",
   "metadata": {},
   "source": [
    "![Socioeconomic_Status](SVI_Maps/Socioeconomic_Status.png)"
   ]
  },
  {
   "cell_type": "markdown",
   "metadata": {},
   "source": [
    "### Household Composition & Disability Map"
   ]
  },
  {
   "cell_type": "code",
   "execution_count": 17,
   "metadata": {},
   "outputs": [],
   "source": [
    "fig_hcd_svi = px.choropleth(svi, geojson=geo_json_data, locations='FIPS', color='HCD_SVI',\n",
    "                    featureidkey=\"properties.FIPS\",\n",
    "                    hover_data=[\"STATE\", \"COUNTY\"],\n",
    "                    color_continuous_scale=\"YlOrBr\",\n",
    "                    range_color=(0, 1),\n",
    "                    scope=\"usa\",\n",
    "                    labels={'HCD_SVI':'SVI US 2018<br>Household Composition<br>& Disability'}\n",
    "                   )\n",
    "\n",
    "fig_hcd_svi.update_layout(margin={\"r\":0,\"t\":0,\"l\":0,\"b\":0})\n",
    "\n",
    "fig_hcd_svi.write_image(file=\"SVI_Maps/Household_Composition_and_Disability.png\", format=\"png\")"
   ]
  },
  {
   "cell_type": "markdown",
   "metadata": {},
   "source": [
    "![Household_Composition_and_Disability](SVI_Maps/Household_Composition_and_Disability.png)"
   ]
  },
  {
   "cell_type": "markdown",
   "metadata": {},
   "source": [
    "### Minority Status & Language Map"
   ]
  },
  {
   "cell_type": "code",
   "execution_count": 18,
   "metadata": {},
   "outputs": [],
   "source": [
    "fig_msl_svi = px.choropleth(svi, geojson=geo_json_data, locations='FIPS', color='MSL_SVI',\n",
    "                    featureidkey=\"properties.FIPS\",\n",
    "                    hover_data=[\"STATE\", \"COUNTY\"],\n",
    "                    color_continuous_scale=\"Purples\",\n",
    "                    range_color=(0, 1),\n",
    "                    scope=\"usa\",\n",
    "                    labels={'MSL_SVI':'SVI US 2018<br>Minority Status<br>& Language'}\n",
    "                   )\n",
    "fig_msl_svi.update_layout(margin={\"r\":0,\"t\":0,\"l\":0,\"b\":0})\n",
    "\n",
    "fig_msl_svi.write_image(file=\"SVI_Maps/Minority_Status_and_Language.png\", format=\"png\")"
   ]
  },
  {
   "cell_type": "markdown",
   "metadata": {},
   "source": [
    "![Minority_Status_and_Language](SVI_Maps/Minority_Status_and_Language.png)"
   ]
  },
  {
   "cell_type": "markdown",
   "metadata": {},
   "source": [
    "### Housing Type & Transportation Map"
   ]
  },
  {
   "cell_type": "code",
   "execution_count": 19,
   "metadata": {},
   "outputs": [],
   "source": [
    "fig_htt_svi = px.choropleth(svi, geojson=geo_json_data, locations='FIPS', color='HTT_SVI',\n",
    "                    featureidkey=\"properties.FIPS\",\n",
    "                    hover_data=[\"STATE\", \"COUNTY\"],\n",
    "                    color_continuous_scale=\"Blues\",\n",
    "                    range_color=(0, 1),\n",
    "                    scope=\"usa\",\n",
    "                    labels={'HTT_SVI':'SVI US 2018<br>Housing Type<br>& Transportation'}\n",
    "                   )\n",
    "fig_htt_svi.update_layout(margin={\"r\":0,\"t\":0,\"l\":0,\"b\":0})\n",
    "\n",
    "fig_htt_svi.write_image(file=\"SVI_Maps/Housing_Type_and_Transportation.png\", format=\"png\")"
   ]
  },
  {
   "cell_type": "markdown",
   "metadata": {},
   "source": [
    "![Housing_Type_and_Transportation](SVI_Maps/Housing_Type_and_Transportation.png)"
   ]
  },
  {
   "cell_type": "markdown",
   "metadata": {},
   "source": [
    "<hr>"
   ]
  },
  {
   "cell_type": "markdown",
   "metadata": {},
   "source": [
    "## Sources"
   ]
  },
  {
   "cell_type": "markdown",
   "metadata": {},
   "source": [
    "- SVI Documentation : https://svi.cdc.gov/\n",
    "- Choropleth Maps in Python with Plotly : https://plotly.com/python/choropleth-maps/"
   ]
  }
 ],
 "metadata": {
  "kernelspec": {
   "display_name": "Python 3",
   "language": "python",
   "name": "python3"
  },
  "language_info": {
   "codemirror_mode": {
    "name": "ipython",
    "version": 3
   },
   "file_extension": ".py",
   "mimetype": "text/x-python",
   "name": "python",
   "nbconvert_exporter": "python",
   "pygments_lexer": "ipython3",
   "version": "3.7.6"
  }
 },
 "nbformat": 4,
 "nbformat_minor": 4
}
