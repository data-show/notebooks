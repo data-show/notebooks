{
 "cells": [
  {
   "cell_type": "markdown",
   "metadata": {},
   "source": [
    "# Social Vulnerability Index 2018 - United States "
   ]
  },
  {
   "cell_type": "markdown",
   "metadata": {},
   "source": [
    "<hr>"
   ]
  },
  {
   "cell_type": "markdown",
   "metadata": {},
   "source": [
    "CDC’s Social Vulnerability Index (SVI) is a tool to spatially identify and socially vulnerable populations. The SVI uses U.S. Census variables that reflect at-risk populations to identify and map vulnerable areas. Information on the location and relative concentration of different types of social vulnerabilities in small geographic areas, such as census tracts can help emergency managers locate and plan for the specific needs of their communities, before, during, and after a disaster.\n",
    "\n",
    "The SVI draws together 15 different measures of vulnerability in 4 different themes : \n",
    "- Socio-Economic \n",
    "- Household Composition & Disability \n",
    "- Minority Status & Language \n",
    "- Housing Type & Transportation\n",
    "\n",
    "Using a percentile ranking method, each tract receives a separate ranking from 0 (lowest vulnerability) to 1 (highest vulnerability) for each of the 4 themes, as well as an overall ranking."
   ]
  },
  {
   "cell_type": "markdown",
   "metadata": {},
   "source": [
    "## Import required libraries"
   ]
  },
  {
   "cell_type": "code",
   "execution_count": 1,
   "metadata": {},
   "outputs": [],
   "source": [
    "from IPython.display import Image\n",
    "import pandas as pd\n",
    "import numpy as np\n",
    "import geopandas as gpd\n",
    "import json\n",
    "import plotly.express as px"
   ]
  },
  {
   "cell_type": "markdown",
   "metadata": {},
   "source": [
    "## Data pre-processing"
   ]
  },
  {
   "cell_type": "markdown",
   "metadata": {},
   "source": [
    "To visualize the Social Vulnerability Index in the US, we chose to use a Choropleth Map which is a map composed of colored polygons. It is a useful way to represent spatial variations of a quantity.\n",
    "\n",
    "In order to make Choropleth Maps we need two main types of input :\n",
    "\n",
    "1. Geometry information to shape the map : here a JSON file\n",
    "2. A list of values indexed by feature identifier to color the map : here a CSV file"
   ]
  },
  {
   "cell_type": "markdown",
   "metadata": {},
   "source": [
    "### JSON file"
   ]
  },
  {
   "cell_type": "markdown",
   "metadata": {},
   "source": [
    "Here we load a CSV file containing the geometry information for US counties, where `feature.id` is a *'FIPS'* code.\n",
    "\n",
    "We only keep the columns required and convert the CSV file into a GeoJSON file."
   ]
  },
  {
   "cell_type": "code",
   "execution_count": 2,
   "metadata": {},
   "outputs": [],
   "source": [
    "map_path = 'Data/SVI2018_US_county.shp'\n",
    "map_df = gpd.read_file(map_path)\n",
    "\n",
    "map_df.drop(map_df.loc[:, 'LOCATION':'Shape_STLe'].columns, inplace=True, axis = 1)\n",
    "\n",
    "geo_json_data = json.loads(map_df.to_json())"
   ]
  },
  {
   "cell_type": "markdown",
   "metadata": {},
   "source": [
    "### CSV file"
   ]
  },
  {
   "cell_type": "markdown",
   "metadata": {},
   "source": [
    "Here we load the CSV file which contains the SVI data by county, also indexed by *'FIPS'* code.\n",
    "\n",
    "We select and properly rename the required columns to color our maps.\n",
    "\n",
    "In the dataset, values of -999 represent \"null\" or \"no data\", so we replace these values by special value `np.nan` in order to ignore them on our mapping."
   ]
  },
  {
   "cell_type": "code",
   "execution_count": 3,
   "metadata": {},
   "outputs": [
    {
     "data": {
      "text/html": [
       "<div>\n",
       "<style scoped>\n",
       "    .dataframe tbody tr th:only-of-type {\n",
       "        vertical-align: middle;\n",
       "    }\n",
       "\n",
       "    .dataframe tbody tr th {\n",
       "        vertical-align: top;\n",
       "    }\n",
       "\n",
       "    .dataframe thead th {\n",
       "        text-align: right;\n",
       "    }\n",
       "</style>\n",
       "<table border=\"1\" class=\"dataframe\">\n",
       "  <thead>\n",
       "    <tr style=\"text-align: right;\">\n",
       "      <th></th>\n",
       "      <th>ST</th>\n",
       "      <th>STATE</th>\n",
       "      <th>ST_ABBR</th>\n",
       "      <th>COUNTY</th>\n",
       "      <th>FIPS</th>\n",
       "      <th>SS_SVI</th>\n",
       "      <th>HCD_SVI</th>\n",
       "      <th>MSL_SVI</th>\n",
       "      <th>HTT_SVI</th>\n",
       "      <th>SVI</th>\n",
       "    </tr>\n",
       "  </thead>\n",
       "  <tbody>\n",
       "    <tr>\n",
       "      <th>0</th>\n",
       "      <td>35</td>\n",
       "      <td>NEW MEXICO</td>\n",
       "      <td>NM</td>\n",
       "      <td>Rio Arriba</td>\n",
       "      <td>35039</td>\n",
       "      <td>NaN</td>\n",
       "      <td>0.8758</td>\n",
       "      <td>0.9268</td>\n",
       "      <td>0.5409</td>\n",
       "      <td>NaN</td>\n",
       "    </tr>\n",
       "    <tr>\n",
       "      <th>1</th>\n",
       "      <td>1</td>\n",
       "      <td>ALABAMA</td>\n",
       "      <td>AL</td>\n",
       "      <td>Autauga</td>\n",
       "      <td>01001</td>\n",
       "      <td>0.3631</td>\n",
       "      <td>0.5810</td>\n",
       "      <td>0.5947</td>\n",
       "      <td>0.3741</td>\n",
       "      <td>0.4354</td>\n",
       "    </tr>\n",
       "    <tr>\n",
       "      <th>2</th>\n",
       "      <td>1</td>\n",
       "      <td>ALABAMA</td>\n",
       "      <td>AL</td>\n",
       "      <td>Blount</td>\n",
       "      <td>01009</td>\n",
       "      <td>0.6143</td>\n",
       "      <td>0.3187</td>\n",
       "      <td>0.5915</td>\n",
       "      <td>0.1741</td>\n",
       "      <td>0.4242</td>\n",
       "    </tr>\n",
       "    <tr>\n",
       "      <th>3</th>\n",
       "      <td>1</td>\n",
       "      <td>ALABAMA</td>\n",
       "      <td>AL</td>\n",
       "      <td>Butler</td>\n",
       "      <td>01013</td>\n",
       "      <td>0.8455</td>\n",
       "      <td>0.9077</td>\n",
       "      <td>0.6447</td>\n",
       "      <td>0.6259</td>\n",
       "      <td>0.8653</td>\n",
       "    </tr>\n",
       "    <tr>\n",
       "      <th>4</th>\n",
       "      <td>1</td>\n",
       "      <td>ALABAMA</td>\n",
       "      <td>AL</td>\n",
       "      <td>Calhoun</td>\n",
       "      <td>01015</td>\n",
       "      <td>0.7866</td>\n",
       "      <td>0.8303</td>\n",
       "      <td>0.6507</td>\n",
       "      <td>0.6492</td>\n",
       "      <td>0.8252</td>\n",
       "    </tr>\n",
       "  </tbody>\n",
       "</table>\n",
       "</div>"
      ],
      "text/plain": [
       "   ST       STATE ST_ABBR      COUNTY   FIPS  SS_SVI  HCD_SVI  MSL_SVI  \\\n",
       "0  35  NEW MEXICO      NM  Rio Arriba  35039     NaN   0.8758   0.9268   \n",
       "1   1     ALABAMA      AL     Autauga  01001  0.3631   0.5810   0.5947   \n",
       "2   1     ALABAMA      AL      Blount  01009  0.6143   0.3187   0.5915   \n",
       "3   1     ALABAMA      AL      Butler  01013  0.8455   0.9077   0.6447   \n",
       "4   1     ALABAMA      AL     Calhoun  01015  0.7866   0.8303   0.6507   \n",
       "\n",
       "   HTT_SVI     SVI  \n",
       "0   0.5409     NaN  \n",
       "1   0.3741  0.4354  \n",
       "2   0.1741  0.4242  \n",
       "3   0.6259  0.8653  \n",
       "4   0.6492  0.8252  "
      ]
     },
     "execution_count": 3,
     "metadata": {},
     "output_type": "execute_result"
    }
   ],
   "source": [
    "df = pd.read_csv('Data/SVI2018_US_COUNTY.csv', dtype={\"FIPS\": str})\n",
    "\n",
    "\n",
    "df.rename(columns={'RPL_THEME1':'SS_SVI', 'RPL_THEME2':'HCD_SVI', 'RPL_THEME3':'MSL_SVI', 'RPL_THEME4':'HTT_SVI', 'RPL_THEMES': 'SVI'}, inplace=True)\n",
    "df.replace(-999.0, np.nan, inplace=True)\n",
    "svi = df[['ST','STATE','ST_ABBR','COUNTY','FIPS','SS_SVI','HCD_SVI','MSL_SVI','HTT_SVI','SVI']]\n",
    "\n",
    "svi.head()"
   ]
  },
  {
   "cell_type": "markdown",
   "metadata": {},
   "source": [
    "## SVI Mapping"
   ]
  },
  {
   "cell_type": "markdown",
   "metadata": {},
   "source": [
    "To create our Choropleth Maps we will use Plotly Express' `px.choropleth` function.\n",
    "\n",
    "The GeoJSON data is passed to the `geojson` argument, and the data is passed into the `color` argument of `px.choropleth`, in the same order as the IDs are passed into the `locations` argument.\n",
    "\n",
    "We use the `featureidkey` parameter to specify where to match the values of `locations`. Here we use the *'FIPS'* key in the `properties` field.\n",
    "\n",
    "The SVI score is ranked from 0 (lowest vulnerability) to 1 (highest vulnerability), which is why we have defined the `range_color` from 0 to 1.\n",
    "\n",
    "Our dataset focusing on the United States, we have set `layout.geo.scope` to *'usa'* to automatically configure the map to display data centered on the United States in an appropriate projection."
   ]
  },
  {
   "cell_type": "markdown",
   "metadata": {},
   "source": [
    "### Overall SVI Map"
   ]
  },
  {
   "cell_type": "code",
   "execution_count": 4,
   "metadata": {},
   "outputs": [
    {
     "ename": "ValueError",
     "evalue": "\nThe orca executable is required in order to export figures as static images,\nbut the executable that was found at '/opt/conda/bin/orca'\ndoes not seem to be a valid plotly orca executable. Please refer to the end of\nthis message for details on what went wrong.\n\nIf you haven't installed orca yet, you can do so using conda as follows:\n\n    $ conda install -c plotly plotly-orca\n\nAlternatively, see other installation methods in the orca project README at\nhttps://github.com/plotly/orca\n\nAfter installation is complete, no further configuration should be needed.\n\nIf you have installed orca, then for some reason plotly.py was unable to\nlocate it. In this case, set the `plotly.io.orca.config.executable`\nproperty to the full path of your orca executable. For example:\n\n    >>> plotly.io.orca.config.executable = '/path/to/orca'\n\nAfter updating this executable property, try the export operation again.\nIf it is successful then you may want to save this configuration so that it\nwill be applied automatically in future sessions. You can do this as follows:\n\n    >>> plotly.io.orca.config.save()\n\nIf you're still having trouble, feel free to ask for help on the forums at\nhttps://community.plot.ly/c/api/python\n\nHere is the error that was returned by the command\n    $ /usr/bin/xvfb-run --auto-servernum --server-args -screen 0 640x480x24 +extension RANDR +extension GLX /opt/conda/bin/orca --help\n\n[Return code: 127]\n\nNote: When used on Linux, orca requires an X11 display server, but none was\ndetected. Please install Xvfb and configure plotly.py to run orca using Xvfb\nas follows:\n\n    >>> import plotly.io as pio\n    >>> pio.orca.config.use_xvfb = True\n    \nYou can save this configuration for use in future sessions as follows:\n\n    >>> pio.orca.config.save() \n    \nSee https://www.x.org/releases/X11R7.6/doc/man/man1/Xvfb.1.xhtml\nfor more info on Xvfb\n",
     "output_type": "error",
     "traceback": [
      "\u001b[0;31m---------------------------------------------------------------------------\u001b[0m",
      "\u001b[0;31mValueError\u001b[0m                                Traceback (most recent call last)",
      "\u001b[0;32m<ipython-input-4-2f545757ee75>\u001b[0m in \u001b[0;36m<module>\u001b[0;34m\u001b[0m\n\u001b[1;32m     33\u001b[0m )\n\u001b[1;32m     34\u001b[0m \u001b[0;34m\u001b[0m\u001b[0m\n\u001b[0;32m---> 35\u001b[0;31m \u001b[0mImage\u001b[0m\u001b[0;34m(\u001b[0m\u001b[0mdata\u001b[0m\u001b[0;34m=\u001b[0m\u001b[0mfig_svi\u001b[0m\u001b[0;34m.\u001b[0m\u001b[0mto_image\u001b[0m\u001b[0;34m(\u001b[0m\u001b[0;34m)\u001b[0m\u001b[0;34m)\u001b[0m\u001b[0;34m\u001b[0m\u001b[0;34m\u001b[0m\u001b[0m\n\u001b[0m",
      "\u001b[0;32m/opt/conda/lib/python3.8/site-packages/plotly/basedatatypes.py\u001b[0m in \u001b[0;36mto_image\u001b[0;34m(self, *args, **kwargs)\u001b[0m\n\u001b[1;32m   2817\u001b[0m         \u001b[0;32mimport\u001b[0m \u001b[0mplotly\u001b[0m\u001b[0;34m.\u001b[0m\u001b[0mio\u001b[0m \u001b[0;32mas\u001b[0m \u001b[0mpio\u001b[0m\u001b[0;34m\u001b[0m\u001b[0;34m\u001b[0m\u001b[0m\n\u001b[1;32m   2818\u001b[0m \u001b[0;34m\u001b[0m\u001b[0m\n\u001b[0;32m-> 2819\u001b[0;31m         \u001b[0;32mreturn\u001b[0m \u001b[0mpio\u001b[0m\u001b[0;34m.\u001b[0m\u001b[0mto_image\u001b[0m\u001b[0;34m(\u001b[0m\u001b[0mself\u001b[0m\u001b[0;34m,\u001b[0m \u001b[0;34m*\u001b[0m\u001b[0margs\u001b[0m\u001b[0;34m,\u001b[0m \u001b[0;34m**\u001b[0m\u001b[0mkwargs\u001b[0m\u001b[0;34m)\u001b[0m\u001b[0;34m\u001b[0m\u001b[0;34m\u001b[0m\u001b[0m\n\u001b[0m\u001b[1;32m   2820\u001b[0m \u001b[0;34m\u001b[0m\u001b[0m\n\u001b[1;32m   2821\u001b[0m     \u001b[0;32mdef\u001b[0m \u001b[0mwrite_image\u001b[0m\u001b[0;34m(\u001b[0m\u001b[0mself\u001b[0m\u001b[0;34m,\u001b[0m \u001b[0;34m*\u001b[0m\u001b[0margs\u001b[0m\u001b[0;34m,\u001b[0m \u001b[0;34m**\u001b[0m\u001b[0mkwargs\u001b[0m\u001b[0;34m)\u001b[0m\u001b[0;34m:\u001b[0m\u001b[0;34m\u001b[0m\u001b[0;34m\u001b[0m\u001b[0m\n",
      "\u001b[0;32m/opt/conda/lib/python3.8/site-packages/plotly/io/_orca.py\u001b[0m in \u001b[0;36mto_image\u001b[0;34m(fig, format, width, height, scale, validate)\u001b[0m\n\u001b[1;32m   1533\u001b[0m     \u001b[0;31m# Make sure orca sever is running\u001b[0m\u001b[0;34m\u001b[0m\u001b[0;34m\u001b[0m\u001b[0;34m\u001b[0m\u001b[0m\n\u001b[1;32m   1534\u001b[0m     \u001b[0;31m# -------------------------------\u001b[0m\u001b[0;34m\u001b[0m\u001b[0;34m\u001b[0m\u001b[0;34m\u001b[0m\u001b[0m\n\u001b[0;32m-> 1535\u001b[0;31m     \u001b[0mensure_server\u001b[0m\u001b[0;34m(\u001b[0m\u001b[0;34m)\u001b[0m\u001b[0;34m\u001b[0m\u001b[0;34m\u001b[0m\u001b[0m\n\u001b[0m\u001b[1;32m   1536\u001b[0m \u001b[0;34m\u001b[0m\u001b[0m\n\u001b[1;32m   1537\u001b[0m     \u001b[0;31m# Handle defaults\u001b[0m\u001b[0;34m\u001b[0m\u001b[0;34m\u001b[0m\u001b[0;34m\u001b[0m\u001b[0m\n",
      "\u001b[0;32m/opt/conda/lib/python3.8/site-packages/plotly/io/_orca.py\u001b[0m in \u001b[0;36mensure_server\u001b[0;34m()\u001b[0m\n\u001b[1;32m   1388\u001b[0m         \u001b[0;31m# Validate orca executable only if server_url is not provided\u001b[0m\u001b[0;34m\u001b[0m\u001b[0;34m\u001b[0m\u001b[0;34m\u001b[0m\u001b[0m\n\u001b[1;32m   1389\u001b[0m         \u001b[0;32mif\u001b[0m \u001b[0mstatus\u001b[0m\u001b[0;34m.\u001b[0m\u001b[0mstate\u001b[0m \u001b[0;34m==\u001b[0m \u001b[0;34m\"unvalidated\"\u001b[0m\u001b[0;34m:\u001b[0m\u001b[0;34m\u001b[0m\u001b[0;34m\u001b[0m\u001b[0m\n\u001b[0;32m-> 1390\u001b[0;31m             \u001b[0mvalidate_executable\u001b[0m\u001b[0;34m(\u001b[0m\u001b[0;34m)\u001b[0m\u001b[0;34m\u001b[0m\u001b[0;34m\u001b[0m\u001b[0m\n\u001b[0m\u001b[1;32m   1391\u001b[0m         \u001b[0;31m# Acquire lock to make sure that we keep the properties of orca_state\u001b[0m\u001b[0;34m\u001b[0m\u001b[0;34m\u001b[0m\u001b[0;34m\u001b[0m\u001b[0m\n\u001b[1;32m   1392\u001b[0m         \u001b[0;31m# consistent across threads\u001b[0m\u001b[0;34m\u001b[0m\u001b[0;34m\u001b[0m\u001b[0;34m\u001b[0m\u001b[0m\n",
      "\u001b[0;32m/opt/conda/lib/python3.8/site-packages/plotly/io/_orca.py\u001b[0m in \u001b[0;36mvalidate_executable\u001b[0;34m()\u001b[0m\n\u001b[1;32m   1182\u001b[0m \u001b[0;32mfor\u001b[0m \u001b[0mmore\u001b[0m \u001b[0minfo\u001b[0m \u001b[0mon\u001b[0m \u001b[0mXvfb\u001b[0m\u001b[0;34m\u001b[0m\u001b[0;34m\u001b[0m\u001b[0m\n\u001b[1;32m   1183\u001b[0m \"\"\"\n\u001b[0;32m-> 1184\u001b[0;31m         \u001b[0;32mraise\u001b[0m \u001b[0mValueError\u001b[0m\u001b[0;34m(\u001b[0m\u001b[0merr_msg\u001b[0m\u001b[0;34m)\u001b[0m\u001b[0;34m\u001b[0m\u001b[0;34m\u001b[0m\u001b[0m\n\u001b[0m\u001b[1;32m   1185\u001b[0m \u001b[0;34m\u001b[0m\u001b[0m\n\u001b[1;32m   1186\u001b[0m     \u001b[0;32mif\u001b[0m \u001b[0;32mnot\u001b[0m \u001b[0mhelp_result\u001b[0m\u001b[0;34m:\u001b[0m\u001b[0;34m\u001b[0m\u001b[0;34m\u001b[0m\u001b[0m\n",
      "\u001b[0;31mValueError\u001b[0m: \nThe orca executable is required in order to export figures as static images,\nbut the executable that was found at '/opt/conda/bin/orca'\ndoes not seem to be a valid plotly orca executable. Please refer to the end of\nthis message for details on what went wrong.\n\nIf you haven't installed orca yet, you can do so using conda as follows:\n\n    $ conda install -c plotly plotly-orca\n\nAlternatively, see other installation methods in the orca project README at\nhttps://github.com/plotly/orca\n\nAfter installation is complete, no further configuration should be needed.\n\nIf you have installed orca, then for some reason plotly.py was unable to\nlocate it. In this case, set the `plotly.io.orca.config.executable`\nproperty to the full path of your orca executable. For example:\n\n    >>> plotly.io.orca.config.executable = '/path/to/orca'\n\nAfter updating this executable property, try the export operation again.\nIf it is successful then you may want to save this configuration so that it\nwill be applied automatically in future sessions. You can do this as follows:\n\n    >>> plotly.io.orca.config.save()\n\nIf you're still having trouble, feel free to ask for help on the forums at\nhttps://community.plot.ly/c/api/python\n\nHere is the error that was returned by the command\n    $ /usr/bin/xvfb-run --auto-servernum --server-args -screen 0 640x480x24 +extension RANDR +extension GLX /opt/conda/bin/orca --help\n\n[Return code: 127]\n\nNote: When used on Linux, orca requires an X11 display server, but none was\ndetected. Please install Xvfb and configure plotly.py to run orca using Xvfb\nas follows:\n\n    >>> import plotly.io as pio\n    >>> pio.orca.config.use_xvfb = True\n    \nYou can save this configuration for use in future sessions as follows:\n\n    >>> pio.orca.config.save() \n    \nSee https://www.x.org/releases/X11R7.6/doc/man/man1/Xvfb.1.xhtml\nfor more info on Xvfb\n"
     ]
    }
   ],
   "source": [
    "fig_svi = px.choropleth(svi, \n",
    "                        geojson=geo_json_data, \n",
    "                        locations='FIPS', \n",
    "                        color='SVI', \n",
    "                        featureidkey='properties.FIPS',\n",
    "                        hover_data=['STATE', 'COUNTY'],\n",
    "                        color_continuous_scale=\"YlOrRd\",\n",
    "                        range_color=(0, 1),\n",
    "                        scope='usa',\n",
    "                        title='U.S. Social Vulnerability Index 2018 - Overall Map<br>' + \n",
    "                        '<i>Data Source : Agency for Toxic Substances and Disease Registry (ATSDR)</i>',\n",
    "                        labels={'SVI':'SVI US 2018'}\n",
    "                       )\n",
    "\n",
    "#Styling\n",
    "fig_svi.update_layout(\n",
    "    font_family='Rockwell',\n",
    "    font_color='grey',\n",
    "    font_size=12,\n",
    "    title_font_family='Rockwell',\n",
    "    title_font_color='grey',\n",
    "    title_font_size=20\n",
    ")\n",
    "\n",
    "# Add watermark\n",
    "fig_svi.add_layout_image(\n",
    "    dict(\n",
    "        source='../extra/Datashow_Logo.png',\n",
    "        xref='paper', yref='paper',\n",
    "        x=1.1, y=-0.2,\n",
    "        sizex=0.2, sizey=0.2,\n",
    "        xanchor='right', yanchor='bottom')\n",
    ")\n",
    "\n",
    "Image(data=fig_svi.to_image())"
   ]
  },
  {
   "cell_type": "markdown",
   "metadata": {},
   "source": [
    "### Socio-Economic Status Map"
   ]
  },
  {
   "cell_type": "code",
   "execution_count": null,
   "metadata": {},
   "outputs": [],
   "source": [
    "fig_ss_svi = px.choropleth(svi, \n",
    "                           geojson=geo_json_data, \n",
    "                           locations='FIPS', \n",
    "                           color='SS_SVI', \n",
    "                           featureidkey='properties.FIPS', \n",
    "                           hover_data=['STATE', 'COUNTY'],\n",
    "                           color_continuous_scale='Greens', \n",
    "                           range_color=(0, 1), \n",
    "                           scope='usa', \n",
    "                           title='U.S. Social Vulnerability Index 2018 - Socio-Economic Status Map<br>' + \n",
    "                           '<i>Data Source : Agency for Toxic Substances and Disease Registry (ATSDR)</i>', \n",
    "                           labels={'SS_SVI':'SVI US 2018<br>Socio-Economic Status'}\n",
    "                          )\n",
    "\n",
    "#Styling\n",
    "fig_ss_svi.update_layout(\n",
    "    font_family='Rockwell',\n",
    "    font_color='grey',\n",
    "    font_size=12,\n",
    "    title_font_family='Rockwell',\n",
    "    title_font_color='grey',\n",
    "    title_font_size=20\n",
    ")\n",
    "\n",
    "# Add watermark\n",
    "fig_ss_svi.add_layout_image(\n",
    "    dict(\n",
    "        source='../extra/Datashow_Logo.png',\n",
    "        xref='paper', yref='paper',\n",
    "        x=1.2, y=-0.2,\n",
    "        sizex=0.2, sizey=0.2,\n",
    "        xanchor='right', yanchor='bottom')\n",
    ")\n",
    "\n",
    "Image(data=fig_ss_svi.to_image())"
   ]
  },
  {
   "cell_type": "markdown",
   "metadata": {},
   "source": [
    "### Household Composition & Disability Map"
   ]
  },
  {
   "cell_type": "code",
   "execution_count": null,
   "metadata": {},
   "outputs": [],
   "source": [
    "fig_hcd_svi = px.choropleth(svi, \n",
    "                            geojson=geo_json_data, \n",
    "                            locations='FIPS', \n",
    "                            color='HCD_SVI', \n",
    "                            featureidkey='properties.FIPS',\n",
    "                            hover_data=['STATE', 'COUNTY'],\n",
    "                            color_continuous_scale='YlOrBr',\n",
    "                            range_color=(0, 1),\n",
    "                            scope='usa',\n",
    "                            title='U.S. Social Vulnerability Index 2018 - Household Composition & Disability Map<br>' + \n",
    "                            '<i>Data Source : Agency for Toxic Substances and Disease Registry (ATSDR)</i>',\n",
    "                            labels={'HCD_SVI':'SVI US 2018<br>Household Composition<br>& Disability'}\n",
    "                           )\n",
    "\n",
    "#Styling\n",
    "fig_hcd_svi.update_layout(\n",
    "    font_family='Rockwell',\n",
    "    font_color='grey',\n",
    "    font_size=12,\n",
    "    title_font_family='Rockwell',\n",
    "    title_font_color='grey',\n",
    "    title_font_size=20\n",
    ")\n",
    "\n",
    "# Add watermark\n",
    "fig_hcd_svi.add_layout_image(\n",
    "    dict(\n",
    "        source='../extra/Datashow_Logo.png',\n",
    "        xref='paper', yref='paper',\n",
    "        x=1.2, y=-0.2,\n",
    "        sizex=0.2, sizey=0.2,\n",
    "        xanchor='right', yanchor='bottom')\n",
    ")\n",
    "\n",
    "Image(data=fig_hcd_svi.to_image())"
   ]
  },
  {
   "cell_type": "markdown",
   "metadata": {},
   "source": [
    "### Minority Status & Language Map"
   ]
  },
  {
   "cell_type": "code",
   "execution_count": null,
   "metadata": {},
   "outputs": [],
   "source": [
    "fig_msl_svi = px.choropleth(svi, \n",
    "                            geojson=geo_json_data, \n",
    "                            locations='FIPS', \n",
    "                            color='MSL_SVI',\n",
    "                            featureidkey='properties.FIPS',\n",
    "                            hover_data=['STATE', 'COUNTY'],\n",
    "                            color_continuous_scale=\"Purples\",\n",
    "                            range_color=(0, 1),\n",
    "                            scope='usa',\n",
    "                            title='U.S. Social Vulnerability Index 2018 - Minority Status & Language Map<br>' + \n",
    "                            '<i>Data Source : Agency for Toxic Substances and Disease Registry (ATSDR)</i>',\n",
    "                            labels={'MSL_SVI':'SVI US 2018<br>Minority Status<br>& Language'}\n",
    "                           )\n",
    "\n",
    "#Styling\n",
    "fig_msl_svi.update_layout(\n",
    "    font_family='Rockwell',\n",
    "    font_color='grey',\n",
    "    font_size=12,\n",
    "    title_font_family='Rockwell',\n",
    "    title_font_color='grey',\n",
    "    title_font_size=20\n",
    ")\n",
    "\n",
    "# Add watermark\n",
    "fig_msl_svi.add_layout_image(\n",
    "    dict(\n",
    "        source='../extra/Datashow_Logo.png',\n",
    "        xref='paper', yref='paper',\n",
    "        x=1.15, y=-0.2,\n",
    "        sizex=0.2, sizey=0.2,\n",
    "        xanchor='right', yanchor='bottom')\n",
    ")\n",
    "\n",
    "Image(data=fig_msl_svi.to_image())"
   ]
  },
  {
   "cell_type": "markdown",
   "metadata": {},
   "source": [
    "### Housing Type & Transportation Map"
   ]
  },
  {
   "cell_type": "code",
   "execution_count": null,
   "metadata": {},
   "outputs": [],
   "source": [
    "fig_htt_svi = px.choropleth(svi, \n",
    "                            geojson=geo_json_data, \n",
    "                            locations='FIPS', \n",
    "                            color='HTT_SVI',\n",
    "                            featureidkey='properties.FIPS',\n",
    "                            hover_data=['STATE', 'COUNTY'],\n",
    "                            color_continuous_scale='Blues',\n",
    "                            range_color=(0, 1),\n",
    "                            scope='usa',\n",
    "                            title='U.S. Social Vulnerability Index 2018 - Housing Type & Transportation Map<br>' + \n",
    "                            '<i>Data Source : Agency for Toxic Substances and Disease Registry (ATSDR)</i>',\n",
    "                            labels={'HTT_SVI':'SVI US 2018<br>Housing Type<br>& Transportation'}\n",
    "                           )\n",
    "\n",
    "#Styling\n",
    "fig_htt_svi.update_layout(\n",
    "    font_family='Rockwell',\n",
    "    font_color='grey',\n",
    "    font_size=12,\n",
    "    title_font_family='Rockwell',\n",
    "    title_font_color='grey',\n",
    "    title_font_size=20\n",
    ")\n",
    "\n",
    "# Add watermark\n",
    "fig_htt_svi.add_layout_image(\n",
    "    dict(\n",
    "        source='../extra/Datashow_Logo.png',\n",
    "        xref='paper', yref='paper',\n",
    "        x=1.15, y=-0.2,\n",
    "        sizex=0.2, sizey=0.2,\n",
    "        xanchor='right', yanchor='bottom')\n",
    ")\n",
    "\n",
    "Image(data=fig_htt_svi.to_image())"
   ]
  },
  {
   "cell_type": "markdown",
   "metadata": {},
   "source": [
    "<hr>"
   ]
  },
  {
   "cell_type": "markdown",
   "metadata": {},
   "source": [
    "## Sources"
   ]
  },
  {
   "cell_type": "markdown",
   "metadata": {},
   "source": [
    "SVI Documentation & Data from [https://svi.cdc.gov/data-and-tools-download.html](Agency for Toxic Substances and Disease Registry)"
   ]
  }
 ],
 "metadata": {
  "kernelspec": {
   "display_name": "Python 3",
   "language": "python",
   "name": "python3"
  },
  "language_info": {
   "codemirror_mode": {
    "name": "ipython",
    "version": 3
   },
   "file_extension": ".py",
   "mimetype": "text/x-python",
   "name": "python",
   "nbconvert_exporter": "python",
   "pygments_lexer": "ipython3",
   "version": "3.8.5"
  }
 },
 "nbformat": 4,
 "nbformat_minor": 4
}
