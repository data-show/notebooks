{
 "cells": [
  {
   "cell_type": "markdown",
   "metadata": {},
   "source": [
    "# Working age population in G7 countries"
   ]
  },
  {
   "cell_type": "markdown",
   "metadata": {},
   "source": [
    "<hr>"
   ]
  },
  {
   "cell_type": "markdown",
   "metadata": {},
   "source": [
    "According to OECD, the working age population corresponds to people aged 15 to 64. This indicator measures the share of the working-age population in the total population. \n",
    "What is the evolution of the working age population indicator in G7 countries over the years ?"
   ]
  },
  {
   "cell_type": "markdown",
   "metadata": {},
   "source": [
    "## Import required libraries"
   ]
  },
  {
   "cell_type": "code",
   "execution_count": 111,
   "metadata": {},
   "outputs": [],
   "source": [
    "import pandas as pd\n",
    "import numpy as np\n",
    "import plotly.express as px\n",
    "import plotly.io as pio\n",
    "import plotly.graph_objects as go\n",
    "from IPython.display import Javascript\n",
    "from plotly.subplots import make_subplots\n",
    "\n",
    "Javascript(\n",
    "\"\"\"require.config({\n",
    " paths: { \n",
    "     plotly: 'https://cdn.plot.ly/plotly-latest.min'\n",
    " }\n",
    "});\"\"\"\n",
    ")\n",
    "\n",
    "pio.renderers.default = 'notebook_connected'"
   ]
  },
  {
   "cell_type": "markdown",
   "metadata": {},
   "source": [
    "## Data pre-processing"
   ]
  },
  {
   "cell_type": "code",
   "execution_count": 112,
   "metadata": {},
   "outputs": [
    {
     "data": {
      "text/html": [
       "<div>\n",
       "<style scoped>\n",
       "    .dataframe tbody tr th:only-of-type {\n",
       "        vertical-align: middle;\n",
       "    }\n",
       "\n",
       "    .dataframe tbody tr th {\n",
       "        vertical-align: top;\n",
       "    }\n",
       "\n",
       "    .dataframe thead th {\n",
       "        text-align: right;\n",
       "    }\n",
       "</style>\n",
       "<table border=\"1\" class=\"dataframe\">\n",
       "  <thead>\n",
       "    <tr style=\"text-align: right;\">\n",
       "      <th></th>\n",
       "      <th>LOCATION</th>\n",
       "      <th>Country</th>\n",
       "      <th>TIME</th>\n",
       "      <th>Value</th>\n",
       "    </tr>\n",
       "  </thead>\n",
       "  <tbody>\n",
       "    <tr>\n",
       "      <th>3753</th>\n",
       "      <td>SGP</td>\n",
       "      <td>Singapore</td>\n",
       "      <td>2011</td>\n",
       "      <td>73.885367</td>\n",
       "    </tr>\n",
       "    <tr>\n",
       "      <th>3754</th>\n",
       "      <td>SGP</td>\n",
       "      <td>Singapore</td>\n",
       "      <td>2012</td>\n",
       "      <td>73.679962</td>\n",
       "    </tr>\n",
       "    <tr>\n",
       "      <th>3752</th>\n",
       "      <td>SGP</td>\n",
       "      <td>Singapore</td>\n",
       "      <td>2010</td>\n",
       "      <td>73.677905</td>\n",
       "    </tr>\n",
       "    <tr>\n",
       "      <th>3755</th>\n",
       "      <td>SGP</td>\n",
       "      <td>Singapore</td>\n",
       "      <td>2013</td>\n",
       "      <td>73.478647</td>\n",
       "    </tr>\n",
       "    <tr>\n",
       "      <th>1127</th>\n",
       "      <td>KOR</td>\n",
       "      <td>Korea</td>\n",
       "      <td>2012</td>\n",
       "      <td>73.418329</td>\n",
       "    </tr>\n",
       "  </tbody>\n",
       "</table>\n",
       "</div>"
      ],
      "text/plain": [
       "     LOCATION    Country  TIME      Value\n",
       "3753      SGP  Singapore  2011  73.885367\n",
       "3754      SGP  Singapore  2012  73.679962\n",
       "3752      SGP  Singapore  2010  73.677905\n",
       "3755      SGP  Singapore  2013  73.478647\n",
       "1127      KOR      Korea  2012  73.418329"
      ]
     },
     "execution_count": 112,
     "metadata": {},
     "output_type": "execute_result"
    }
   ],
   "source": [
    "df_working_age_pop = pd.read_csv('Data/Working_Age_Population_in_OECD_Countries.csv', \n",
    "                              sep=';', \n",
    "                              usecols=['LOCATION', 'Country', 'TIME', 'Value'],\n",
    "                              parse_dates=True\n",
    "                             )\n",
    "\n",
    "df_working_age_pop_bar = df_working_age_pop.sort_values('Value', ascending=False)\n",
    "\n",
    "df_working_age_pop_bar.head()"
   ]
  },
  {
   "cell_type": "markdown",
   "metadata": {},
   "source": [
    "## Plotting"
   ]
  },
  {
   "cell_type": "markdown",
   "metadata": {},
   "source": [
    "### Bar plot"
   ]
  },
  {
   "cell_type": "code",
   "execution_count": 113,
   "metadata": {},
   "outputs": [
    {
     "data": {
      "text/html": [
       "        <script type=\"text/javascript\">\n",
       "        window.PlotlyConfig = {MathJaxConfig: 'local'};\n",
       "        if (window.MathJax) {MathJax.Hub.Config({SVG: {font: \"STIX-Web\"}});}\n",
       "        if (typeof require !== 'undefined') {\n",
       "        require.undef(\"plotly\");\n",
       "        requirejs.config({\n",
       "            paths: {\n",
       "                'plotly': ['https://cdn.plot.ly/plotly-latest.min']\n",
       "            }\n",
       "        });\n",
       "        require(['plotly'], function(Plotly) {\n",
       "            window._Plotly = Plotly;\n",
       "        });\n",
       "        }\n",
       "        </script>\n",
       "        "
      ]
     },
     "metadata": {},
     "output_type": "display_data"
    },
    {
     "data": {
      "text/html": [
       "<div>\n",
       "        \n",
       "        \n",
       "            <div id=\"b7d4aa01-b073-4c16-975a-22e8b0fde332\" class=\"plotly-graph-div\" style=\"height:525px; width:100%;\"></div>\n",
       "            <script type=\"text/javascript\">\n",
       "                require([\"plotly\"], function(Plotly) {\n",
       "                    window.PLOTLYENV=window.PLOTLYENV || {};\n",
       "                    \n",
       "                if (document.getElementById(\"b7d4aa01-b073-4c16-975a-22e8b0fde332\")) {\n",
       "                    Plotly.newPlot(\n",
       "                        'b7d4aa01-b073-4c16-975a-22e8b0fde332',\n",
       "                        [{\"alignmentgroup\": \"True\", \"hovertemplate\": \"<b>%{hovertext}</b><br><br>=%{x}<br>Working age population (%)=%{marker.color}<extra></extra>\", \"hovertext\": [\"Saudi Arabia\", \"Korea\", \"China\", \"Singapore\", \"Luxembourg\", \"Costa Rica\", \"Brazil\", \"Indonesia\", \"Chile\", \"Turkey\", \"Malta\", \"G20\", \"Cyprus\", \"Slovak Republic\", \"India\", \"Iceland\", \"Russia\", \"Mexico\", \"Austria\", \"Poland\", \"Switzerland\", \"Canada\", \"Colombia\", \"Spain\", \"New Zealand\", \"South Africa\", \"Ireland\", \"Hungary\", \"Romania\", \"World\", \"Australia\", \"Norway\", \"Lithuania\", \"OECD - Total\", \"United States\", \"Netherlands\", \"Slovenia\", \"Croatia\", \"Germany\", \"European Union 27\", \"Portugal\", \"Argentina\", \"Belgium\", \"Czech Republic\", \"Bulgaria\", \"Italy\", \"Denmark\", \"United Kingdom\", \"Greece\", \"Estonia\", \"Latvia\", \"Sweden\", \"Finland\", \"France\", \"Israel\", \"Japan\"], \"legendgroup\": \"\", \"marker\": {\"color\": [72.35733139304841, 72.1473373250616, 70.3199132316979, 70.2643037824445, 69.4652553167527, 69.3783501225256, 69.3045091793802, 68.7453125591146, 68.668121743358, 67.7489529012809, 67.7139061848199, 67.6224340242747, 67.4191445608785, 67.30787584951861, 67.26549981216179, 66.7035054112023, 66.6534516641402, 66.5662839774225, 66.4544578267313, 66.2552364249908, 66.2231260282592, 66.12437211944311, 66.1049580561437, 65.9562100658675, 65.4643081514057, 65.3908583185823, 65.36741857214639, 65.3468412239275, 65.2190748827454, 65.2171266345471, 65.0731593196429, 65.0590987368277, 64.9693190071881, 64.8081975461567, 64.8077758818139, 64.7739013272941, 64.4539422872723, 64.42671146577071, 64.3874714448047, 64.2401603953431, 64.2146868716817, 64.132772097472, 63.943657296146, 63.9227656047973, 63.8780129549763, 63.7721995668696, 63.651356136134304, 63.50172240421221, 63.43267427296221, 63.368582730528296, 63.34343270639339, 62.205416864185494, 61.849428840890205, 61.6208403379512, 59.8854054757952, 59.2579628981449], \"coloraxis\": \"coloraxis\"}, \"name\": \"\", \"offsetgroup\": \"\", \"orientation\": \"v\", \"showlegend\": false, \"textposition\": \"auto\", \"type\": \"bar\", \"x\": [\"Saudi Arabia\", \"Korea\", \"China\", \"Singapore\", \"Luxembourg\", \"Costa Rica\", \"Brazil\", \"Indonesia\", \"Chile\", \"Turkey\", \"Malta\", \"G20\", \"Cyprus\", \"Slovak Republic\", \"India\", \"Iceland\", \"Russia\", \"Mexico\", \"Austria\", \"Poland\", \"Switzerland\", \"Canada\", \"Colombia\", \"Spain\", \"New Zealand\", \"South Africa\", \"Ireland\", \"Hungary\", \"Romania\", \"World\", \"Australia\", \"Norway\", \"Lithuania\", \"OECD - Total\", \"United States\", \"Netherlands\", \"Slovenia\", \"Croatia\", \"Germany\", \"European Union 27\", \"Portugal\", \"Argentina\", \"Belgium\", \"Czech Republic\", \"Bulgaria\", \"Italy\", \"Denmark\", \"United Kingdom\", \"Greece\", \"Estonia\", \"Latvia\", \"Sweden\", \"Finland\", \"France\", \"Israel\", \"Japan\"], \"xaxis\": \"x\", \"y\": [72.35733139304841, 72.1473373250616, 70.3199132316979, 70.2643037824445, 69.4652553167527, 69.3783501225256, 69.3045091793802, 68.7453125591146, 68.668121743358, 67.7489529012809, 67.7139061848199, 67.6224340242747, 67.4191445608785, 67.30787584951861, 67.26549981216179, 66.7035054112023, 66.6534516641402, 66.5662839774225, 66.4544578267313, 66.2552364249908, 66.2231260282592, 66.12437211944311, 66.1049580561437, 65.9562100658675, 65.4643081514057, 65.3908583185823, 65.36741857214639, 65.3468412239275, 65.2190748827454, 65.2171266345471, 65.0731593196429, 65.0590987368277, 64.9693190071881, 64.8081975461567, 64.8077758818139, 64.7739013272941, 64.4539422872723, 64.42671146577071, 64.3874714448047, 64.2401603953431, 64.2146868716817, 64.132772097472, 63.943657296146, 63.9227656047973, 63.8780129549763, 63.7721995668696, 63.651356136134304, 63.50172240421221, 63.43267427296221, 63.368582730528296, 63.34343270639339, 62.205416864185494, 61.849428840890205, 61.6208403379512, 59.8854054757952, 59.2579628981449], \"yaxis\": \"y\"}],\n",
       "                        {\"barmode\": \"relative\", \"coloraxis\": {\"colorbar\": {\"title\": {\"text\": \"Working age population (%)\"}}, \"colorscale\": [[0.0, \"rgb(236, 218, 154)\"], [0.16666666666666666, \"rgb(239, 196, 126)\"], [0.3333333333333333, \"rgb(243, 173, 106)\"], [0.5, \"rgb(247, 148, 93)\"], [0.6666666666666666, \"rgb(249, 123, 87)\"], [0.8333333333333334, \"rgb(246, 99, 86)\"], [1.0, \"rgb(238, 77, 90)\"]], \"showscale\": false}, \"font\": {\"color\": \"grey\", \"family\": \"Helvetica\", \"size\": 12}, \"legend\": {\"tracegroupgap\": 0}, \"template\": {\"data\": {\"bar\": [{\"error_x\": {\"color\": \"#2a3f5f\"}, \"error_y\": {\"color\": \"#2a3f5f\"}, \"marker\": {\"line\": {\"color\": \"#E5ECF6\", \"width\": 0.5}}, \"type\": \"bar\"}], \"barpolar\": [{\"marker\": {\"line\": {\"color\": \"#E5ECF6\", \"width\": 0.5}}, \"type\": \"barpolar\"}], \"carpet\": [{\"aaxis\": {\"endlinecolor\": \"#2a3f5f\", \"gridcolor\": \"white\", \"linecolor\": \"white\", \"minorgridcolor\": \"white\", \"startlinecolor\": \"#2a3f5f\"}, \"baxis\": {\"endlinecolor\": \"#2a3f5f\", \"gridcolor\": \"white\", \"linecolor\": \"white\", \"minorgridcolor\": \"white\", \"startlinecolor\": \"#2a3f5f\"}, \"type\": \"carpet\"}], \"choropleth\": [{\"colorbar\": {\"outlinewidth\": 0, \"ticks\": \"\"}, \"type\": \"choropleth\"}], \"contour\": [{\"colorbar\": {\"outlinewidth\": 0, \"ticks\": \"\"}, \"colorscale\": [[0.0, \"#0d0887\"], [0.1111111111111111, \"#46039f\"], [0.2222222222222222, \"#7201a8\"], [0.3333333333333333, \"#9c179e\"], [0.4444444444444444, \"#bd3786\"], [0.5555555555555556, \"#d8576b\"], [0.6666666666666666, \"#ed7953\"], [0.7777777777777778, \"#fb9f3a\"], [0.8888888888888888, \"#fdca26\"], [1.0, \"#f0f921\"]], \"type\": \"contour\"}], \"contourcarpet\": [{\"colorbar\": {\"outlinewidth\": 0, \"ticks\": \"\"}, \"type\": \"contourcarpet\"}], \"heatmap\": [{\"colorbar\": {\"outlinewidth\": 0, \"ticks\": \"\"}, \"colorscale\": [[0.0, \"#0d0887\"], [0.1111111111111111, \"#46039f\"], [0.2222222222222222, \"#7201a8\"], [0.3333333333333333, \"#9c179e\"], [0.4444444444444444, \"#bd3786\"], [0.5555555555555556, \"#d8576b\"], [0.6666666666666666, \"#ed7953\"], [0.7777777777777778, \"#fb9f3a\"], [0.8888888888888888, \"#fdca26\"], [1.0, \"#f0f921\"]], \"type\": \"heatmap\"}], \"heatmapgl\": [{\"colorbar\": {\"outlinewidth\": 0, \"ticks\": \"\"}, \"colorscale\": [[0.0, \"#0d0887\"], [0.1111111111111111, \"#46039f\"], [0.2222222222222222, \"#7201a8\"], [0.3333333333333333, \"#9c179e\"], [0.4444444444444444, \"#bd3786\"], [0.5555555555555556, \"#d8576b\"], [0.6666666666666666, \"#ed7953\"], [0.7777777777777778, \"#fb9f3a\"], [0.8888888888888888, \"#fdca26\"], [1.0, \"#f0f921\"]], \"type\": \"heatmapgl\"}], \"histogram\": [{\"marker\": {\"colorbar\": {\"outlinewidth\": 0, \"ticks\": \"\"}}, \"type\": \"histogram\"}], \"histogram2d\": [{\"colorbar\": {\"outlinewidth\": 0, \"ticks\": \"\"}, \"colorscale\": [[0.0, \"#0d0887\"], [0.1111111111111111, \"#46039f\"], [0.2222222222222222, \"#7201a8\"], [0.3333333333333333, \"#9c179e\"], [0.4444444444444444, \"#bd3786\"], [0.5555555555555556, \"#d8576b\"], [0.6666666666666666, \"#ed7953\"], [0.7777777777777778, \"#fb9f3a\"], [0.8888888888888888, \"#fdca26\"], [1.0, \"#f0f921\"]], \"type\": \"histogram2d\"}], \"histogram2dcontour\": [{\"colorbar\": {\"outlinewidth\": 0, \"ticks\": \"\"}, \"colorscale\": [[0.0, \"#0d0887\"], [0.1111111111111111, \"#46039f\"], [0.2222222222222222, \"#7201a8\"], [0.3333333333333333, \"#9c179e\"], [0.4444444444444444, \"#bd3786\"], [0.5555555555555556, \"#d8576b\"], [0.6666666666666666, \"#ed7953\"], [0.7777777777777778, \"#fb9f3a\"], [0.8888888888888888, \"#fdca26\"], [1.0, \"#f0f921\"]], \"type\": \"histogram2dcontour\"}], \"mesh3d\": [{\"colorbar\": {\"outlinewidth\": 0, \"ticks\": \"\"}, \"type\": \"mesh3d\"}], \"parcoords\": [{\"line\": {\"colorbar\": {\"outlinewidth\": 0, \"ticks\": \"\"}}, \"type\": \"parcoords\"}], \"pie\": [{\"automargin\": true, \"type\": \"pie\"}], \"scatter\": [{\"marker\": {\"colorbar\": {\"outlinewidth\": 0, \"ticks\": \"\"}}, \"type\": \"scatter\"}], \"scatter3d\": [{\"line\": {\"colorbar\": {\"outlinewidth\": 0, \"ticks\": \"\"}}, \"marker\": {\"colorbar\": {\"outlinewidth\": 0, \"ticks\": \"\"}}, \"type\": \"scatter3d\"}], \"scattercarpet\": [{\"marker\": {\"colorbar\": {\"outlinewidth\": 0, \"ticks\": \"\"}}, \"type\": \"scattercarpet\"}], \"scattergeo\": [{\"marker\": {\"colorbar\": {\"outlinewidth\": 0, \"ticks\": \"\"}}, \"type\": \"scattergeo\"}], \"scattergl\": [{\"marker\": {\"colorbar\": {\"outlinewidth\": 0, \"ticks\": \"\"}}, \"type\": \"scattergl\"}], \"scattermapbox\": [{\"marker\": {\"colorbar\": {\"outlinewidth\": 0, \"ticks\": \"\"}}, \"type\": \"scattermapbox\"}], \"scatterpolar\": [{\"marker\": {\"colorbar\": {\"outlinewidth\": 0, \"ticks\": \"\"}}, \"type\": \"scatterpolar\"}], \"scatterpolargl\": [{\"marker\": {\"colorbar\": {\"outlinewidth\": 0, \"ticks\": \"\"}}, \"type\": \"scatterpolargl\"}], \"scatterternary\": [{\"marker\": {\"colorbar\": {\"outlinewidth\": 0, \"ticks\": \"\"}}, \"type\": \"scatterternary\"}], \"surface\": [{\"colorbar\": {\"outlinewidth\": 0, \"ticks\": \"\"}, \"colorscale\": [[0.0, \"#0d0887\"], [0.1111111111111111, \"#46039f\"], [0.2222222222222222, \"#7201a8\"], [0.3333333333333333, \"#9c179e\"], [0.4444444444444444, \"#bd3786\"], [0.5555555555555556, \"#d8576b\"], [0.6666666666666666, \"#ed7953\"], [0.7777777777777778, \"#fb9f3a\"], [0.8888888888888888, \"#fdca26\"], [1.0, \"#f0f921\"]], \"type\": \"surface\"}], \"table\": [{\"cells\": {\"fill\": {\"color\": \"#EBF0F8\"}, \"line\": {\"color\": \"white\"}}, \"header\": {\"fill\": {\"color\": \"#C8D4E3\"}, \"line\": {\"color\": \"white\"}}, \"type\": \"table\"}]}, \"layout\": {\"annotationdefaults\": {\"arrowcolor\": \"#2a3f5f\", \"arrowhead\": 0, \"arrowwidth\": 1}, \"coloraxis\": {\"colorbar\": {\"outlinewidth\": 0, \"ticks\": \"\"}}, \"colorscale\": {\"diverging\": [[0, \"#8e0152\"], [0.1, \"#c51b7d\"], [0.2, \"#de77ae\"], [0.3, \"#f1b6da\"], [0.4, \"#fde0ef\"], [0.5, \"#f7f7f7\"], [0.6, \"#e6f5d0\"], [0.7, \"#b8e186\"], [0.8, \"#7fbc41\"], [0.9, \"#4d9221\"], [1, \"#276419\"]], \"sequential\": [[0.0, \"#0d0887\"], [0.1111111111111111, \"#46039f\"], [0.2222222222222222, \"#7201a8\"], [0.3333333333333333, \"#9c179e\"], [0.4444444444444444, \"#bd3786\"], [0.5555555555555556, \"#d8576b\"], [0.6666666666666666, \"#ed7953\"], [0.7777777777777778, \"#fb9f3a\"], [0.8888888888888888, \"#fdca26\"], [1.0, \"#f0f921\"]], \"sequentialminus\": [[0.0, \"#0d0887\"], [0.1111111111111111, \"#46039f\"], [0.2222222222222222, \"#7201a8\"], [0.3333333333333333, \"#9c179e\"], [0.4444444444444444, \"#bd3786\"], [0.5555555555555556, \"#d8576b\"], [0.6666666666666666, \"#ed7953\"], [0.7777777777777778, \"#fb9f3a\"], [0.8888888888888888, \"#fdca26\"], [1.0, \"#f0f921\"]]}, \"colorway\": [\"#636efa\", \"#EF553B\", \"#00cc96\", \"#ab63fa\", \"#FFA15A\", \"#19d3f3\", \"#FF6692\", \"#B6E880\", \"#FF97FF\", \"#FECB52\"], \"font\": {\"color\": \"#2a3f5f\"}, \"geo\": {\"bgcolor\": \"white\", \"lakecolor\": \"white\", \"landcolor\": \"#E5ECF6\", \"showlakes\": true, \"showland\": true, \"subunitcolor\": \"white\"}, \"hoverlabel\": {\"align\": \"left\"}, \"hovermode\": \"closest\", \"mapbox\": {\"style\": \"light\"}, \"paper_bgcolor\": \"white\", \"plot_bgcolor\": \"#E5ECF6\", \"polar\": {\"angularaxis\": {\"gridcolor\": \"white\", \"linecolor\": \"white\", \"ticks\": \"\"}, \"bgcolor\": \"#E5ECF6\", \"radialaxis\": {\"gridcolor\": \"white\", \"linecolor\": \"white\", \"ticks\": \"\"}}, \"scene\": {\"xaxis\": {\"backgroundcolor\": \"#E5ECF6\", \"gridcolor\": \"white\", \"gridwidth\": 2, \"linecolor\": \"white\", \"showbackground\": true, \"ticks\": \"\", \"zerolinecolor\": \"white\"}, \"yaxis\": {\"backgroundcolor\": \"#E5ECF6\", \"gridcolor\": \"white\", \"gridwidth\": 2, \"linecolor\": \"white\", \"showbackground\": true, \"ticks\": \"\", \"zerolinecolor\": \"white\"}, \"zaxis\": {\"backgroundcolor\": \"#E5ECF6\", \"gridcolor\": \"white\", \"gridwidth\": 2, \"linecolor\": \"white\", \"showbackground\": true, \"ticks\": \"\", \"zerolinecolor\": \"white\"}}, \"shapedefaults\": {\"line\": {\"color\": \"#2a3f5f\"}}, \"ternary\": {\"aaxis\": {\"gridcolor\": \"white\", \"linecolor\": \"white\", \"ticks\": \"\"}, \"baxis\": {\"gridcolor\": \"white\", \"linecolor\": \"white\", \"ticks\": \"\"}, \"bgcolor\": \"#E5ECF6\", \"caxis\": {\"gridcolor\": \"white\", \"linecolor\": \"white\", \"ticks\": \"\"}}, \"title\": {\"x\": 0.05}, \"xaxis\": {\"automargin\": true, \"gridcolor\": \"white\", \"linecolor\": \"white\", \"ticks\": \"\", \"title\": {\"standoff\": 15}, \"zerolinecolor\": \"white\", \"zerolinewidth\": 2}, \"yaxis\": {\"automargin\": true, \"gridcolor\": \"white\", \"linecolor\": \"white\", \"ticks\": \"\", \"title\": {\"standoff\": 15}, \"zerolinecolor\": \"white\", \"zerolinewidth\": 2}}}, \"title\": {\"font\": {\"size\": 20}, \"text\": \"<b>Working age population in 2020 in a selection of countries</b><br><i>Source : OECD</i>\"}, \"xaxis\": {\"anchor\": \"y\", \"domain\": [0.0, 1.0], \"tickangle\": -45, \"title\": {\"text\": \"\"}}, \"yaxis\": {\"anchor\": \"x\", \"domain\": [0.0, 1.0], \"title\": {\"text\": \"Working age population (%)\"}}},\n",
       "                        {\"responsive\": true}\n",
       "                    ).then(function(){\n",
       "                            \n",
       "var gd = document.getElementById('b7d4aa01-b073-4c16-975a-22e8b0fde332');\n",
       "var x = new MutationObserver(function (mutations, observer) {{\n",
       "        var display = window.getComputedStyle(gd).display;\n",
       "        if (!display || display === 'none') {{\n",
       "            console.log([gd, 'removed!']);\n",
       "            Plotly.purge(gd);\n",
       "            observer.disconnect();\n",
       "        }}\n",
       "}});\n",
       "\n",
       "// Listen for the removal of the full notebook cells\n",
       "var notebookContainer = gd.closest('#notebook-container');\n",
       "if (notebookContainer) {{\n",
       "    x.observe(notebookContainer, {childList: true});\n",
       "}}\n",
       "\n",
       "// Listen for the clearing of the current output cell\n",
       "var outputEl = gd.closest('.output');\n",
       "if (outputEl) {{\n",
       "    x.observe(outputEl, {childList: true});\n",
       "}}\n",
       "\n",
       "                        })\n",
       "                };\n",
       "                });\n",
       "            </script>\n",
       "        </div>"
      ]
     },
     "metadata": {},
     "output_type": "display_data"
    }
   ],
   "source": [
    "fig_bar = px.bar(df_working_age_pop_bar.query(\"TIME==2020\"), \n",
    "             x=\"Country\", \n",
    "             y=\"Value\", \n",
    "             hover_name=\"Country\", \n",
    "             color=\"Value\",\n",
    "             color_continuous_scale=px.colors.sequential.Oryel, \n",
    "             labels={'Value':'Working age population (%)', 'Country':''}, \n",
    "             title=\"<b>Working age population in 2020 in a selection of countries</b><br>\" + \n",
    "             \"<i>Source : OECD</i>\"\n",
    "            )\n",
    "\n",
    "fig_bar.update_coloraxes(showscale=False)\n",
    "\n",
    "# Style\n",
    "fig_bar.update_layout(\n",
    "    font_family='Helvetica',\n",
    "    font_color='grey',\n",
    "    font_size=12,\n",
    "    title_font_size=20,\n",
    "    xaxis_tickangle=-45\n",
    ")\n",
    "\n",
    "fig_bar.show()"
   ]
  },
  {
   "cell_type": "markdown",
   "metadata": {},
   "source": [
    "### Scatter plot"
   ]
  },
  {
   "cell_type": "markdown",
   "metadata": {},
   "source": [
    "Now, let's see the evolution of the working age population indicator for G7 countries over the years."
   ]
  },
  {
   "cell_type": "code",
   "execution_count": 114,
   "metadata": {},
   "outputs": [
    {
     "data": {
      "text/html": [
       "<div>\n",
       "<style scoped>\n",
       "    .dataframe tbody tr th:only-of-type {\n",
       "        vertical-align: middle;\n",
       "    }\n",
       "\n",
       "    .dataframe tbody tr th {\n",
       "        vertical-align: top;\n",
       "    }\n",
       "\n",
       "    .dataframe thead th {\n",
       "        text-align: right;\n",
       "    }\n",
       "</style>\n",
       "<table border=\"1\" class=\"dataframe\">\n",
       "  <thead>\n",
       "    <tr style=\"text-align: right;\">\n",
       "      <th></th>\n",
       "      <th>LOCATION</th>\n",
       "      <th>Country</th>\n",
       "      <th>TIME</th>\n",
       "      <th>Value</th>\n",
       "    </tr>\n",
       "  </thead>\n",
       "  <tbody>\n",
       "    <tr>\n",
       "      <th>2840</th>\n",
       "      <td>ARG</td>\n",
       "      <td>Argentina</td>\n",
       "      <td>1950</td>\n",
       "      <td>65.267159</td>\n",
       "    </tr>\n",
       "    <tr>\n",
       "      <th>0</th>\n",
       "      <td>AUS</td>\n",
       "      <td>Australia</td>\n",
       "      <td>1950</td>\n",
       "      <td>65.282991</td>\n",
       "    </tr>\n",
       "    <tr>\n",
       "      <th>71</th>\n",
       "      <td>AUT</td>\n",
       "      <td>Austria</td>\n",
       "      <td>1950</td>\n",
       "      <td>66.793817</td>\n",
       "    </tr>\n",
       "    <tr>\n",
       "      <th>142</th>\n",
       "      <td>BEL</td>\n",
       "      <td>Belgium</td>\n",
       "      <td>1950</td>\n",
       "      <td>68.040421</td>\n",
       "    </tr>\n",
       "    <tr>\n",
       "      <th>2911</th>\n",
       "      <td>BGR</td>\n",
       "      <td>Bulgaria</td>\n",
       "      <td>1950</td>\n",
       "      <td>66.487432</td>\n",
       "    </tr>\n",
       "  </tbody>\n",
       "</table>\n",
       "</div>"
      ],
      "text/plain": [
       "     LOCATION    Country  TIME      Value\n",
       "2840      ARG  Argentina  1950  65.267159\n",
       "0         AUS  Australia  1950  65.282991\n",
       "71        AUT    Austria  1950  66.793817\n",
       "142       BEL    Belgium  1950  68.040421\n",
       "2911      BGR   Bulgaria  1950  66.487432"
      ]
     },
     "execution_count": 114,
     "metadata": {},
     "output_type": "execute_result"
    }
   ],
   "source": [
    "df_working_age_pop_scatter = df_working_age_pop.sort_values(by=['TIME', 'LOCATION'], ascending=True)\n",
    "             \n",
    "df_working_age_pop_scatter.head()"
   ]
  },
  {
   "cell_type": "code",
   "execution_count": 115,
   "metadata": {},
   "outputs": [],
   "source": [
    "df_working_age_pop_us = df_working_age_pop_scatter.query(\"Country == 'United States'\")\n",
    "df_working_age_pop_fr = df_working_age_pop_scatter.query(\"Country == 'France'\")\n",
    "df_working_age_pop_ca = df_working_age_pop_scatter.query(\"Country == 'Canada'\")\n",
    "df_working_age_pop_de = df_working_age_pop_scatter.query(\"Country == 'Germany'\")\n",
    "df_working_age_pop_it = df_working_age_pop_scatter.query(\"Country == 'Italy'\")\n",
    "df_working_age_pop_uk = df_working_age_pop_scatter.query(\"Country == 'United Kingdom'\")\n",
    "df_working_age_pop_jp = df_working_age_pop_scatter.query(\"Country == 'Japan'\")"
   ]
  },
  {
   "cell_type": "code",
   "execution_count": 116,
   "metadata": {},
   "outputs": [
    {
     "data": {
      "text/html": [
       "<div>\n",
       "        \n",
       "        \n",
       "            <div id=\"e7021992-bcc3-45db-b07c-b67069c945b1\" class=\"plotly-graph-div\" style=\"height:525px; width:100%;\"></div>\n",
       "            <script type=\"text/javascript\">\n",
       "                require([\"plotly\"], function(Plotly) {\n",
       "                    window.PLOTLYENV=window.PLOTLYENV || {};\n",
       "                    \n",
       "                if (document.getElementById(\"e7021992-bcc3-45db-b07c-b67069c945b1\")) {\n",
       "                    Plotly.newPlot(\n",
       "                        'e7021992-bcc3-45db-b07c-b67069c945b1',\n",
       "                        [{\"marker\": {\"color\": [64.9347671073423, 64.2921133823047, 63.638343579426206, 63.0058320611312, 62.364453554710394, 61.744061855226, 61.213971346671705, 60.722352114698, 60.4421758811592, 60.0813729419712, 59.73248923328429, 59.365078557998, 59.6004244438754, 59.711396844792205, 59.8338211427889, 60.010038035292304, 60.310258522245704, 60.681873272953304, 61.11222296376, 61.5448478289188, 61.9388575709517, 62.29623387002629, 62.8069705046957, 63.340730352343904, 63.870682328547204, 64.3206673991063, 64.8432497796548, 65.2699915103756, 65.6505154030348, 65.9691034327015, 66.11401206016, 66.2372026524189, 66.2797506037806, 66.282278682306, 66.3476539894841, 66.3967658215943, 66.45910062289799, 66.3684679957174, 66.227030753036, 66.00611589299591, 65.7910438426513, 65.5876230612962, 65.4752470958492, 65.374371378164, 65.3649992791851, 65.4342855373924, 65.5349183281112, 65.71061236065661, 65.887913344222, 66.0431651546311, 66.20761473433821, 66.4031655658772, 66.5935949497998, 66.7392139187038, 66.9216637603326, 67.1189894818734, 67.2629382637528, 67.2984326620581, 67.2190124943156, 67.170761795173, 67.1284352825125, 67.09465576578499, 66.7833421672422, 66.55061800665301, 66.3176992125186, 66.1138776284869, 65.88071495138911, 65.6232512725187, 65.3547436173457, 65.08089531508571, 64.8077758818139]}, \"name\": \"United States\", \"text\": [\"United States\", \"United States\", \"United States\", \"United States\", \"United States\", \"United States\", \"United States\", \"United States\", \"United States\", \"United States\", \"United States\", \"United States\", \"United States\", \"United States\", \"United States\", \"United States\", \"United States\", \"United States\", \"United States\", \"United States\", \"United States\", \"United States\", \"United States\", \"United States\", \"United States\", \"United States\", \"United States\", \"United States\", \"United States\", \"United States\", \"United States\", \"United States\", \"United States\", \"United States\", \"United States\", \"United States\", \"United States\", \"United States\", \"United States\", \"United States\", \"United States\", \"United States\", \"United States\", \"United States\", \"United States\", \"United States\", \"United States\", \"United States\", \"United States\", \"United States\", \"United States\", \"United States\", \"United States\", \"United States\", \"United States\", \"United States\", \"United States\", \"United States\", \"United States\", \"United States\", \"United States\", \"United States\", \"United States\", \"United States\", \"United States\", \"United States\", \"United States\", \"United States\", \"United States\", \"United States\", \"United States\"], \"type\": \"scatter\", \"x\": [1950, 1951, 1952, 1953, 1954, 1955, 1956, 1957, 1958, 1959, 1960, 1961, 1962, 1963, 1964, 1965, 1966, 1967, 1968, 1969, 1970, 1971, 1972, 1973, 1974, 1975, 1976, 1977, 1978, 1979, 1980, 1981, 1982, 1983, 1984, 1985, 1986, 1987, 1988, 1989, 1990, 1991, 1992, 1993, 1994, 1995, 1996, 1997, 1998, 1999, 2000, 2001, 2002, 2003, 2004, 2005, 2006, 2007, 2008, 2009, 2010, 2011, 2012, 2013, 2014, 2015, 2016, 2017, 2018, 2019, 2020], \"y\": [64.9347671073423, 64.2921133823047, 63.638343579426206, 63.0058320611312, 62.364453554710394, 61.744061855226, 61.213971346671705, 60.722352114698, 60.4421758811592, 60.0813729419712, 59.73248923328429, 59.365078557998, 59.6004244438754, 59.711396844792205, 59.8338211427889, 60.010038035292304, 60.310258522245704, 60.681873272953304, 61.11222296376, 61.5448478289188, 61.9388575709517, 62.29623387002629, 62.8069705046957, 63.340730352343904, 63.870682328547204, 64.3206673991063, 64.8432497796548, 65.2699915103756, 65.6505154030348, 65.9691034327015, 66.11401206016, 66.2372026524189, 66.2797506037806, 66.282278682306, 66.3476539894841, 66.3967658215943, 66.45910062289799, 66.3684679957174, 66.227030753036, 66.00611589299591, 65.7910438426513, 65.5876230612962, 65.4752470958492, 65.374371378164, 65.3649992791851, 65.4342855373924, 65.5349183281112, 65.71061236065661, 65.887913344222, 66.0431651546311, 66.20761473433821, 66.4031655658772, 66.5935949497998, 66.7392139187038, 66.9216637603326, 67.1189894818734, 67.2629382637528, 67.2984326620581, 67.2190124943156, 67.170761795173, 67.1284352825125, 67.09465576578499, 66.7833421672422, 66.55061800665301, 66.3176992125186, 66.1138776284869, 65.88071495138911, 65.6232512725187, 65.3547436173457, 65.08089531508571, 64.8077758818139]}, {\"marker\": {\"color\": [65.9116437447697, 65.5222324206994, 65.1440200885231, 64.7721258087506, 64.40670943403029, 63.98871023856749, 63.5089364399951, 63.045187675754, 62.6632582589971, 62.3104580862883, 61.991407625406296, 61.85192801542, 61.9981459946546, 62.188719643669, 62.248970770481996, 62.2843762902423, 62.2783512986674, 62.2412933545129, 62.232537719869796, 62.2585050756108, 62.301452948031304, 62.313529360873396, 62.3227678783932, 62.3622432044023, 62.4640666767848, 62.59521615624661, 62.7778355817831, 62.9686022916805, 63.1411920813877, 63.3581554500778, 63.6978291690061, 64.2205318885088, 64.7521076067447, 65.2290994346826, 65.66056302690251, 65.8498978850603, 65.870532554128, 65.9299459178422, 65.9816158010266, 65.9774627946545, 65.88081544837479, 65.67723190081429, 65.53141316245521, 65.4315495641877, 65.3515016011316, 65.2965779952378, 65.2662527992237, 65.24317152012529, 65.1979916751273, 65.1226272106997, 65.04630399649041, 65.0000522372614, 64.98913148460629, 65.0159796783703, 65.0398826707291, 65.0714834739576, 65.1298385828962, 65.13948803939711, 65.04627386756191, 64.895262029347, 64.75349384248901, 64.4819297129731, 64.0609334147037, 63.642793630110596, 63.2100079377855, 62.861157738062, 62.562394694274595, 62.2957618397916, 62.0576242967729, 61.822946724608094, 61.6208403379512]}, \"name\": \"France\", \"text\": [\"France\", \"France\", \"France\", \"France\", \"France\", \"France\", \"France\", \"France\", \"France\", \"France\", \"France\", \"France\", \"France\", \"France\", \"France\", \"France\", \"France\", \"France\", \"France\", \"France\", \"France\", \"France\", \"France\", \"France\", \"France\", \"France\", \"France\", \"France\", \"France\", \"France\", \"France\", \"France\", \"France\", \"France\", \"France\", \"France\", \"France\", \"France\", \"France\", \"France\", \"France\", \"France\", \"France\", \"France\", \"France\", \"France\", \"France\", \"France\", \"France\", \"France\", \"France\", \"France\", \"France\", \"France\", \"France\", \"France\", \"France\", \"France\", \"France\", \"France\", \"France\", \"France\", \"France\", \"France\", \"France\", \"France\", \"France\", \"France\", \"France\", \"France\", \"France\"], \"type\": \"scatter\", \"x\": [1950, 1951, 1952, 1953, 1954, 1955, 1956, 1957, 1958, 1959, 1960, 1961, 1962, 1963, 1964, 1965, 1966, 1967, 1968, 1969, 1970, 1971, 1972, 1973, 1974, 1975, 1976, 1977, 1978, 1979, 1980, 1981, 1982, 1983, 1984, 1985, 1986, 1987, 1988, 1989, 1990, 1991, 1992, 1993, 1994, 1995, 1996, 1997, 1998, 1999, 2000, 2001, 2002, 2003, 2004, 2005, 2006, 2007, 2008, 2009, 2010, 2011, 2012, 2013, 2014, 2015, 2016, 2017, 2018, 2019, 2020], \"y\": [65.9116437447697, 65.5222324206994, 65.1440200885231, 64.7721258087506, 64.40670943403029, 63.98871023856749, 63.5089364399951, 63.045187675754, 62.6632582589971, 62.3104580862883, 61.991407625406296, 61.85192801542, 61.9981459946546, 62.188719643669, 62.248970770481996, 62.2843762902423, 62.2783512986674, 62.2412933545129, 62.232537719869796, 62.2585050756108, 62.301452948031304, 62.313529360873396, 62.3227678783932, 62.3622432044023, 62.4640666767848, 62.59521615624661, 62.7778355817831, 62.9686022916805, 63.1411920813877, 63.3581554500778, 63.6978291690061, 64.2205318885088, 64.7521076067447, 65.2290994346826, 65.66056302690251, 65.8498978850603, 65.870532554128, 65.9299459178422, 65.9816158010266, 65.9774627946545, 65.88081544837479, 65.67723190081429, 65.53141316245521, 65.4315495641877, 65.3515016011316, 65.2965779952378, 65.2662527992237, 65.24317152012529, 65.1979916751273, 65.1226272106997, 65.04630399649041, 65.0000522372614, 64.98913148460629, 65.0159796783703, 65.0398826707291, 65.0714834739576, 65.1298385828962, 65.13948803939711, 65.04627386756191, 64.895262029347, 64.75349384248901, 64.4819297129731, 64.0609334147037, 63.642793630110596, 63.2100079377855, 62.861157738062, 62.562394694274595, 62.2957618397916, 62.0576242967729, 61.822946724608094, 61.6208403379512]}, {\"marker\": {\"color\": [62.7561756140375, 62.022757882203706, 61.5800473880759, 61.1907264524979, 60.7438982622251, 60.281507148650704, 59.884797533311, 59.617723001790104, 59.2473900541975, 59.002907227545606, 58.76011361904101, 58.5109279661895, 58.487894425226294, 58.517857154855896, 58.7113173470348, 59.0038873122577, 59.765439929656296, 60.34285033357321, 60.94070650411221, 61.5277080088788, 62.138495225231, 62.6825240943097, 63.334952557249295, 64.01210984796799, 64.7149687023864, 65.35954829210651, 65.9560624121102, 66.4691408435941, 66.99263867188371, 67.4583819941405, 67.8624734134299, 68.13183687373629, 68.2804419423352, 68.375666741871, 68.4390234206177, 68.45068724248429, 68.49781446772329, 68.3718750851953, 68.260602789359, 68.1686999649995, 68.02633391231521, 67.8713376623099, 67.7009561505614, 67.6057993714015, 67.6025786031168, 67.64423120074039, 67.69681668672621, 67.79202919766999, 67.8909452782778, 68.0785773338667, 68.2759901752378, 68.4954647675944, 68.6984972199847, 68.86365414668451, 69.04177137256579, 69.2605572310395, 69.3991165316915, 69.4648929240073, 69.4486150649208, 69.4028632222379, 69.3391500263389, 69.1780340022961, 68.84495639856189, 68.48316991778971, 68.12880503343429, 67.7447282445452, 67.3581848448858, 67.0350287225756, 66.7563339369367, 66.47933317202829, 66.12437211944311]}, \"name\": \"Canada\", \"text\": [\"Canada\", \"Canada\", \"Canada\", \"Canada\", \"Canada\", \"Canada\", \"Canada\", \"Canada\", \"Canada\", \"Canada\", \"Canada\", \"Canada\", \"Canada\", \"Canada\", \"Canada\", \"Canada\", \"Canada\", \"Canada\", \"Canada\", \"Canada\", \"Canada\", \"Canada\", \"Canada\", \"Canada\", \"Canada\", \"Canada\", \"Canada\", \"Canada\", \"Canada\", \"Canada\", \"Canada\", \"Canada\", \"Canada\", \"Canada\", \"Canada\", \"Canada\", \"Canada\", \"Canada\", \"Canada\", \"Canada\", \"Canada\", \"Canada\", \"Canada\", \"Canada\", \"Canada\", \"Canada\", \"Canada\", \"Canada\", \"Canada\", \"Canada\", \"Canada\", \"Canada\", \"Canada\", \"Canada\", \"Canada\", \"Canada\", \"Canada\", \"Canada\", \"Canada\", \"Canada\", \"Canada\", \"Canada\", \"Canada\", \"Canada\", \"Canada\", \"Canada\", \"Canada\", \"Canada\", \"Canada\", \"Canada\", \"Canada\"], \"type\": \"scatter\", \"x\": [1950, 1951, 1952, 1953, 1954, 1955, 1956, 1957, 1958, 1959, 1960, 1961, 1962, 1963, 1964, 1965, 1966, 1967, 1968, 1969, 1970, 1971, 1972, 1973, 1974, 1975, 1976, 1977, 1978, 1979, 1980, 1981, 1982, 1983, 1984, 1985, 1986, 1987, 1988, 1989, 1990, 1991, 1992, 1993, 1994, 1995, 1996, 1997, 1998, 1999, 2000, 2001, 2002, 2003, 2004, 2005, 2006, 2007, 2008, 2009, 2010, 2011, 2012, 2013, 2014, 2015, 2016, 2017, 2018, 2019, 2020], \"y\": [62.7561756140375, 62.022757882203706, 61.5800473880759, 61.1907264524979, 60.7438982622251, 60.281507148650704, 59.884797533311, 59.617723001790104, 59.2473900541975, 59.002907227545606, 58.76011361904101, 58.5109279661895, 58.487894425226294, 58.517857154855896, 58.7113173470348, 59.0038873122577, 59.765439929656296, 60.34285033357321, 60.94070650411221, 61.5277080088788, 62.138495225231, 62.6825240943097, 63.334952557249295, 64.01210984796799, 64.7149687023864, 65.35954829210651, 65.9560624121102, 66.4691408435941, 66.99263867188371, 67.4583819941405, 67.8624734134299, 68.13183687373629, 68.2804419423352, 68.375666741871, 68.4390234206177, 68.45068724248429, 68.49781446772329, 68.3718750851953, 68.260602789359, 68.1686999649995, 68.02633391231521, 67.8713376623099, 67.7009561505614, 67.6057993714015, 67.6025786031168, 67.64423120074039, 67.69681668672621, 67.79202919766999, 67.8909452782778, 68.0785773338667, 68.2759901752378, 68.4954647675944, 68.6984972199847, 68.86365414668451, 69.04177137256579, 69.2605572310395, 69.3991165316915, 69.4648929240073, 69.4486150649208, 69.4028632222379, 69.3391500263389, 69.1780340022961, 68.84495639856189, 68.48316991778971, 68.12880503343429, 67.7447282445452, 67.3581848448858, 67.0350287225756, 66.7563339369367, 66.47933317202829, 66.12437211944311]}, {\"marker\": {\"color\": [66.78043837789039, 66.47982703110691, 66.24307909078681, 66.094393218574, 65.8700300618478, 65.7334808609277, 65.4565897657987, 65.218635435032, 65.1164993417607, 65.0740920135977, 64.9898530031055, 64.854218072405, 65.08660821720899, 65.12253205211799, 64.9536008966868, 64.68178419676791, 64.3690043381924, 64.00305574552921, 63.682358793469895, 63.3650754492743, 63.1256311624158, 62.672008390500096, 62.515915158397, 62.4493816068839, 62.468252785306504, 62.582626334802896, 62.8323483934439, 63.1447621112047, 63.4426842168268, 63.7520487400679, 64.0491735146412, 64.3718585350114, 64.7703455015873, 65.2352345866321, 65.6542241675743, 65.6066494376918, 65.6259901963232, 65.60057311499311, 65.52862539840861, 65.39012210131989, 65.2682744158624, 65.0633132828417, 64.83925457062861, 64.6875052901044, 64.66416168982329, 64.6926842435077, 64.7461004222275, 64.78002314665841, 64.8377733348111, 64.9613209991809, 65.1675961027452, 65.3553812919984, 65.5255055880185, 65.6824270278575, 65.8250632139615, 66.0316633052642, 66.2596998142291, 66.359826856488, 66.3062130858014, 66.1839067558837, 66.03553733799089, 65.9092366778965, 65.380024151939, 64.9967614401064, 64.681900724668, 64.4571587844663, 64.216887525714, 63.96606226183739, 63.7588565158262, 63.5672076361375, 63.50172240421221]}, \"name\": \"United Kingdom\", \"text\": [\"United Kingdom\", \"United Kingdom\", \"United Kingdom\", \"United Kingdom\", \"United Kingdom\", \"United Kingdom\", \"United Kingdom\", \"United Kingdom\", \"United Kingdom\", \"United Kingdom\", \"United Kingdom\", \"United Kingdom\", \"United Kingdom\", \"United Kingdom\", \"United Kingdom\", \"United Kingdom\", \"United Kingdom\", \"United Kingdom\", \"United Kingdom\", \"United Kingdom\", \"United Kingdom\", \"United Kingdom\", \"United Kingdom\", \"United Kingdom\", \"United Kingdom\", \"United Kingdom\", \"United Kingdom\", \"United Kingdom\", \"United Kingdom\", \"United Kingdom\", \"United Kingdom\", \"United Kingdom\", \"United Kingdom\", \"United Kingdom\", \"United Kingdom\", \"United Kingdom\", \"United Kingdom\", \"United Kingdom\", \"United Kingdom\", \"United Kingdom\", \"United Kingdom\", \"United Kingdom\", \"United Kingdom\", \"United Kingdom\", \"United Kingdom\", \"United Kingdom\", \"United Kingdom\", \"United Kingdom\", \"United Kingdom\", \"United Kingdom\", \"United Kingdom\", \"United Kingdom\", \"United Kingdom\", \"United Kingdom\", \"United Kingdom\", \"United Kingdom\", \"United Kingdom\", \"United Kingdom\", \"United Kingdom\", \"United Kingdom\", \"United Kingdom\", \"United Kingdom\", \"United Kingdom\", \"United Kingdom\", \"United Kingdom\", \"United Kingdom\", \"United Kingdom\", \"United Kingdom\", \"United Kingdom\", \"United Kingdom\", \"United Kingdom\"], \"type\": \"scatter\", \"x\": [1950, 1951, 1952, 1953, 1954, 1955, 1956, 1957, 1958, 1959, 1960, 1961, 1962, 1963, 1964, 1965, 1966, 1967, 1968, 1969, 1970, 1971, 1972, 1973, 1974, 1975, 1976, 1977, 1978, 1979, 1980, 1981, 1982, 1983, 1984, 1985, 1986, 1987, 1988, 1989, 1990, 1991, 1992, 1993, 1994, 1995, 1996, 1997, 1998, 1999, 2000, 2001, 2002, 2003, 2004, 2005, 2006, 2007, 2008, 2009, 2010, 2011, 2012, 2013, 2014, 2015, 2016, 2017, 2018, 2019, 2020], \"y\": [66.78043837789039, 66.47982703110691, 66.24307909078681, 66.094393218574, 65.8700300618478, 65.7334808609277, 65.4565897657987, 65.218635435032, 65.1164993417607, 65.0740920135977, 64.9898530031055, 64.854218072405, 65.08660821720899, 65.12253205211799, 64.9536008966868, 64.68178419676791, 64.3690043381924, 64.00305574552921, 63.682358793469895, 63.3650754492743, 63.1256311624158, 62.672008390500096, 62.515915158397, 62.4493816068839, 62.468252785306504, 62.582626334802896, 62.8323483934439, 63.1447621112047, 63.4426842168268, 63.7520487400679, 64.0491735146412, 64.3718585350114, 64.7703455015873, 65.2352345866321, 65.6542241675743, 65.6066494376918, 65.6259901963232, 65.60057311499311, 65.52862539840861, 65.39012210131989, 65.2682744158624, 65.0633132828417, 64.83925457062861, 64.6875052901044, 64.66416168982329, 64.6926842435077, 64.7461004222275, 64.78002314665841, 64.8377733348111, 64.9613209991809, 65.1675961027452, 65.3553812919984, 65.5255055880185, 65.6824270278575, 65.8250632139615, 66.0316633052642, 66.2596998142291, 66.359826856488, 66.3062130858014, 66.1839067558837, 66.03553733799089, 65.9092366778965, 65.380024151939, 64.9967614401064, 64.681900724668, 64.4571587844663, 64.216887525714, 63.96606226183739, 63.7588565158262, 63.5672076361375, 63.50172240421221]}, {\"marker\": {\"color\": [67.29849985390099, 67.18528408357221, 67.31810225841471, 67.5094554699539, 67.7966202064586, 68.1321237072065, 68.3839608780814, 68.2393813807448, 67.9246257010827, 67.6758901692433, 67.2372316890045, 66.5901887729245, 66.00062489035071, 65.51848884302771, 65.0369648358412, 64.6370133881188, 64.243495042729, 63.7628230057378, 63.3944063929156, 63.2533625699225, 63.1323581890253, 63.039067745188895, 63.0841298818315, 63.24422443348001, 63.428906872477796, 63.639955001397894, 63.977244811732994, 64.3584740920503, 64.7775930337186, 65.28227037552871, 65.9141967277576, 66.7252895830502, 67.6130898212274, 68.4783835774506, 69.1395649363805, 69.42343399187679, 69.4836665742929, 69.4729927779987, 69.363779721385, 69.1970114417436, 68.97902326127941, 68.7671008566374, 68.6507236172245, 68.52615804590961, 68.37848229383239, 68.2858255448471, 68.25058206185221, 68.2397788011243, 68.2424714643207, 68.1512745339865, 67.9366540211934, 67.7256419149666, 67.5476166112042, 67.3610937529817, 67.0887793907499, 66.768258261447, 66.4584975363164, 66.2431331450579, 66.1012713211141, 65.9396106395439, 65.9379069912817, 65.8445923518811, 65.9471971105401, 65.9663400131972, 65.87493013150561, 65.74913723924, 65.5491857433664, 65.2541575426159, 64.9868703979992, 64.7044205599228, 64.3874714448047]}, \"name\": \"Germany\", \"text\": [\"Germany\", \"Germany\", \"Germany\", \"Germany\", \"Germany\", \"Germany\", \"Germany\", \"Germany\", \"Germany\", \"Germany\", \"Germany\", \"Germany\", \"Germany\", \"Germany\", \"Germany\", \"Germany\", \"Germany\", \"Germany\", \"Germany\", \"Germany\", \"Germany\", \"Germany\", \"Germany\", \"Germany\", \"Germany\", \"Germany\", \"Germany\", \"Germany\", \"Germany\", \"Germany\", \"Germany\", \"Germany\", \"Germany\", \"Germany\", \"Germany\", \"Germany\", \"Germany\", \"Germany\", \"Germany\", \"Germany\", \"Germany\", \"Germany\", \"Germany\", \"Germany\", \"Germany\", \"Germany\", \"Germany\", \"Germany\", \"Germany\", \"Germany\", \"Germany\", \"Germany\", \"Germany\", \"Germany\", \"Germany\", \"Germany\", \"Germany\", \"Germany\", \"Germany\", \"Germany\", \"Germany\", \"Germany\", \"Germany\", \"Germany\", \"Germany\", \"Germany\", \"Germany\", \"Germany\", \"Germany\", \"Germany\", \"Germany\"], \"type\": \"scatter\", \"x\": [1950, 1951, 1952, 1953, 1954, 1955, 1956, 1957, 1958, 1959, 1960, 1961, 1962, 1963, 1964, 1965, 1966, 1967, 1968, 1969, 1970, 1971, 1972, 1973, 1974, 1975, 1976, 1977, 1978, 1979, 1980, 1981, 1982, 1983, 1984, 1985, 1986, 1987, 1988, 1989, 1990, 1991, 1992, 1993, 1994, 1995, 1996, 1997, 1998, 1999, 2000, 2001, 2002, 2003, 2004, 2005, 2006, 2007, 2008, 2009, 2010, 2011, 2012, 2013, 2014, 2015, 2016, 2017, 2018, 2019, 2020], \"y\": [67.29849985390099, 67.18528408357221, 67.31810225841471, 67.5094554699539, 67.7966202064586, 68.1321237072065, 68.3839608780814, 68.2393813807448, 67.9246257010827, 67.6758901692433, 67.2372316890045, 66.5901887729245, 66.00062489035071, 65.51848884302771, 65.0369648358412, 64.6370133881188, 64.243495042729, 63.7628230057378, 63.3944063929156, 63.2533625699225, 63.1323581890253, 63.039067745188895, 63.0841298818315, 63.24422443348001, 63.428906872477796, 63.639955001397894, 63.977244811732994, 64.3584740920503, 64.7775930337186, 65.28227037552871, 65.9141967277576, 66.7252895830502, 67.6130898212274, 68.4783835774506, 69.1395649363805, 69.42343399187679, 69.4836665742929, 69.4729927779987, 69.363779721385, 69.1970114417436, 68.97902326127941, 68.7671008566374, 68.6507236172245, 68.52615804590961, 68.37848229383239, 68.2858255448471, 68.25058206185221, 68.2397788011243, 68.2424714643207, 68.1512745339865, 67.9366540211934, 67.7256419149666, 67.5476166112042, 67.3610937529817, 67.0887793907499, 66.768258261447, 66.4584975363164, 66.2431331450579, 66.1012713211141, 65.9396106395439, 65.9379069912817, 65.8445923518811, 65.9471971105401, 65.9663400131972, 65.87493013150561, 65.74913723924, 65.5491857433664, 65.2541575426159, 64.9868703979992, 64.7044205599228, 64.3874714448047]}, {\"marker\": {\"color\": [65.4236802517052, 65.6928025376739, 65.7535875505842, 65.9296152072462, 66.1064202258662, 66.2704279824404, 66.36123195366869, 66.3193048586261, 66.238232351005, 66.1072263298822, 65.9229148961524, 65.87111061078879, 65.9517916788065, 66.00743499704221, 65.92858475077091, 65.7352186246266, 65.5021518433593, 65.22003416871199, 64.9702978402215, 64.7488869358761, 64.5346723645316, 64.34918381962339, 64.17379893785271, 63.9786412787033, 63.7998638018235, 63.718352189144404, 63.7337565386547, 63.7960170676625, 63.9268261488859, 64.1945550026413, 64.57863358526, 65.117968009231, 65.7896103744055, 66.5007751563024, 67.1671840850297, 67.56057764669771, 67.78648769385529, 68.02252134979979, 68.21650951301, 68.3959853880004, 68.5508968129844, 68.8690343275676, 69.06486280861141, 68.9527907630202, 68.8261275715386, 68.618836565516, 68.3685213714833, 68.14698923302849, 67.9337988481646, 67.70176411277221, 67.4457257536022, 67.1979748451374, 66.9413811284719, 66.724702912604, 66.507156770528, 66.2054966035196, 65.93652454287441, 65.7968522053493, 65.7142942068899, 65.600894735824, 65.5099511024868, 65.3089857597711, 65.00313176785531, 64.7240773651298, 64.4556343735223, 64.2608379311972, 64.1341893117916, 64.0469739686779, 63.9821931600828, 63.8771046135536, 63.7721995668696]}, \"name\": \"Italy\", \"text\": [\"Italy\", \"Italy\", \"Italy\", \"Italy\", \"Italy\", \"Italy\", \"Italy\", \"Italy\", \"Italy\", \"Italy\", \"Italy\", \"Italy\", \"Italy\", \"Italy\", \"Italy\", \"Italy\", \"Italy\", \"Italy\", \"Italy\", \"Italy\", \"Italy\", \"Italy\", \"Italy\", \"Italy\", \"Italy\", \"Italy\", \"Italy\", \"Italy\", \"Italy\", \"Italy\", \"Italy\", \"Italy\", \"Italy\", \"Italy\", \"Italy\", \"Italy\", \"Italy\", \"Italy\", \"Italy\", \"Italy\", \"Italy\", \"Italy\", \"Italy\", \"Italy\", \"Italy\", \"Italy\", \"Italy\", \"Italy\", \"Italy\", \"Italy\", \"Italy\", \"Italy\", \"Italy\", \"Italy\", \"Italy\", \"Italy\", \"Italy\", \"Italy\", \"Italy\", \"Italy\", \"Italy\", \"Italy\", \"Italy\", \"Italy\", \"Italy\", \"Italy\", \"Italy\", \"Italy\", \"Italy\", \"Italy\", \"Italy\"], \"type\": \"scatter\", \"x\": [1950, 1951, 1952, 1953, 1954, 1955, 1956, 1957, 1958, 1959, 1960, 1961, 1962, 1963, 1964, 1965, 1966, 1967, 1968, 1969, 1970, 1971, 1972, 1973, 1974, 1975, 1976, 1977, 1978, 1979, 1980, 1981, 1982, 1983, 1984, 1985, 1986, 1987, 1988, 1989, 1990, 1991, 1992, 1993, 1994, 1995, 1996, 1997, 1998, 1999, 2000, 2001, 2002, 2003, 2004, 2005, 2006, 2007, 2008, 2009, 2010, 2011, 2012, 2013, 2014, 2015, 2016, 2017, 2018, 2019, 2020], \"y\": [65.4236802517052, 65.6928025376739, 65.7535875505842, 65.9296152072462, 66.1064202258662, 66.2704279824404, 66.36123195366869, 66.3193048586261, 66.238232351005, 66.1072263298822, 65.9229148961524, 65.87111061078879, 65.9517916788065, 66.00743499704221, 65.92858475077091, 65.7352186246266, 65.5021518433593, 65.22003416871199, 64.9702978402215, 64.7488869358761, 64.5346723645316, 64.34918381962339, 64.17379893785271, 63.9786412787033, 63.7998638018235, 63.718352189144404, 63.7337565386547, 63.7960170676625, 63.9268261488859, 64.1945550026413, 64.57863358526, 65.117968009231, 65.7896103744055, 66.5007751563024, 67.1671840850297, 67.56057764669771, 67.78648769385529, 68.02252134979979, 68.21650951301, 68.3959853880004, 68.5508968129844, 68.8690343275676, 69.06486280861141, 68.9527907630202, 68.8261275715386, 68.618836565516, 68.3685213714833, 68.14698923302849, 67.9337988481646, 67.70176411277221, 67.4457257536022, 67.1979748451374, 66.9413811284719, 66.724702912604, 66.507156770528, 66.2054966035196, 65.93652454287441, 65.7968522053493, 65.7142942068899, 65.600894735824, 65.5099511024868, 65.3089857597711, 65.00313176785531, 64.7240773651298, 64.4556343735223, 64.2608379311972, 64.1341893117916, 64.0469739686779, 63.9821931600828, 63.8771046135536, 63.7721995668696]}, {\"marker\": {\"color\": [59.645834681532094, 59.942062591401, 60.2941501211882, 60.6713671603644, 60.8880796435227, 61.2447158026424, 61.9744801740812, 62.760553817987606, 63.418124399434205, 64.0655335030049, 64.1234191695725, 64.2918607705319, 65.26932987813129, 66.344081380376, 67.35824686576291, 67.98191581890279, 68.6415631438917, 68.878020663404, 69.0043788555731, 69.0027258408944, 68.9045833594444, 68.70559095193211, 68.4633607509643, 68.1700056826514, 67.9181635661509, 67.7495567857046, 67.55328134118521, 67.4036806376735, 67.3280371560031, 67.3027919590203, 67.3863797624604, 67.2457490118912, 67.47558621386699, 67.71155718779279, 68.0126229167533, 68.18261323977251, 68.5184818346211, 68.8585565981397, 69.2378451260744, 69.5662180917982, 69.6806543376457, 69.77947075366029, 69.7823837774049, 69.7527381581264, 69.6080597134076, 69.4882074213664, 69.25037262442, 68.9884334923831, 68.7196100754234, 68.483232559241, 68.052690420185, 67.6709272454455, 67.25467885588729, 66.92263691143171, 66.6285526326094, 66.0744434948239, 65.5325281528382, 64.9711910022891, 64.4510085415848, 63.910679053596105, 63.8264931481638, 63.6483984692895, 62.8752264325054, 62.067370552258794, 61.2599669200387, 60.806257567927, 60.3168061278926, 59.9515090854663, 59.6716881052818, 59.50189189010101, 59.2579628981449]}, \"name\": \"Japan\", \"text\": [\"Japan\", \"Japan\", \"Japan\", \"Japan\", \"Japan\", \"Japan\", \"Japan\", \"Japan\", \"Japan\", \"Japan\", \"Japan\", \"Japan\", \"Japan\", \"Japan\", \"Japan\", \"Japan\", \"Japan\", \"Japan\", \"Japan\", \"Japan\", \"Japan\", \"Japan\", \"Japan\", \"Japan\", \"Japan\", \"Japan\", \"Japan\", \"Japan\", \"Japan\", \"Japan\", \"Japan\", \"Japan\", \"Japan\", \"Japan\", \"Japan\", \"Japan\", \"Japan\", \"Japan\", \"Japan\", \"Japan\", \"Japan\", \"Japan\", \"Japan\", \"Japan\", \"Japan\", \"Japan\", \"Japan\", \"Japan\", \"Japan\", \"Japan\", \"Japan\", \"Japan\", \"Japan\", \"Japan\", \"Japan\", \"Japan\", \"Japan\", \"Japan\", \"Japan\", \"Japan\", \"Japan\", \"Japan\", \"Japan\", \"Japan\", \"Japan\", \"Japan\", \"Japan\", \"Japan\", \"Japan\", \"Japan\", \"Japan\"], \"type\": \"scatter\", \"x\": [1950, 1951, 1952, 1953, 1954, 1955, 1956, 1957, 1958, 1959, 1960, 1961, 1962, 1963, 1964, 1965, 1966, 1967, 1968, 1969, 1970, 1971, 1972, 1973, 1974, 1975, 1976, 1977, 1978, 1979, 1980, 1981, 1982, 1983, 1984, 1985, 1986, 1987, 1988, 1989, 1990, 1991, 1992, 1993, 1994, 1995, 1996, 1997, 1998, 1999, 2000, 2001, 2002, 2003, 2004, 2005, 2006, 2007, 2008, 2009, 2010, 2011, 2012, 2013, 2014, 2015, 2016, 2017, 2018, 2019, 2020], \"y\": [59.645834681532094, 59.942062591401, 60.2941501211882, 60.6713671603644, 60.8880796435227, 61.2447158026424, 61.9744801740812, 62.760553817987606, 63.418124399434205, 64.0655335030049, 64.1234191695725, 64.2918607705319, 65.26932987813129, 66.344081380376, 67.35824686576291, 67.98191581890279, 68.6415631438917, 68.878020663404, 69.0043788555731, 69.0027258408944, 68.9045833594444, 68.70559095193211, 68.4633607509643, 68.1700056826514, 67.9181635661509, 67.7495567857046, 67.55328134118521, 67.4036806376735, 67.3280371560031, 67.3027919590203, 67.3863797624604, 67.2457490118912, 67.47558621386699, 67.71155718779279, 68.0126229167533, 68.18261323977251, 68.5184818346211, 68.8585565981397, 69.2378451260744, 69.5662180917982, 69.6806543376457, 69.77947075366029, 69.7823837774049, 69.7527381581264, 69.6080597134076, 69.4882074213664, 69.25037262442, 68.9884334923831, 68.7196100754234, 68.483232559241, 68.052690420185, 67.6709272454455, 67.25467885588729, 66.92263691143171, 66.6285526326094, 66.0744434948239, 65.5325281528382, 64.9711910022891, 64.4510085415848, 63.910679053596105, 63.8264931481638, 63.6483984692895, 62.8752264325054, 62.067370552258794, 61.2599669200387, 60.806257567927, 60.3168061278926, 59.9515090854663, 59.6716881052818, 59.50189189010101, 59.2579628981449]}],\n",
       "                        {\"font\": {\"color\": \"grey\", \"family\": \"Helvetica\", \"size\": 14}, \"legend\": {\"bgcolor\": \"rgba(255, 255, 255, 0)\", \"bordercolor\": \"rgba(255, 255, 255, 0)\", \"x\": 1, \"y\": 1}, \"template\": {\"data\": {\"bar\": [{\"error_x\": {\"color\": \"#2a3f5f\"}, \"error_y\": {\"color\": \"#2a3f5f\"}, \"marker\": {\"line\": {\"color\": \"#E5ECF6\", \"width\": 0.5}}, \"type\": \"bar\"}], \"barpolar\": [{\"marker\": {\"line\": {\"color\": \"#E5ECF6\", \"width\": 0.5}}, \"type\": \"barpolar\"}], \"carpet\": [{\"aaxis\": {\"endlinecolor\": \"#2a3f5f\", \"gridcolor\": \"white\", \"linecolor\": \"white\", \"minorgridcolor\": \"white\", \"startlinecolor\": \"#2a3f5f\"}, \"baxis\": {\"endlinecolor\": \"#2a3f5f\", \"gridcolor\": \"white\", \"linecolor\": \"white\", \"minorgridcolor\": \"white\", \"startlinecolor\": \"#2a3f5f\"}, \"type\": \"carpet\"}], \"choropleth\": [{\"colorbar\": {\"outlinewidth\": 0, \"ticks\": \"\"}, \"type\": \"choropleth\"}], \"contour\": [{\"colorbar\": {\"outlinewidth\": 0, \"ticks\": \"\"}, \"colorscale\": [[0.0, \"#0d0887\"], [0.1111111111111111, \"#46039f\"], [0.2222222222222222, \"#7201a8\"], [0.3333333333333333, \"#9c179e\"], [0.4444444444444444, \"#bd3786\"], [0.5555555555555556, \"#d8576b\"], [0.6666666666666666, \"#ed7953\"], [0.7777777777777778, \"#fb9f3a\"], [0.8888888888888888, \"#fdca26\"], [1.0, \"#f0f921\"]], \"type\": \"contour\"}], \"contourcarpet\": [{\"colorbar\": {\"outlinewidth\": 0, \"ticks\": \"\"}, \"type\": \"contourcarpet\"}], \"heatmap\": [{\"colorbar\": {\"outlinewidth\": 0, \"ticks\": \"\"}, \"colorscale\": [[0.0, \"#0d0887\"], [0.1111111111111111, \"#46039f\"], [0.2222222222222222, \"#7201a8\"], [0.3333333333333333, \"#9c179e\"], [0.4444444444444444, \"#bd3786\"], [0.5555555555555556, \"#d8576b\"], [0.6666666666666666, \"#ed7953\"], [0.7777777777777778, \"#fb9f3a\"], [0.8888888888888888, \"#fdca26\"], [1.0, \"#f0f921\"]], \"type\": \"heatmap\"}], \"heatmapgl\": [{\"colorbar\": {\"outlinewidth\": 0, \"ticks\": \"\"}, \"colorscale\": [[0.0, \"#0d0887\"], [0.1111111111111111, \"#46039f\"], [0.2222222222222222, \"#7201a8\"], [0.3333333333333333, \"#9c179e\"], [0.4444444444444444, \"#bd3786\"], [0.5555555555555556, \"#d8576b\"], [0.6666666666666666, \"#ed7953\"], [0.7777777777777778, \"#fb9f3a\"], [0.8888888888888888, \"#fdca26\"], [1.0, \"#f0f921\"]], \"type\": \"heatmapgl\"}], \"histogram\": [{\"marker\": {\"colorbar\": {\"outlinewidth\": 0, \"ticks\": \"\"}}, \"type\": \"histogram\"}], \"histogram2d\": [{\"colorbar\": {\"outlinewidth\": 0, \"ticks\": \"\"}, \"colorscale\": [[0.0, \"#0d0887\"], [0.1111111111111111, \"#46039f\"], [0.2222222222222222, \"#7201a8\"], [0.3333333333333333, \"#9c179e\"], [0.4444444444444444, \"#bd3786\"], [0.5555555555555556, \"#d8576b\"], [0.6666666666666666, \"#ed7953\"], [0.7777777777777778, \"#fb9f3a\"], [0.8888888888888888, \"#fdca26\"], [1.0, \"#f0f921\"]], \"type\": \"histogram2d\"}], \"histogram2dcontour\": [{\"colorbar\": {\"outlinewidth\": 0, \"ticks\": \"\"}, \"colorscale\": [[0.0, \"#0d0887\"], [0.1111111111111111, \"#46039f\"], [0.2222222222222222, \"#7201a8\"], [0.3333333333333333, \"#9c179e\"], [0.4444444444444444, \"#bd3786\"], [0.5555555555555556, \"#d8576b\"], [0.6666666666666666, \"#ed7953\"], [0.7777777777777778, \"#fb9f3a\"], [0.8888888888888888, \"#fdca26\"], [1.0, \"#f0f921\"]], \"type\": \"histogram2dcontour\"}], \"mesh3d\": [{\"colorbar\": {\"outlinewidth\": 0, \"ticks\": \"\"}, \"type\": \"mesh3d\"}], \"parcoords\": [{\"line\": {\"colorbar\": {\"outlinewidth\": 0, \"ticks\": \"\"}}, \"type\": \"parcoords\"}], \"pie\": [{\"automargin\": true, \"type\": \"pie\"}], \"scatter\": [{\"marker\": {\"colorbar\": {\"outlinewidth\": 0, \"ticks\": \"\"}}, \"type\": \"scatter\"}], \"scatter3d\": [{\"line\": {\"colorbar\": {\"outlinewidth\": 0, \"ticks\": \"\"}}, \"marker\": {\"colorbar\": {\"outlinewidth\": 0, \"ticks\": \"\"}}, \"type\": \"scatter3d\"}], \"scattercarpet\": [{\"marker\": {\"colorbar\": {\"outlinewidth\": 0, \"ticks\": \"\"}}, \"type\": \"scattercarpet\"}], \"scattergeo\": [{\"marker\": {\"colorbar\": {\"outlinewidth\": 0, \"ticks\": \"\"}}, \"type\": \"scattergeo\"}], \"scattergl\": [{\"marker\": {\"colorbar\": {\"outlinewidth\": 0, \"ticks\": \"\"}}, \"type\": \"scattergl\"}], \"scattermapbox\": [{\"marker\": {\"colorbar\": {\"outlinewidth\": 0, \"ticks\": \"\"}}, \"type\": \"scattermapbox\"}], \"scatterpolar\": [{\"marker\": {\"colorbar\": {\"outlinewidth\": 0, \"ticks\": \"\"}}, \"type\": \"scatterpolar\"}], \"scatterpolargl\": [{\"marker\": {\"colorbar\": {\"outlinewidth\": 0, \"ticks\": \"\"}}, \"type\": \"scatterpolargl\"}], \"scatterternary\": [{\"marker\": {\"colorbar\": {\"outlinewidth\": 0, \"ticks\": \"\"}}, \"type\": \"scatterternary\"}], \"surface\": [{\"colorbar\": {\"outlinewidth\": 0, \"ticks\": \"\"}, \"colorscale\": [[0.0, \"#0d0887\"], [0.1111111111111111, \"#46039f\"], [0.2222222222222222, \"#7201a8\"], [0.3333333333333333, \"#9c179e\"], [0.4444444444444444, \"#bd3786\"], [0.5555555555555556, \"#d8576b\"], [0.6666666666666666, \"#ed7953\"], [0.7777777777777778, \"#fb9f3a\"], [0.8888888888888888, \"#fdca26\"], [1.0, \"#f0f921\"]], \"type\": \"surface\"}], \"table\": [{\"cells\": {\"fill\": {\"color\": \"#EBF0F8\"}, \"line\": {\"color\": \"white\"}}, \"header\": {\"fill\": {\"color\": \"#C8D4E3\"}, \"line\": {\"color\": \"white\"}}, \"type\": \"table\"}]}, \"layout\": {\"annotationdefaults\": {\"arrowcolor\": \"#2a3f5f\", \"arrowhead\": 0, \"arrowwidth\": 1}, \"coloraxis\": {\"colorbar\": {\"outlinewidth\": 0, \"ticks\": \"\"}}, \"colorscale\": {\"diverging\": [[0, \"#8e0152\"], [0.1, \"#c51b7d\"], [0.2, \"#de77ae\"], [0.3, \"#f1b6da\"], [0.4, \"#fde0ef\"], [0.5, \"#f7f7f7\"], [0.6, \"#e6f5d0\"], [0.7, \"#b8e186\"], [0.8, \"#7fbc41\"], [0.9, \"#4d9221\"], [1, \"#276419\"]], \"sequential\": [[0.0, \"#0d0887\"], [0.1111111111111111, \"#46039f\"], [0.2222222222222222, \"#7201a8\"], [0.3333333333333333, \"#9c179e\"], [0.4444444444444444, \"#bd3786\"], [0.5555555555555556, \"#d8576b\"], [0.6666666666666666, \"#ed7953\"], [0.7777777777777778, \"#fb9f3a\"], [0.8888888888888888, \"#fdca26\"], [1.0, \"#f0f921\"]], \"sequentialminus\": [[0.0, \"#0d0887\"], [0.1111111111111111, \"#46039f\"], [0.2222222222222222, \"#7201a8\"], [0.3333333333333333, \"#9c179e\"], [0.4444444444444444, \"#bd3786\"], [0.5555555555555556, \"#d8576b\"], [0.6666666666666666, \"#ed7953\"], [0.7777777777777778, \"#fb9f3a\"], [0.8888888888888888, \"#fdca26\"], [1.0, \"#f0f921\"]]}, \"colorway\": [\"#636efa\", \"#EF553B\", \"#00cc96\", \"#ab63fa\", \"#FFA15A\", \"#19d3f3\", \"#FF6692\", \"#B6E880\", \"#FF97FF\", \"#FECB52\"], \"font\": {\"color\": \"#2a3f5f\"}, \"geo\": {\"bgcolor\": \"white\", \"lakecolor\": \"white\", \"landcolor\": \"#E5ECF6\", \"showlakes\": true, \"showland\": true, \"subunitcolor\": \"white\"}, \"hoverlabel\": {\"align\": \"left\"}, \"hovermode\": \"closest\", \"mapbox\": {\"style\": \"light\"}, \"paper_bgcolor\": \"white\", \"plot_bgcolor\": \"#E5ECF6\", \"polar\": {\"angularaxis\": {\"gridcolor\": \"white\", \"linecolor\": \"white\", \"ticks\": \"\"}, \"bgcolor\": \"#E5ECF6\", \"radialaxis\": {\"gridcolor\": \"white\", \"linecolor\": \"white\", \"ticks\": \"\"}}, \"scene\": {\"xaxis\": {\"backgroundcolor\": \"#E5ECF6\", \"gridcolor\": \"white\", \"gridwidth\": 2, \"linecolor\": \"white\", \"showbackground\": true, \"ticks\": \"\", \"zerolinecolor\": \"white\"}, \"yaxis\": {\"backgroundcolor\": \"#E5ECF6\", \"gridcolor\": \"white\", \"gridwidth\": 2, \"linecolor\": \"white\", \"showbackground\": true, \"ticks\": \"\", \"zerolinecolor\": \"white\"}, \"zaxis\": {\"backgroundcolor\": \"#E5ECF6\", \"gridcolor\": \"white\", \"gridwidth\": 2, \"linecolor\": \"white\", \"showbackground\": true, \"ticks\": \"\", \"zerolinecolor\": \"white\"}}, \"shapedefaults\": {\"line\": {\"color\": \"#2a3f5f\"}}, \"ternary\": {\"aaxis\": {\"gridcolor\": \"white\", \"linecolor\": \"white\", \"ticks\": \"\"}, \"baxis\": {\"gridcolor\": \"white\", \"linecolor\": \"white\", \"ticks\": \"\"}, \"bgcolor\": \"#E5ECF6\", \"caxis\": {\"gridcolor\": \"white\", \"linecolor\": \"white\", \"ticks\": \"\"}}, \"title\": {\"x\": 0.05}, \"xaxis\": {\"automargin\": true, \"gridcolor\": \"white\", \"linecolor\": \"white\", \"ticks\": \"\", \"title\": {\"standoff\": 15}, \"zerolinecolor\": \"white\", \"zerolinewidth\": 2}, \"yaxis\": {\"automargin\": true, \"gridcolor\": \"white\", \"linecolor\": \"white\", \"ticks\": \"\", \"title\": {\"standoff\": 15}, \"zerolinecolor\": \"white\", \"zerolinewidth\": 2}}}, \"title\": {\"text\": \"<b>Working age population in G7 countries from 1950 to 2020</b><br><i>Source : OECD</i>\"}, \"yaxis\": {\"title\": {\"text\": \"Working age population (%)\"}}},\n",
       "                        {\"responsive\": true}\n",
       "                    ).then(function(){\n",
       "                            \n",
       "var gd = document.getElementById('e7021992-bcc3-45db-b07c-b67069c945b1');\n",
       "var x = new MutationObserver(function (mutations, observer) {{\n",
       "        var display = window.getComputedStyle(gd).display;\n",
       "        if (!display || display === 'none') {{\n",
       "            console.log([gd, 'removed!']);\n",
       "            Plotly.purge(gd);\n",
       "            observer.disconnect();\n",
       "        }}\n",
       "}});\n",
       "\n",
       "// Listen for the removal of the full notebook cells\n",
       "var notebookContainer = gd.closest('#notebook-container');\n",
       "if (notebookContainer) {{\n",
       "    x.observe(notebookContainer, {childList: true});\n",
       "}}\n",
       "\n",
       "// Listen for the clearing of the current output cell\n",
       "var outputEl = gd.closest('.output');\n",
       "if (outputEl) {{\n",
       "    x.observe(outputEl, {childList: true});\n",
       "}}\n",
       "\n",
       "                        })\n",
       "                };\n",
       "                });\n",
       "            </script>\n",
       "        </div>"
      ]
     },
     "metadata": {},
     "output_type": "display_data"
    }
   ],
   "source": [
    "fig_scatter = go.Figure(data=[\n",
    "    go.Scatter(\n",
    "        name='United States',\n",
    "        x=df_working_age_pop_us['TIME'], \n",
    "        y=df_working_age_pop_us['Value'],\n",
    "        marker_color=df_working_age_pop_us['Value'],\n",
    "        text=df_working_age_pop_us['Country']\n",
    "    ),\n",
    "    \n",
    "    go.Scatter(\n",
    "        name='France',\n",
    "        x=df_working_age_pop_fr['TIME'], \n",
    "        y=df_working_age_pop_fr['Value'], \n",
    "        marker_color=df_working_age_pop_fr['Value'], \n",
    "        text=df_working_age_pop_fr['Country']\n",
    "    ),\n",
    "    \n",
    "    go.Scatter(\n",
    "        name='Canada',\n",
    "        x=df_working_age_pop_ca['TIME'], \n",
    "        y=df_working_age_pop_ca['Value'], \n",
    "        marker_color=df_working_age_pop_ca['Value'], \n",
    "        text=df_working_age_pop_ca['Country']\n",
    "    ),\n",
    "    \n",
    "    go.Scatter(\n",
    "        name='United Kingdom',\n",
    "        x=df_working_age_pop_uk['TIME'], \n",
    "        y=df_working_age_pop_uk['Value'], \n",
    "        marker_color=df_working_age_pop_uk['Value'], \n",
    "        text=df_working_age_pop_uk['Country']\n",
    "    ),   \n",
    "    \n",
    "    go.Scatter(\n",
    "        name='Germany',\n",
    "        x=df_working_age_pop_de['TIME'], \n",
    "        y=df_working_age_pop_de['Value'], \n",
    "        marker_color=df_working_age_pop_de['Value'], \n",
    "        text=df_working_age_pop_de['Country']\n",
    "    ), \n",
    "    \n",
    "    go.Scatter(\n",
    "        name='Italy',\n",
    "        x=df_working_age_pop_it['TIME'], \n",
    "        y=df_working_age_pop_it['Value'], \n",
    "        marker_color=df_working_age_pop_it['Value'], \n",
    "        text=df_working_age_pop_it['Country']\n",
    "    ),\n",
    "    \n",
    "    go.Scatter(\n",
    "        name='Japan',\n",
    "        x=df_working_age_pop_jp['TIME'], \n",
    "        y=df_working_age_pop_jp['Value'], \n",
    "        marker_color=df_working_age_pop_jp['Value'], \n",
    "        text=df_working_age_pop_jp['Country']\n",
    "    )\n",
    "])\n",
    "\n",
    "\n",
    "#Style\n",
    "fig_scatter.update_layout(\n",
    "    title='<b>Working age population in G7 countries from 1950 to 2020</b><br>' + \n",
    "    '<i>Source : OECD</i>',\n",
    "    font=dict(\n",
    "        family='Helvetica',\n",
    "        size=14,\n",
    "        color='grey'\n",
    "    ),\n",
    "    legend=dict(\n",
    "        x=1,\n",
    "        y=1,\n",
    "        bgcolor='rgba(255, 255, 255, 0)',\n",
    "        bordercolor='rgba(255, 255, 255, 0)'\n",
    "    ),\n",
    "    yaxis=dict(\n",
    "        title='Working age population (%)'\n",
    "    )\n",
    ")\n",
    "\n",
    "fig_scatter.show()"
   ]
  },
  {
   "cell_type": "markdown",
   "metadata": {},
   "source": [
    "<hr>"
   ]
  },
  {
   "cell_type": "markdown",
   "metadata": {},
   "source": [
    "## Sources"
   ]
  },
  {
   "cell_type": "markdown",
   "metadata": {},
   "source": [
    "OCDE.Stat data : \n",
    "* [Working age population indicator](https://data.oecd.org/pop/working-age-population.htm) : \n",
    "OECD (2021), Working age population (indicator). doi: 10.1787/d339918b-en (Accessed on 28 October 2021)"
   ]
  }
 ],
 "metadata": {
  "kernelspec": {
   "display_name": "Python 3",
   "language": "python",
   "name": "python3"
  },
  "language_info": {
   "codemirror_mode": {
    "name": "ipython",
    "version": 3
   },
   "file_extension": ".py",
   "mimetype": "text/x-python",
   "name": "python",
   "nbconvert_exporter": "python",
   "pygments_lexer": "ipython3",
   "version": "3.8.5"
  }
 },
 "nbformat": 4,
 "nbformat_minor": 4
}
