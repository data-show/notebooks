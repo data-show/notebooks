{
 "cells": [
  {
   "cell_type": "markdown",
   "metadata": {},
   "source": [
    "# Hours worked in OECD countries"
   ]
  },
  {
   "cell_type": "markdown",
   "metadata": {},
   "source": [
    "<hr>"
   ]
  },
  {
   "cell_type": "markdown",
   "metadata": {},
   "source": [
    "According to OECD, the average number of annual hours worked corresponds to the total number of hours worked divided by the average number of people in employment, for a given annual period. \n",
    "What is the evolution of the average number of hours worked annually per employee for a selection of countries over the years ?"
   ]
  },
  {
   "cell_type": "markdown",
   "metadata": {},
   "source": [
    "## Import required libraries"
   ]
  },
  {
   "cell_type": "code",
   "execution_count": 176,
   "metadata": {},
   "outputs": [],
   "source": [
    "from PIL import Image\n",
    "\n",
    "import pandas as pd\n",
    "import numpy as np\n",
    "import plotly.express as px\n",
    "import plotly.io as pio\n",
    "import plotly.graph_objects as go\n",
    "from IPython.display import Javascript\n",
    "from plotly.subplots import make_subplots\n",
    "\n",
    "Javascript(\n",
    "\"\"\"require.config({\n",
    " paths: { \n",
    "     plotly: 'https://cdn.plot.ly/plotly-latest.min'\n",
    " }\n",
    "});\"\"\"\n",
    ")\n",
    "\n",
    "pio.renderers.default = 'notebook_connected'"
   ]
  },
  {
   "cell_type": "markdown",
   "metadata": {},
   "source": [
    "## Data pre-processing"
   ]
  },
  {
   "cell_type": "code",
   "execution_count": 177,
   "metadata": {},
   "outputs": [
    {
     "data": {
      "text/html": [
       "<div>\n",
       "<style scoped>\n",
       "    .dataframe tbody tr th:only-of-type {\n",
       "        vertical-align: middle;\n",
       "    }\n",
       "\n",
       "    .dataframe tbody tr th {\n",
       "        vertical-align: top;\n",
       "    }\n",
       "\n",
       "    .dataframe thead th {\n",
       "        text-align: right;\n",
       "    }\n",
       "</style>\n",
       "<table border=\"1\" class=\"dataframe\">\n",
       "  <thead>\n",
       "    <tr style=\"text-align: right;\">\n",
       "      <th></th>\n",
       "      <th>COUNTRY</th>\n",
       "      <th>Country</th>\n",
       "      <th>TIME</th>\n",
       "      <th>Value</th>\n",
       "    </tr>\n",
       "  </thead>\n",
       "  <tbody>\n",
       "    <tr>\n",
       "      <th>1433</th>\n",
       "      <td>CHL</td>\n",
       "      <td>Chile</td>\n",
       "      <td>1990</td>\n",
       "      <td>2422.0</td>\n",
       "    </tr>\n",
       "    <tr>\n",
       "      <th>1434</th>\n",
       "      <td>CHL</td>\n",
       "      <td>Chile</td>\n",
       "      <td>1991</td>\n",
       "      <td>2419.0</td>\n",
       "    </tr>\n",
       "    <tr>\n",
       "      <th>1432</th>\n",
       "      <td>CHL</td>\n",
       "      <td>Chile</td>\n",
       "      <td>1989</td>\n",
       "      <td>2416.0</td>\n",
       "    </tr>\n",
       "    <tr>\n",
       "      <th>1435</th>\n",
       "      <td>CHL</td>\n",
       "      <td>Chile</td>\n",
       "      <td>1992</td>\n",
       "      <td>2415.0</td>\n",
       "    </tr>\n",
       "    <tr>\n",
       "      <th>1431</th>\n",
       "      <td>CHL</td>\n",
       "      <td>Chile</td>\n",
       "      <td>1988</td>\n",
       "      <td>2411.0</td>\n",
       "    </tr>\n",
       "  </tbody>\n",
       "</table>\n",
       "</div>"
      ],
      "text/plain": [
       "     COUNTRY Country  TIME   Value\n",
       "1433     CHL   Chile  1990  2422.0\n",
       "1434     CHL   Chile  1991  2419.0\n",
       "1432     CHL   Chile  1989  2416.0\n",
       "1435     CHL   Chile  1992  2415.0\n",
       "1431     CHL   Chile  1988  2411.0"
      ]
     },
     "execution_count": 177,
     "metadata": {},
     "output_type": "execute_result"
    }
   ],
   "source": [
    "df_hours_worked = pd.read_csv('Data/Hours_worked_indicator.csv', \n",
    "                              sep=',', \n",
    "                              usecols=['COUNTRY', 'Country', 'TIME', 'Value'],\n",
    "                              parse_dates=True\n",
    "                             )\n",
    "\n",
    "df_hours_worked_bar = df_hours_worked.sort_values('Value', ascending=False)\n",
    "\n",
    "df_hours_worked_bar.head()"
   ]
  },
  {
   "cell_type": "markdown",
   "metadata": {},
   "source": [
    "## Plotting"
   ]
  },
  {
   "cell_type": "markdown",
   "metadata": {},
   "source": [
    "### Bar plot"
   ]
  },
  {
   "cell_type": "code",
   "execution_count": 178,
   "metadata": {},
   "outputs": [
    {
     "data": {
      "text/html": [
       "        <script type=\"text/javascript\">\n",
       "        window.PlotlyConfig = {MathJaxConfig: 'local'};\n",
       "        if (window.MathJax) {MathJax.Hub.Config({SVG: {font: \"STIX-Web\"}});}\n",
       "        if (typeof require !== 'undefined') {\n",
       "        require.undef(\"plotly\");\n",
       "        requirejs.config({\n",
       "            paths: {\n",
       "                'plotly': ['https://cdn.plot.ly/plotly-latest.min']\n",
       "            }\n",
       "        });\n",
       "        require(['plotly'], function(Plotly) {\n",
       "            window._Plotly = Plotly;\n",
       "        });\n",
       "        }\n",
       "        </script>\n",
       "        "
      ]
     },
     "metadata": {},
     "output_type": "display_data"
    },
    {
     "data": {
      "text/html": [
       "<div>\n",
       "        \n",
       "        \n",
       "            <div id=\"d1178852-0e29-4747-be64-8a10f40a68b0\" class=\"plotly-graph-div\" style=\"height:525px; width:100%;\"></div>\n",
       "            <script type=\"text/javascript\">\n",
       "                require([\"plotly\"], function(Plotly) {\n",
       "                    window.PLOTLYENV=window.PLOTLYENV || {};\n",
       "                    \n",
       "                if (document.getElementById(\"d1178852-0e29-4747-be64-8a10f40a68b0\")) {\n",
       "                    Plotly.newPlot(\n",
       "                        'd1178852-0e29-4747-be64-8a10f40a68b0',\n",
       "                        [{\"alignmentgroup\": \"True\", \"hovertemplate\": \"<b>%{hovertext}</b><br><br>=%{x}<br>Hours worked=%{marker.color}<extra></extra>\", \"hovertext\": [\"Colombia\", \"Mexico\", \"Costa Rica\", \"Malta\", \"Korea\", \"Russian Federation\", \"Chile\", \"Greece\", \"Israel\", \"Croatia\", \"Cyprus\", \"Romania\", \"Czech Republic\", \"New Zealand\", \"Poland\", \"United States\", \"Ireland\", \"Portugal\", \"OECD countries\", \"Hungary\", \"Australia\", \"Italy\", \"Estonia\", \"Slovak Republic\", \"Canada\", \"Spain\", \"Lithuania\", \"Bulgaria\", \"Japan\", \"Latvia\", \"Slovenia\", \"European Union 27\", \"Belgium\", \"Euro area\", \"Switzerland\", \"Finland\", \"United Kingdom\", \"France\", \"Austria\", \"Luxembourg\", \"Iceland\", \"Sweden\", \"Netherlands\", \"Germany\", \"Norway\", \"Denmark\"], \"legendgroup\": \"\", \"marker\": {\"color\": [2172.0, 2139.0, 2059.6, 2023.0, 1967.0, 1965.0, 1929.5, 1920.0, 1898.1, 1838.0, 1805.0, 1791.0, 1784.0, 1783.0, 1781.0, 1777.0, 1771.0, 1745.0, 1743.0, 1722.2, 1722.0, 1714.7, 1711.0, 1692.0, 1690.0, 1687.7, 1665.0, 1645.0, 1644.0, 1631.0, 1601.4, 1593.0, 1576.0, 1558.0, 1549.0, 1539.0, 1537.0, 1511.0, 1509.0, 1506.0, 1480.0, 1452.0, 1440.0, 1382.8, 1381.4, 1381.0], \"coloraxis\": \"coloraxis\"}, \"name\": \"\", \"offsetgroup\": \"\", \"orientation\": \"v\", \"showlegend\": false, \"textposition\": \"auto\", \"type\": \"bar\", \"x\": [\"Colombia\", \"Mexico\", \"Costa Rica\", \"Malta\", \"Korea\", \"Russian Federation\", \"Chile\", \"Greece\", \"Israel\", \"Croatia\", \"Cyprus\", \"Romania\", \"Czech Republic\", \"New Zealand\", \"Poland\", \"United States\", \"Ireland\", \"Portugal\", \"OECD countries\", \"Hungary\", \"Australia\", \"Italy\", \"Estonia\", \"Slovak Republic\", \"Canada\", \"Spain\", \"Lithuania\", \"Bulgaria\", \"Japan\", \"Latvia\", \"Slovenia\", \"European Union 27\", \"Belgium\", \"Euro area\", \"Switzerland\", \"Finland\", \"United Kingdom\", \"France\", \"Austria\", \"Luxembourg\", \"Iceland\", \"Sweden\", \"Netherlands\", \"Germany\", \"Norway\", \"Denmark\"], \"xaxis\": \"x\", \"y\": [2172.0, 2139.0, 2059.6, 2023.0, 1967.0, 1965.0, 1929.5, 1920.0, 1898.1, 1838.0, 1805.0, 1791.0, 1784.0, 1783.0, 1781.0, 1777.0, 1771.0, 1745.0, 1743.0, 1722.2, 1722.0, 1714.7, 1711.0, 1692.0, 1690.0, 1687.7, 1665.0, 1645.0, 1644.0, 1631.0, 1601.4, 1593.0, 1576.0, 1558.0, 1549.0, 1539.0, 1537.0, 1511.0, 1509.0, 1506.0, 1480.0, 1452.0, 1440.0, 1382.8, 1381.4, 1381.0], \"yaxis\": \"y\"}],\n",
       "                        {\"barmode\": \"relative\", \"coloraxis\": {\"colorbar\": {\"title\": {\"text\": \"Hours worked\"}}, \"colorscale\": [[0.0, \"rgb(209, 238, 234)\"], [0.16666666666666666, \"rgb(168, 219, 217)\"], [0.3333333333333333, \"rgb(133, 196, 201)\"], [0.5, \"rgb(104, 171, 184)\"], [0.6666666666666666, \"rgb(79, 144, 166)\"], [0.8333333333333334, \"rgb(59, 115, 143)\"], [1.0, \"rgb(42, 86, 116)\"]], \"showscale\": false}, \"font\": {\"color\": \"grey\", \"family\": \"Helvetica\", \"size\": 12}, \"legend\": {\"tracegroupgap\": 0}, \"template\": {\"data\": {\"bar\": [{\"error_x\": {\"color\": \"#2a3f5f\"}, \"error_y\": {\"color\": \"#2a3f5f\"}, \"marker\": {\"line\": {\"color\": \"#E5ECF6\", \"width\": 0.5}}, \"type\": \"bar\"}], \"barpolar\": [{\"marker\": {\"line\": {\"color\": \"#E5ECF6\", \"width\": 0.5}}, \"type\": \"barpolar\"}], \"carpet\": [{\"aaxis\": {\"endlinecolor\": \"#2a3f5f\", \"gridcolor\": \"white\", \"linecolor\": \"white\", \"minorgridcolor\": \"white\", \"startlinecolor\": \"#2a3f5f\"}, \"baxis\": {\"endlinecolor\": \"#2a3f5f\", \"gridcolor\": \"white\", \"linecolor\": \"white\", \"minorgridcolor\": \"white\", \"startlinecolor\": \"#2a3f5f\"}, \"type\": \"carpet\"}], \"choropleth\": [{\"colorbar\": {\"outlinewidth\": 0, \"ticks\": \"\"}, \"type\": \"choropleth\"}], \"contour\": [{\"colorbar\": {\"outlinewidth\": 0, \"ticks\": \"\"}, \"colorscale\": [[0.0, \"#0d0887\"], [0.1111111111111111, \"#46039f\"], [0.2222222222222222, \"#7201a8\"], [0.3333333333333333, \"#9c179e\"], [0.4444444444444444, \"#bd3786\"], [0.5555555555555556, \"#d8576b\"], [0.6666666666666666, \"#ed7953\"], [0.7777777777777778, \"#fb9f3a\"], [0.8888888888888888, \"#fdca26\"], [1.0, \"#f0f921\"]], \"type\": \"contour\"}], \"contourcarpet\": [{\"colorbar\": {\"outlinewidth\": 0, \"ticks\": \"\"}, \"type\": \"contourcarpet\"}], \"heatmap\": [{\"colorbar\": {\"outlinewidth\": 0, \"ticks\": \"\"}, \"colorscale\": [[0.0, \"#0d0887\"], [0.1111111111111111, \"#46039f\"], [0.2222222222222222, \"#7201a8\"], [0.3333333333333333, \"#9c179e\"], [0.4444444444444444, \"#bd3786\"], [0.5555555555555556, \"#d8576b\"], [0.6666666666666666, \"#ed7953\"], [0.7777777777777778, \"#fb9f3a\"], [0.8888888888888888, \"#fdca26\"], [1.0, \"#f0f921\"]], \"type\": \"heatmap\"}], \"heatmapgl\": [{\"colorbar\": {\"outlinewidth\": 0, \"ticks\": \"\"}, \"colorscale\": [[0.0, \"#0d0887\"], [0.1111111111111111, \"#46039f\"], [0.2222222222222222, \"#7201a8\"], [0.3333333333333333, \"#9c179e\"], [0.4444444444444444, \"#bd3786\"], [0.5555555555555556, \"#d8576b\"], [0.6666666666666666, \"#ed7953\"], [0.7777777777777778, \"#fb9f3a\"], [0.8888888888888888, \"#fdca26\"], [1.0, \"#f0f921\"]], \"type\": \"heatmapgl\"}], \"histogram\": [{\"marker\": {\"colorbar\": {\"outlinewidth\": 0, \"ticks\": \"\"}}, \"type\": \"histogram\"}], \"histogram2d\": [{\"colorbar\": {\"outlinewidth\": 0, \"ticks\": \"\"}, \"colorscale\": [[0.0, \"#0d0887\"], [0.1111111111111111, \"#46039f\"], [0.2222222222222222, \"#7201a8\"], [0.3333333333333333, \"#9c179e\"], [0.4444444444444444, \"#bd3786\"], [0.5555555555555556, \"#d8576b\"], [0.6666666666666666, \"#ed7953\"], [0.7777777777777778, \"#fb9f3a\"], [0.8888888888888888, \"#fdca26\"], [1.0, \"#f0f921\"]], \"type\": \"histogram2d\"}], \"histogram2dcontour\": [{\"colorbar\": {\"outlinewidth\": 0, \"ticks\": \"\"}, \"colorscale\": [[0.0, \"#0d0887\"], [0.1111111111111111, \"#46039f\"], [0.2222222222222222, \"#7201a8\"], [0.3333333333333333, \"#9c179e\"], [0.4444444444444444, \"#bd3786\"], [0.5555555555555556, \"#d8576b\"], [0.6666666666666666, \"#ed7953\"], [0.7777777777777778, \"#fb9f3a\"], [0.8888888888888888, \"#fdca26\"], [1.0, \"#f0f921\"]], \"type\": \"histogram2dcontour\"}], \"mesh3d\": [{\"colorbar\": {\"outlinewidth\": 0, \"ticks\": \"\"}, \"type\": \"mesh3d\"}], \"parcoords\": [{\"line\": {\"colorbar\": {\"outlinewidth\": 0, \"ticks\": \"\"}}, \"type\": \"parcoords\"}], \"pie\": [{\"automargin\": true, \"type\": \"pie\"}], \"scatter\": [{\"marker\": {\"colorbar\": {\"outlinewidth\": 0, \"ticks\": \"\"}}, \"type\": \"scatter\"}], \"scatter3d\": [{\"line\": {\"colorbar\": {\"outlinewidth\": 0, \"ticks\": \"\"}}, \"marker\": {\"colorbar\": {\"outlinewidth\": 0, \"ticks\": \"\"}}, \"type\": \"scatter3d\"}], \"scattercarpet\": [{\"marker\": {\"colorbar\": {\"outlinewidth\": 0, \"ticks\": \"\"}}, \"type\": \"scattercarpet\"}], \"scattergeo\": [{\"marker\": {\"colorbar\": {\"outlinewidth\": 0, \"ticks\": \"\"}}, \"type\": \"scattergeo\"}], \"scattergl\": [{\"marker\": {\"colorbar\": {\"outlinewidth\": 0, \"ticks\": \"\"}}, \"type\": \"scattergl\"}], \"scattermapbox\": [{\"marker\": {\"colorbar\": {\"outlinewidth\": 0, \"ticks\": \"\"}}, \"type\": \"scattermapbox\"}], \"scatterpolar\": [{\"marker\": {\"colorbar\": {\"outlinewidth\": 0, \"ticks\": \"\"}}, \"type\": \"scatterpolar\"}], \"scatterpolargl\": [{\"marker\": {\"colorbar\": {\"outlinewidth\": 0, \"ticks\": \"\"}}, \"type\": \"scatterpolargl\"}], \"scatterternary\": [{\"marker\": {\"colorbar\": {\"outlinewidth\": 0, \"ticks\": \"\"}}, \"type\": \"scatterternary\"}], \"surface\": [{\"colorbar\": {\"outlinewidth\": 0, \"ticks\": \"\"}, \"colorscale\": [[0.0, \"#0d0887\"], [0.1111111111111111, \"#46039f\"], [0.2222222222222222, \"#7201a8\"], [0.3333333333333333, \"#9c179e\"], [0.4444444444444444, \"#bd3786\"], [0.5555555555555556, \"#d8576b\"], [0.6666666666666666, \"#ed7953\"], [0.7777777777777778, \"#fb9f3a\"], [0.8888888888888888, \"#fdca26\"], [1.0, \"#f0f921\"]], \"type\": \"surface\"}], \"table\": [{\"cells\": {\"fill\": {\"color\": \"#EBF0F8\"}, \"line\": {\"color\": \"white\"}}, \"header\": {\"fill\": {\"color\": \"#C8D4E3\"}, \"line\": {\"color\": \"white\"}}, \"type\": \"table\"}]}, \"layout\": {\"annotationdefaults\": {\"arrowcolor\": \"#2a3f5f\", \"arrowhead\": 0, \"arrowwidth\": 1}, \"coloraxis\": {\"colorbar\": {\"outlinewidth\": 0, \"ticks\": \"\"}}, \"colorscale\": {\"diverging\": [[0, \"#8e0152\"], [0.1, \"#c51b7d\"], [0.2, \"#de77ae\"], [0.3, \"#f1b6da\"], [0.4, \"#fde0ef\"], [0.5, \"#f7f7f7\"], [0.6, \"#e6f5d0\"], [0.7, \"#b8e186\"], [0.8, \"#7fbc41\"], [0.9, \"#4d9221\"], [1, \"#276419\"]], \"sequential\": [[0.0, \"#0d0887\"], [0.1111111111111111, \"#46039f\"], [0.2222222222222222, \"#7201a8\"], [0.3333333333333333, \"#9c179e\"], [0.4444444444444444, \"#bd3786\"], [0.5555555555555556, \"#d8576b\"], [0.6666666666666666, \"#ed7953\"], [0.7777777777777778, \"#fb9f3a\"], [0.8888888888888888, \"#fdca26\"], [1.0, \"#f0f921\"]], \"sequentialminus\": [[0.0, \"#0d0887\"], [0.1111111111111111, \"#46039f\"], [0.2222222222222222, \"#7201a8\"], [0.3333333333333333, \"#9c179e\"], [0.4444444444444444, \"#bd3786\"], [0.5555555555555556, \"#d8576b\"], [0.6666666666666666, \"#ed7953\"], [0.7777777777777778, \"#fb9f3a\"], [0.8888888888888888, \"#fdca26\"], [1.0, \"#f0f921\"]]}, \"colorway\": [\"#636efa\", \"#EF553B\", \"#00cc96\", \"#ab63fa\", \"#FFA15A\", \"#19d3f3\", \"#FF6692\", \"#B6E880\", \"#FF97FF\", \"#FECB52\"], \"font\": {\"color\": \"#2a3f5f\"}, \"geo\": {\"bgcolor\": \"white\", \"lakecolor\": \"white\", \"landcolor\": \"#E5ECF6\", \"showlakes\": true, \"showland\": true, \"subunitcolor\": \"white\"}, \"hoverlabel\": {\"align\": \"left\"}, \"hovermode\": \"closest\", \"mapbox\": {\"style\": \"light\"}, \"paper_bgcolor\": \"white\", \"plot_bgcolor\": \"#E5ECF6\", \"polar\": {\"angularaxis\": {\"gridcolor\": \"white\", \"linecolor\": \"white\", \"ticks\": \"\"}, \"bgcolor\": \"#E5ECF6\", \"radialaxis\": {\"gridcolor\": \"white\", \"linecolor\": \"white\", \"ticks\": \"\"}}, \"scene\": {\"xaxis\": {\"backgroundcolor\": \"#E5ECF6\", \"gridcolor\": \"white\", \"gridwidth\": 2, \"linecolor\": \"white\", \"showbackground\": true, \"ticks\": \"\", \"zerolinecolor\": \"white\"}, \"yaxis\": {\"backgroundcolor\": \"#E5ECF6\", \"gridcolor\": \"white\", \"gridwidth\": 2, \"linecolor\": \"white\", \"showbackground\": true, \"ticks\": \"\", \"zerolinecolor\": \"white\"}, \"zaxis\": {\"backgroundcolor\": \"#E5ECF6\", \"gridcolor\": \"white\", \"gridwidth\": 2, \"linecolor\": \"white\", \"showbackground\": true, \"ticks\": \"\", \"zerolinecolor\": \"white\"}}, \"shapedefaults\": {\"line\": {\"color\": \"#2a3f5f\"}}, \"ternary\": {\"aaxis\": {\"gridcolor\": \"white\", \"linecolor\": \"white\", \"ticks\": \"\"}, \"baxis\": {\"gridcolor\": \"white\", \"linecolor\": \"white\", \"ticks\": \"\"}, \"bgcolor\": \"#E5ECF6\", \"caxis\": {\"gridcolor\": \"white\", \"linecolor\": \"white\", \"ticks\": \"\"}}, \"title\": {\"x\": 0.05}, \"xaxis\": {\"automargin\": true, \"gridcolor\": \"white\", \"linecolor\": \"white\", \"ticks\": \"\", \"title\": {\"standoff\": 15}, \"zerolinecolor\": \"white\", \"zerolinewidth\": 2}, \"yaxis\": {\"automargin\": true, \"gridcolor\": \"white\", \"linecolor\": \"white\", \"ticks\": \"\", \"title\": {\"standoff\": 15}, \"zerolinecolor\": \"white\", \"zerolinewidth\": 2}}}, \"title\": {\"font\": {\"size\": 20}, \"text\": \"<b>Average number of annual hours worked per employee in 2019 in a selection of countries</b><br><i>Source : OECD</i>\"}, \"xaxis\": {\"anchor\": \"y\", \"domain\": [0.0, 1.0], \"tickangle\": -45, \"title\": {\"text\": \"\"}}, \"yaxis\": {\"anchor\": \"x\", \"domain\": [0.0, 1.0], \"title\": {\"text\": \"Hours worked\"}}},\n",
       "                        {\"responsive\": true}\n",
       "                    ).then(function(){\n",
       "                            \n",
       "var gd = document.getElementById('d1178852-0e29-4747-be64-8a10f40a68b0');\n",
       "var x = new MutationObserver(function (mutations, observer) {{\n",
       "        var display = window.getComputedStyle(gd).display;\n",
       "        if (!display || display === 'none') {{\n",
       "            console.log([gd, 'removed!']);\n",
       "            Plotly.purge(gd);\n",
       "            observer.disconnect();\n",
       "        }}\n",
       "}});\n",
       "\n",
       "// Listen for the removal of the full notebook cells\n",
       "var notebookContainer = gd.closest('#notebook-container');\n",
       "if (notebookContainer) {{\n",
       "    x.observe(notebookContainer, {childList: true});\n",
       "}}\n",
       "\n",
       "// Listen for the clearing of the current output cell\n",
       "var outputEl = gd.closest('.output');\n",
       "if (outputEl) {{\n",
       "    x.observe(outputEl, {childList: true});\n",
       "}}\n",
       "\n",
       "                        })\n",
       "                };\n",
       "                });\n",
       "            </script>\n",
       "        </div>"
      ]
     },
     "metadata": {},
     "output_type": "display_data"
    }
   ],
   "source": [
    "fig_bar = px.bar(df_hours_worked_bar.query(\"TIME==2019\"), \n",
    "             x=\"Country\", \n",
    "             y=\"Value\", \n",
    "             hover_name=\"Country\", \n",
    "             color=\"Value\",\n",
    "             color_continuous_scale=px.colors.sequential.Teal, \n",
    "             labels={'Value':'Hours worked', 'Country':''}, \n",
    "             title=\"<b>Average number of annual hours worked per employee in 2019 in a selection of countries</b><br>\" + \n",
    "             \"<i>Source : OECD</i>\"\n",
    "            )\n",
    "\n",
    "# Style\n",
    "fig_bar.update_layout(\n",
    "    font_family='Helvetica',\n",
    "    font_color='grey',\n",
    "    font_size=12,\n",
    "    title_font_size=20,\n",
    "    xaxis_tickangle=-45\n",
    "\n",
    ")\n",
    "\n",
    "fig_bar.update_coloraxes(showscale=False)\n",
    "\n",
    "fig_bar.show()"
   ]
  },
  {
   "cell_type": "markdown",
   "metadata": {},
   "source": [
    "### Scatter plot"
   ]
  },
  {
   "cell_type": "markdown",
   "metadata": {},
   "source": [
    "Let's see the evolution of the average number of hours worked annually per employee for a selection of countries over the years."
   ]
  },
  {
   "cell_type": "code",
   "execution_count": 179,
   "metadata": {},
   "outputs": [
    {
     "data": {
      "text/html": [
       "<div>\n",
       "<style scoped>\n",
       "    .dataframe tbody tr th:only-of-type {\n",
       "        vertical-align: middle;\n",
       "    }\n",
       "\n",
       "    .dataframe tbody tr th {\n",
       "        vertical-align: top;\n",
       "    }\n",
       "\n",
       "    .dataframe thead th {\n",
       "        text-align: right;\n",
       "    }\n",
       "</style>\n",
       "<table border=\"1\" class=\"dataframe\">\n",
       "  <thead>\n",
       "    <tr style=\"text-align: right;\">\n",
       "      <th></th>\n",
       "      <th>COUNTRY</th>\n",
       "      <th>Country</th>\n",
       "      <th>TIME</th>\n",
       "      <th>Value</th>\n",
       "    </tr>\n",
       "  </thead>\n",
       "  <tbody>\n",
       "    <tr>\n",
       "      <th>313</th>\n",
       "      <td>FRA</td>\n",
       "      <td>France</td>\n",
       "      <td>1950</td>\n",
       "      <td>2351.0</td>\n",
       "    </tr>\n",
       "    <tr>\n",
       "      <th>1035</th>\n",
       "      <td>SWE</td>\n",
       "      <td>Sweden</td>\n",
       "      <td>1950</td>\n",
       "      <td>1824.0</td>\n",
       "    </tr>\n",
       "    <tr>\n",
       "      <th>1267</th>\n",
       "      <td>USA</td>\n",
       "      <td>United States</td>\n",
       "      <td>1950</td>\n",
       "      <td>1968.0</td>\n",
       "    </tr>\n",
       "    <tr>\n",
       "      <th>314</th>\n",
       "      <td>FRA</td>\n",
       "      <td>France</td>\n",
       "      <td>1951</td>\n",
       "      <td>2360.0</td>\n",
       "    </tr>\n",
       "    <tr>\n",
       "      <th>1036</th>\n",
       "      <td>SWE</td>\n",
       "      <td>Sweden</td>\n",
       "      <td>1951</td>\n",
       "      <td>1816.0</td>\n",
       "    </tr>\n",
       "  </tbody>\n",
       "</table>\n",
       "</div>"
      ],
      "text/plain": [
       "     COUNTRY        Country  TIME   Value\n",
       "313      FRA         France  1950  2351.0\n",
       "1035     SWE         Sweden  1950  1824.0\n",
       "1267     USA  United States  1950  1968.0\n",
       "314      FRA         France  1951  2360.0\n",
       "1036     SWE         Sweden  1951  1816.0"
      ]
     },
     "execution_count": 179,
     "metadata": {},
     "output_type": "execute_result"
    }
   ],
   "source": [
    "df_hours_worked_scatter = df_hours_worked.sort_values(by=['TIME', 'COUNTRY'], ascending=True)\n",
    "             \n",
    "df_hours_worked_scatter.head()"
   ]
  },
  {
   "cell_type": "code",
   "execution_count": 180,
   "metadata": {},
   "outputs": [],
   "source": [
    "df_hours_worked_us = df_hours_worked_scatter.query(\"Country == 'United States'\")\n",
    "df_hours_worked_fr = df_hours_worked_scatter.query(\"Country == 'France'\")\n",
    "df_hours_worked_ca = df_hours_worked_scatter.query(\"Country == 'Canada'\")\n",
    "df_hours_worked_de = df_hours_worked_scatter.query(\"Country == 'Germany'\")\n",
    "df_hours_worked_it = df_hours_worked_scatter.query(\"Country == 'Italy'\")\n",
    "df_hours_worked_uk = df_hours_worked_scatter.query(\"Country == 'United Kingdom'\")\n",
    "df_hours_worked_jp = df_hours_worked_scatter.query(\"Country == 'Japan'\")"
   ]
  },
  {
   "cell_type": "code",
   "execution_count": 184,
   "metadata": {},
   "outputs": [
    {
     "data": {
      "text/html": [
       "<div>\n",
       "        \n",
       "        \n",
       "            <div id=\"22d8e3a3-a14f-4942-ad23-4227cc441b1f\" class=\"plotly-graph-div\" style=\"height:525px; width:100%;\"></div>\n",
       "            <script type=\"text/javascript\">\n",
       "                require([\"plotly\"], function(Plotly) {\n",
       "                    window.PLOTLYENV=window.PLOTLYENV || {};\n",
       "                    \n",
       "                if (document.getElementById(\"22d8e3a3-a14f-4942-ad23-4227cc441b1f\")) {\n",
       "                    Plotly.newPlot(\n",
       "                        '22d8e3a3-a14f-4942-ad23-4227cc441b1f',\n",
       "                        [{\"marker\": {\"color\": [1968.0, 1987.0, 1988.0, 1993.0, 1984.0, 2003.0, 2002.0, 1973.0, 1947.0, 1958.0, 1952.0, 1941.0, 1960.0, 1972.0, 1975.0, 1984.0, 1974.0, 1951.0, 1940.0, 1938.0, 1907.0, 1894.0, 1890.0, 1891.0, 1860.0, 1839.0, 1841.0, 1844.0, 1836.0, 1834.0, 1816.0, 1812.0, 1803.0, 1822.0, 1839.0, 1838.0, 1829.0, 1839.0, 1837.0, 1848.0, 1833.0, 1823.0, 1968.0, 1968.0, 1839.0, 1839.0, 1840.0, 1843.0, 1842.0, 1839.0, 1832.0, 1811.0, 1806.0, 1796.0, 1798.0, 1794.0, 1796.0, 1795.0, 1786.0, 1761.0, 1772.0, 1778.0, 1782.0, 1780.0, 1782.0, 1783.0, 1778.0, 1778.0, 1782.0, 1777.0, 1767.0]}, \"name\": \"United States\", \"text\": [\"United States\", \"United States\", \"United States\", \"United States\", \"United States\", \"United States\", \"United States\", \"United States\", \"United States\", \"United States\", \"United States\", \"United States\", \"United States\", \"United States\", \"United States\", \"United States\", \"United States\", \"United States\", \"United States\", \"United States\", \"United States\", \"United States\", \"United States\", \"United States\", \"United States\", \"United States\", \"United States\", \"United States\", \"United States\", \"United States\", \"United States\", \"United States\", \"United States\", \"United States\", \"United States\", \"United States\", \"United States\", \"United States\", \"United States\", \"United States\", \"United States\", \"United States\", \"United States\", \"United States\", \"United States\", \"United States\", \"United States\", \"United States\", \"United States\", \"United States\", \"United States\", \"United States\", \"United States\", \"United States\", \"United States\", \"United States\", \"United States\", \"United States\", \"United States\", \"United States\", \"United States\", \"United States\", \"United States\", \"United States\", \"United States\", \"United States\", \"United States\", \"United States\", \"United States\", \"United States\", \"United States\"], \"type\": \"scatter\", \"x\": [1950, 1951, 1952, 1953, 1954, 1955, 1956, 1957, 1958, 1959, 1960, 1961, 1962, 1963, 1964, 1965, 1966, 1967, 1968, 1969, 1970, 1971, 1972, 1973, 1974, 1975, 1976, 1977, 1978, 1979, 1980, 1981, 1982, 1983, 1984, 1985, 1986, 1987, 1988, 1989, 1990, 1991, 1992, 1993, 1994, 1995, 1996, 1997, 1998, 1999, 2000, 2001, 2002, 2003, 2004, 2005, 2006, 2007, 2008, 2009, 2010, 2011, 2012, 2013, 2014, 2015, 2016, 2017, 2018, 2019, 2020], \"y\": [1968.0, 1987.0, 1988.0, 1993.0, 1984.0, 2003.0, 2002.0, 1973.0, 1947.0, 1958.0, 1952.0, 1941.0, 1960.0, 1972.0, 1975.0, 1984.0, 1974.0, 1951.0, 1940.0, 1938.0, 1907.0, 1894.0, 1890.0, 1891.0, 1860.0, 1839.0, 1841.0, 1844.0, 1836.0, 1834.0, 1816.0, 1812.0, 1803.0, 1822.0, 1839.0, 1838.0, 1829.0, 1839.0, 1837.0, 1848.0, 1833.0, 1823.0, 1968.0, 1968.0, 1839.0, 1839.0, 1840.0, 1843.0, 1842.0, 1839.0, 1832.0, 1811.0, 1806.0, 1796.0, 1798.0, 1794.0, 1796.0, 1795.0, 1786.0, 1761.0, 1772.0, 1778.0, 1782.0, 1780.0, 1782.0, 1783.0, 1778.0, 1778.0, 1782.0, 1777.0, 1767.0]}, {\"marker\": {\"color\": [2351.0, 2360.0, 2339.0, 2313.0, 2316.0, 2292.0, 2236.0, 2200.0, 2179.0, 2179.0, 2188.0, 2165.0, 2178.0, 2159.0, 2166.0, 2153.0, 2145.0, 2110.0, 2087.0, 2012.0, 1993.0, 1990.0, 1937.0, 1920.0, 1888.0, 1863.0, 1889.0, 1850.0, 1819.0, 1816.0, 1806.0, 1786.0, 1714.0, 1696.0, 1690.0, 1654.0, 1648.0, 1659.0, 1667.0, 1651.0, 1645.0, 1638.0, 1635.0, 1627.0, 1623.0, 1601.0, 1597.0, 1596.0, 1585.0, 1578.0, 1558.0, 1538.0, 1504.0, 1507.0, 1531.0, 1532.0, 1515.0, 1537.0, 1543.0, 1531.0, 1540.0, 1546.0, 1541.0, 1526.0, 1518.0, 1519.0, 1522.0, 1508.0, 1514.0, 1511.0, 1402.0]}, \"name\": \"France\", \"text\": [\"France\", \"France\", \"France\", \"France\", \"France\", \"France\", \"France\", \"France\", \"France\", \"France\", \"France\", \"France\", \"France\", \"France\", \"France\", \"France\", \"France\", \"France\", \"France\", \"France\", \"France\", \"France\", \"France\", \"France\", \"France\", \"France\", \"France\", \"France\", \"France\", \"France\", \"France\", \"France\", \"France\", \"France\", \"France\", \"France\", \"France\", \"France\", \"France\", \"France\", \"France\", \"France\", \"France\", \"France\", \"France\", \"France\", \"France\", \"France\", \"France\", \"France\", \"France\", \"France\", \"France\", \"France\", \"France\", \"France\", \"France\", \"France\", \"France\", \"France\", \"France\", \"France\", \"France\", \"France\", \"France\", \"France\", \"France\", \"France\", \"France\", \"France\", \"France\"], \"type\": \"scatter\", \"x\": [1950, 1951, 1952, 1953, 1954, 1955, 1956, 1957, 1958, 1959, 1960, 1961, 1962, 1963, 1964, 1965, 1966, 1967, 1968, 1969, 1970, 1971, 1972, 1973, 1974, 1975, 1976, 1977, 1978, 1979, 1980, 1981, 1982, 1983, 1984, 1985, 1986, 1987, 1988, 1989, 1990, 1991, 1992, 1993, 1994, 1995, 1996, 1997, 1998, 1999, 2000, 2001, 2002, 2003, 2004, 2005, 2006, 2007, 2008, 2009, 2010, 2011, 2012, 2013, 2014, 2015, 2016, 2017, 2018, 2019, 2020], \"y\": [2351.0, 2360.0, 2339.0, 2313.0, 2316.0, 2292.0, 2236.0, 2200.0, 2179.0, 2179.0, 2188.0, 2165.0, 2178.0, 2159.0, 2166.0, 2153.0, 2145.0, 2110.0, 2087.0, 2012.0, 1993.0, 1990.0, 1937.0, 1920.0, 1888.0, 1863.0, 1889.0, 1850.0, 1819.0, 1816.0, 1806.0, 1786.0, 1714.0, 1696.0, 1690.0, 1654.0, 1648.0, 1659.0, 1667.0, 1651.0, 1645.0, 1638.0, 1635.0, 1627.0, 1623.0, 1601.0, 1597.0, 1596.0, 1585.0, 1578.0, 1558.0, 1538.0, 1504.0, 1507.0, 1531.0, 1532.0, 1515.0, 1537.0, 1543.0, 1531.0, 1540.0, 1546.0, 1541.0, 1526.0, 1518.0, 1519.0, 1522.0, 1508.0, 1514.0, 1511.0, 1402.0]}, {\"marker\": {\"color\": [2059.0, 2058.0, 2041.0, 2033.0, 2016.0, 2001.0, 1993.0, 1958.0, 1943.0, 1925.0, 1912.0, 1904.0, 1898.0, 1891.0, 1872.0, 1862.0, 1834.0, 1836.0, 1841.0, 1827.0, 1812.0, 1789.0, 1779.0, 1789.0, 1795.0, 1797.0, 1807.0, 1808.0, 1802.0, 1797.0, 1775.0, 1772.0, 1769.0, 1778.0, 1775.0, 1790.0, 1798.0, 1794.0, 1793.0, 1787.0, 1774.0, 1755.0, 1745.0, 1755.0, 1745.0, 1744.0, 1744.0, 1741.0, 1712.0, 1715.0, 1713.0, 1722.0, 1716.0, 1710.0, 1712.0, 1706.0, 1695.0, 1708.0, 1690.0, 1644.0]}, \"name\": \"Canada\", \"text\": [\"Canada\", \"Canada\", \"Canada\", \"Canada\", \"Canada\", \"Canada\", \"Canada\", \"Canada\", \"Canada\", \"Canada\", \"Canada\", \"Canada\", \"Canada\", \"Canada\", \"Canada\", \"Canada\", \"Canada\", \"Canada\", \"Canada\", \"Canada\", \"Canada\", \"Canada\", \"Canada\", \"Canada\", \"Canada\", \"Canada\", \"Canada\", \"Canada\", \"Canada\", \"Canada\", \"Canada\", \"Canada\", \"Canada\", \"Canada\", \"Canada\", \"Canada\", \"Canada\", \"Canada\", \"Canada\", \"Canada\", \"Canada\", \"Canada\", \"Canada\", \"Canada\", \"Canada\", \"Canada\", \"Canada\", \"Canada\", \"Canada\", \"Canada\", \"Canada\", \"Canada\", \"Canada\", \"Canada\", \"Canada\", \"Canada\", \"Canada\", \"Canada\", \"Canada\", \"Canada\"], \"type\": \"scatter\", \"x\": [1961, 1962, 1963, 1964, 1965, 1966, 1967, 1968, 1969, 1970, 1971, 1972, 1973, 1974, 1975, 1976, 1977, 1978, 1979, 1980, 1981, 1982, 1983, 1984, 1985, 1986, 1987, 1988, 1989, 1990, 1991, 1992, 1993, 1994, 1995, 1996, 1997, 1998, 1999, 2000, 2001, 2002, 2003, 2004, 2005, 2006, 2007, 2008, 2009, 2010, 2011, 2012, 2013, 2014, 2015, 2016, 2017, 2018, 2019, 2020], \"y\": [2059.0, 2058.0, 2041.0, 2033.0, 2016.0, 2001.0, 1993.0, 1958.0, 1943.0, 1925.0, 1912.0, 1904.0, 1898.0, 1891.0, 1872.0, 1862.0, 1834.0, 1836.0, 1841.0, 1827.0, 1812.0, 1789.0, 1779.0, 1789.0, 1795.0, 1797.0, 1807.0, 1808.0, 1802.0, 1797.0, 1775.0, 1772.0, 1769.0, 1778.0, 1775.0, 1790.0, 1798.0, 1794.0, 1793.0, 1787.0, 1774.0, 1755.0, 1745.0, 1755.0, 1745.0, 1744.0, 1744.0, 1741.0, 1712.0, 1715.0, 1713.0, 1722.0, 1716.0, 1710.0, 1712.0, 1706.0, 1695.0, 1708.0, 1690.0, 1644.0]}, {\"marker\": {\"color\": [1775.0, 1740.0, 1709.0, 1761.0, 1725.0, 1720.0, 1705.0, 1687.0, 1669.0, 1662.0, 1619.0, 1567.0, 1581.0, 1568.0, 1583.0, 1613.0, 1616.0, 1606.0, 1642.0, 1631.0, 1618.0, 1615.0, 1583.0, 1577.0, 1586.0, 1586.0, 1586.0, 1586.0, 1582.0, 1573.0, 1558.0, 1563.0, 1543.0, 1534.0, 1534.0, 1544.0, 1536.0, 1541.0, 1525.0, 1516.0, 1507.0, 1515.0, 1531.0, 1534.0, 1542.0, 1525.0, 1541.0, 1536.0, 1536.0, 1537.0, 1367.0]}, \"name\": \"United Kingdom\", \"text\": [\"United Kingdom\", \"United Kingdom\", \"United Kingdom\", \"United Kingdom\", \"United Kingdom\", \"United Kingdom\", \"United Kingdom\", \"United Kingdom\", \"United Kingdom\", \"United Kingdom\", \"United Kingdom\", \"United Kingdom\", \"United Kingdom\", \"United Kingdom\", \"United Kingdom\", \"United Kingdom\", \"United Kingdom\", \"United Kingdom\", \"United Kingdom\", \"United Kingdom\", \"United Kingdom\", \"United Kingdom\", \"United Kingdom\", \"United Kingdom\", \"United Kingdom\", \"United Kingdom\", \"United Kingdom\", \"United Kingdom\", \"United Kingdom\", \"United Kingdom\", \"United Kingdom\", \"United Kingdom\", \"United Kingdom\", \"United Kingdom\", \"United Kingdom\", \"United Kingdom\", \"United Kingdom\", \"United Kingdom\", \"United Kingdom\", \"United Kingdom\", \"United Kingdom\", \"United Kingdom\", \"United Kingdom\", \"United Kingdom\", \"United Kingdom\", \"United Kingdom\", \"United Kingdom\", \"United Kingdom\", \"United Kingdom\", \"United Kingdom\", \"United Kingdom\"], \"type\": \"scatter\", \"x\": [1970, 1971, 1972, 1973, 1974, 1975, 1976, 1977, 1978, 1979, 1980, 1981, 1982, 1983, 1984, 1985, 1986, 1987, 1988, 1989, 1990, 1991, 1992, 1993, 1994, 1995, 1996, 1997, 1998, 1999, 2000, 2001, 2002, 2003, 2004, 2005, 2006, 2007, 2008, 2009, 2010, 2011, 2012, 2013, 2014, 2015, 2016, 2017, 2018, 2019, 2020], \"y\": [1775.0, 1740.0, 1709.0, 1761.0, 1725.0, 1720.0, 1705.0, 1687.0, 1669.0, 1662.0, 1619.0, 1567.0, 1581.0, 1568.0, 1583.0, 1613.0, 1616.0, 1606.0, 1642.0, 1631.0, 1618.0, 1615.0, 1583.0, 1577.0, 1586.0, 1586.0, 1586.0, 1586.0, 1582.0, 1573.0, 1558.0, 1563.0, 1543.0, 1534.0, 1534.0, 1544.0, 1536.0, 1541.0, 1525.0, 1516.0, 1507.0, 1515.0, 1531.0, 1534.0, 1542.0, 1525.0, 1541.0, 1536.0, 1536.0, 1537.0, 1367.0]}, {\"marker\": {\"color\": [1554.1, 1565.1, 1540.2, 1536.6, 1530.6, 1516.8, 1507.7, 1504.5, 1491.5, 1465.9, 1458.2, 1448.9, 1443.4, 1442.6, 1432.4, 1453.2, 1454.1, 1447.3, 1405.0, 1425.7, 1426.9, 1408.0, 1396.5, 1400.4, 1401.0, 1395.6, 1389.1, 1386.9, 1382.8, 1331.7]}, \"name\": \"Germany\", \"text\": [\"Germany\", \"Germany\", \"Germany\", \"Germany\", \"Germany\", \"Germany\", \"Germany\", \"Germany\", \"Germany\", \"Germany\", \"Germany\", \"Germany\", \"Germany\", \"Germany\", \"Germany\", \"Germany\", \"Germany\", \"Germany\", \"Germany\", \"Germany\", \"Germany\", \"Germany\", \"Germany\", \"Germany\", \"Germany\", \"Germany\", \"Germany\", \"Germany\", \"Germany\", \"Germany\"], \"type\": \"scatter\", \"x\": [1991, 1992, 1993, 1994, 1995, 1996, 1997, 1998, 1999, 2000, 2001, 2002, 2003, 2004, 2005, 2006, 2007, 2008, 2009, 2010, 2011, 2012, 2013, 2014, 2015, 2016, 2017, 2018, 2019, 2020], \"y\": [1554.1, 1565.1, 1540.2, 1536.6, 1530.6, 1516.8, 1507.7, 1504.5, 1491.5, 1465.9, 1458.2, 1448.9, 1443.4, 1442.6, 1432.4, 1453.2, 1454.1, 1447.3, 1405.0, 1425.7, 1426.9, 1408.0, 1396.5, 1400.4, 1401.0, 1395.6, 1389.1, 1386.9, 1382.8, 1331.7]}, {\"marker\": {\"color\": [1856.2, 1866.2, 1859.9, 1873.1, 1869.9, 1850.2, 1837.6, 1826.2, 1815.1, 1814.6, 1811.1, 1811.9, 1817.7, 1806.5, 1775.2, 1776.8, 1772.6, 1733.6, 1719.1, 1716.3, 1717.5, 1721.7, 1719.2, 1719.4, 1714.7, 1558.7]}, \"name\": \"Italy\", \"text\": [\"Italy\", \"Italy\", \"Italy\", \"Italy\", \"Italy\", \"Italy\", \"Italy\", \"Italy\", \"Italy\", \"Italy\", \"Italy\", \"Italy\", \"Italy\", \"Italy\", \"Italy\", \"Italy\", \"Italy\", \"Italy\", \"Italy\", \"Italy\", \"Italy\", \"Italy\", \"Italy\", \"Italy\", \"Italy\", \"Italy\"], \"type\": \"scatter\", \"x\": [1995, 1996, 1997, 1998, 1999, 2000, 2001, 2002, 2003, 2004, 2005, 2006, 2007, 2008, 2009, 2010, 2011, 2012, 2013, 2014, 2015, 2016, 2017, 2018, 2019, 2020], \"y\": [1856.2, 1866.2, 1859.9, 1873.1, 1869.9, 1850.2, 1837.6, 1826.2, 1815.1, 1814.6, 1811.1, 1811.9, 1817.7, 1806.5, 1775.2, 1776.8, 1772.6, 1733.6, 1719.1, 1716.3, 1717.5, 1721.7, 1719.2, 1719.4, 1714.7, 1558.7]}, {\"marker\": {\"color\": [2243.0, 2239.0, 2228.0, 2201.0, 2137.0, 2112.0, 2128.0, 2129.0, 2123.0, 2126.0, 2121.0, 2106.0, 2104.0, 2095.0, 2108.0, 2093.0, 2097.0, 2096.0, 2092.0, 2070.0, 2031.0, 1998.0, 1965.0, 1905.0, 1898.0, 1884.0, 1892.0, 1865.0, 1842.0, 1810.0, 1821.0, 1809.0, 1798.0, 1799.0, 1787.0, 1775.0, 1784.0, 1785.0, 1771.0, 1714.0, 1733.0, 1728.0, 1745.0, 1734.0, 1729.0, 1719.0, 1714.0, 1709.0, 1680.0, 1644.0, 1598.0]}, \"name\": \"Japan\", \"text\": [\"Japan\", \"Japan\", \"Japan\", \"Japan\", \"Japan\", \"Japan\", \"Japan\", \"Japan\", \"Japan\", \"Japan\", \"Japan\", \"Japan\", \"Japan\", \"Japan\", \"Japan\", \"Japan\", \"Japan\", \"Japan\", \"Japan\", \"Japan\", \"Japan\", \"Japan\", \"Japan\", \"Japan\", \"Japan\", \"Japan\", \"Japan\", \"Japan\", \"Japan\", \"Japan\", \"Japan\", \"Japan\", \"Japan\", \"Japan\", \"Japan\", \"Japan\", \"Japan\", \"Japan\", \"Japan\", \"Japan\", \"Japan\", \"Japan\", \"Japan\", \"Japan\", \"Japan\", \"Japan\", \"Japan\", \"Japan\", \"Japan\", \"Japan\", \"Japan\"], \"type\": \"scatter\", \"x\": [1970, 1971, 1972, 1973, 1974, 1975, 1976, 1977, 1978, 1979, 1980, 1981, 1982, 1983, 1984, 1985, 1986, 1987, 1988, 1989, 1990, 1991, 1992, 1993, 1994, 1995, 1996, 1997, 1998, 1999, 2000, 2001, 2002, 2003, 2004, 2005, 2006, 2007, 2008, 2009, 2010, 2011, 2012, 2013, 2014, 2015, 2016, 2017, 2018, 2019, 2020], \"y\": [2243.0, 2239.0, 2228.0, 2201.0, 2137.0, 2112.0, 2128.0, 2129.0, 2123.0, 2126.0, 2121.0, 2106.0, 2104.0, 2095.0, 2108.0, 2093.0, 2097.0, 2096.0, 2092.0, 2070.0, 2031.0, 1998.0, 1965.0, 1905.0, 1898.0, 1884.0, 1892.0, 1865.0, 1842.0, 1810.0, 1821.0, 1809.0, 1798.0, 1799.0, 1787.0, 1775.0, 1784.0, 1785.0, 1771.0, 1714.0, 1733.0, 1728.0, 1745.0, 1734.0, 1729.0, 1719.0, 1714.0, 1709.0, 1680.0, 1644.0, 1598.0]}],\n",
       "                        {\"font\": {\"color\": \"grey\", \"family\": \"Helvetica\", \"size\": 13.5}, \"legend\": {\"bgcolor\": \"rgba(255, 255, 255, 0)\", \"bordercolor\": \"rgba(255, 255, 255, 0)\", \"x\": 0.845, \"y\": 1}, \"margin\": {\"b\": 50, \"l\": 15, \"r\": 10, \"t\": 70}, \"template\": {\"data\": {\"bar\": [{\"error_x\": {\"color\": \"#2a3f5f\"}, \"error_y\": {\"color\": \"#2a3f5f\"}, \"marker\": {\"line\": {\"color\": \"#E5ECF6\", \"width\": 0.5}}, \"type\": \"bar\"}], \"barpolar\": [{\"marker\": {\"line\": {\"color\": \"#E5ECF6\", \"width\": 0.5}}, \"type\": \"barpolar\"}], \"carpet\": [{\"aaxis\": {\"endlinecolor\": \"#2a3f5f\", \"gridcolor\": \"white\", \"linecolor\": \"white\", \"minorgridcolor\": \"white\", \"startlinecolor\": \"#2a3f5f\"}, \"baxis\": {\"endlinecolor\": \"#2a3f5f\", \"gridcolor\": \"white\", \"linecolor\": \"white\", \"minorgridcolor\": \"white\", \"startlinecolor\": \"#2a3f5f\"}, \"type\": \"carpet\"}], \"choropleth\": [{\"colorbar\": {\"outlinewidth\": 0, \"ticks\": \"\"}, \"type\": \"choropleth\"}], \"contour\": [{\"colorbar\": {\"outlinewidth\": 0, \"ticks\": \"\"}, \"colorscale\": [[0.0, \"#0d0887\"], [0.1111111111111111, \"#46039f\"], [0.2222222222222222, \"#7201a8\"], [0.3333333333333333, \"#9c179e\"], [0.4444444444444444, \"#bd3786\"], [0.5555555555555556, \"#d8576b\"], [0.6666666666666666, \"#ed7953\"], [0.7777777777777778, \"#fb9f3a\"], [0.8888888888888888, \"#fdca26\"], [1.0, \"#f0f921\"]], \"type\": \"contour\"}], \"contourcarpet\": [{\"colorbar\": {\"outlinewidth\": 0, \"ticks\": \"\"}, \"type\": \"contourcarpet\"}], \"heatmap\": [{\"colorbar\": {\"outlinewidth\": 0, \"ticks\": \"\"}, \"colorscale\": [[0.0, \"#0d0887\"], [0.1111111111111111, \"#46039f\"], [0.2222222222222222, \"#7201a8\"], [0.3333333333333333, \"#9c179e\"], [0.4444444444444444, \"#bd3786\"], [0.5555555555555556, \"#d8576b\"], [0.6666666666666666, \"#ed7953\"], [0.7777777777777778, \"#fb9f3a\"], [0.8888888888888888, \"#fdca26\"], [1.0, \"#f0f921\"]], \"type\": \"heatmap\"}], \"heatmapgl\": [{\"colorbar\": {\"outlinewidth\": 0, \"ticks\": \"\"}, \"colorscale\": [[0.0, \"#0d0887\"], [0.1111111111111111, \"#46039f\"], [0.2222222222222222, \"#7201a8\"], [0.3333333333333333, \"#9c179e\"], [0.4444444444444444, \"#bd3786\"], [0.5555555555555556, \"#d8576b\"], [0.6666666666666666, \"#ed7953\"], [0.7777777777777778, \"#fb9f3a\"], [0.8888888888888888, \"#fdca26\"], [1.0, \"#f0f921\"]], \"type\": \"heatmapgl\"}], \"histogram\": [{\"marker\": {\"colorbar\": {\"outlinewidth\": 0, \"ticks\": \"\"}}, \"type\": \"histogram\"}], \"histogram2d\": [{\"colorbar\": {\"outlinewidth\": 0, \"ticks\": \"\"}, \"colorscale\": [[0.0, \"#0d0887\"], [0.1111111111111111, \"#46039f\"], [0.2222222222222222, \"#7201a8\"], [0.3333333333333333, \"#9c179e\"], [0.4444444444444444, \"#bd3786\"], [0.5555555555555556, \"#d8576b\"], [0.6666666666666666, \"#ed7953\"], [0.7777777777777778, \"#fb9f3a\"], [0.8888888888888888, \"#fdca26\"], [1.0, \"#f0f921\"]], \"type\": \"histogram2d\"}], \"histogram2dcontour\": [{\"colorbar\": {\"outlinewidth\": 0, \"ticks\": \"\"}, \"colorscale\": [[0.0, \"#0d0887\"], [0.1111111111111111, \"#46039f\"], [0.2222222222222222, \"#7201a8\"], [0.3333333333333333, \"#9c179e\"], [0.4444444444444444, \"#bd3786\"], [0.5555555555555556, \"#d8576b\"], [0.6666666666666666, \"#ed7953\"], [0.7777777777777778, \"#fb9f3a\"], [0.8888888888888888, \"#fdca26\"], [1.0, \"#f0f921\"]], \"type\": \"histogram2dcontour\"}], \"mesh3d\": [{\"colorbar\": {\"outlinewidth\": 0, \"ticks\": \"\"}, \"type\": \"mesh3d\"}], \"parcoords\": [{\"line\": {\"colorbar\": {\"outlinewidth\": 0, \"ticks\": \"\"}}, \"type\": \"parcoords\"}], \"pie\": [{\"automargin\": true, \"type\": \"pie\"}], \"scatter\": [{\"marker\": {\"colorbar\": {\"outlinewidth\": 0, \"ticks\": \"\"}}, \"type\": \"scatter\"}], \"scatter3d\": [{\"line\": {\"colorbar\": {\"outlinewidth\": 0, \"ticks\": \"\"}}, \"marker\": {\"colorbar\": {\"outlinewidth\": 0, \"ticks\": \"\"}}, \"type\": \"scatter3d\"}], \"scattercarpet\": [{\"marker\": {\"colorbar\": {\"outlinewidth\": 0, \"ticks\": \"\"}}, \"type\": \"scattercarpet\"}], \"scattergeo\": [{\"marker\": {\"colorbar\": {\"outlinewidth\": 0, \"ticks\": \"\"}}, \"type\": \"scattergeo\"}], \"scattergl\": [{\"marker\": {\"colorbar\": {\"outlinewidth\": 0, \"ticks\": \"\"}}, \"type\": \"scattergl\"}], \"scattermapbox\": [{\"marker\": {\"colorbar\": {\"outlinewidth\": 0, \"ticks\": \"\"}}, \"type\": \"scattermapbox\"}], \"scatterpolar\": [{\"marker\": {\"colorbar\": {\"outlinewidth\": 0, \"ticks\": \"\"}}, \"type\": \"scatterpolar\"}], \"scatterpolargl\": [{\"marker\": {\"colorbar\": {\"outlinewidth\": 0, \"ticks\": \"\"}}, \"type\": \"scatterpolargl\"}], \"scatterternary\": [{\"marker\": {\"colorbar\": {\"outlinewidth\": 0, \"ticks\": \"\"}}, \"type\": \"scatterternary\"}], \"surface\": [{\"colorbar\": {\"outlinewidth\": 0, \"ticks\": \"\"}, \"colorscale\": [[0.0, \"#0d0887\"], [0.1111111111111111, \"#46039f\"], [0.2222222222222222, \"#7201a8\"], [0.3333333333333333, \"#9c179e\"], [0.4444444444444444, \"#bd3786\"], [0.5555555555555556, \"#d8576b\"], [0.6666666666666666, \"#ed7953\"], [0.7777777777777778, \"#fb9f3a\"], [0.8888888888888888, \"#fdca26\"], [1.0, \"#f0f921\"]], \"type\": \"surface\"}], \"table\": [{\"cells\": {\"fill\": {\"color\": \"#EBF0F8\"}, \"line\": {\"color\": \"white\"}}, \"header\": {\"fill\": {\"color\": \"#C8D4E3\"}, \"line\": {\"color\": \"white\"}}, \"type\": \"table\"}]}, \"layout\": {\"annotationdefaults\": {\"arrowcolor\": \"#2a3f5f\", \"arrowhead\": 0, \"arrowwidth\": 1}, \"coloraxis\": {\"colorbar\": {\"outlinewidth\": 0, \"ticks\": \"\"}}, \"colorscale\": {\"diverging\": [[0, \"#8e0152\"], [0.1, \"#c51b7d\"], [0.2, \"#de77ae\"], [0.3, \"#f1b6da\"], [0.4, \"#fde0ef\"], [0.5, \"#f7f7f7\"], [0.6, \"#e6f5d0\"], [0.7, \"#b8e186\"], [0.8, \"#7fbc41\"], [0.9, \"#4d9221\"], [1, \"#276419\"]], \"sequential\": [[0.0, \"#0d0887\"], [0.1111111111111111, \"#46039f\"], [0.2222222222222222, \"#7201a8\"], [0.3333333333333333, \"#9c179e\"], [0.4444444444444444, \"#bd3786\"], [0.5555555555555556, \"#d8576b\"], [0.6666666666666666, \"#ed7953\"], [0.7777777777777778, \"#fb9f3a\"], [0.8888888888888888, \"#fdca26\"], [1.0, \"#f0f921\"]], \"sequentialminus\": [[0.0, \"#0d0887\"], [0.1111111111111111, \"#46039f\"], [0.2222222222222222, \"#7201a8\"], [0.3333333333333333, \"#9c179e\"], [0.4444444444444444, \"#bd3786\"], [0.5555555555555556, \"#d8576b\"], [0.6666666666666666, \"#ed7953\"], [0.7777777777777778, \"#fb9f3a\"], [0.8888888888888888, \"#fdca26\"], [1.0, \"#f0f921\"]]}, \"colorway\": [\"#636efa\", \"#EF553B\", \"#00cc96\", \"#ab63fa\", \"#FFA15A\", \"#19d3f3\", \"#FF6692\", \"#B6E880\", \"#FF97FF\", \"#FECB52\"], \"font\": {\"color\": \"#2a3f5f\"}, \"geo\": {\"bgcolor\": \"white\", \"lakecolor\": \"white\", \"landcolor\": \"#E5ECF6\", \"showlakes\": true, \"showland\": true, \"subunitcolor\": \"white\"}, \"hoverlabel\": {\"align\": \"left\"}, \"hovermode\": \"closest\", \"mapbox\": {\"style\": \"light\"}, \"paper_bgcolor\": \"white\", \"plot_bgcolor\": \"#E5ECF6\", \"polar\": {\"angularaxis\": {\"gridcolor\": \"white\", \"linecolor\": \"white\", \"ticks\": \"\"}, \"bgcolor\": \"#E5ECF6\", \"radialaxis\": {\"gridcolor\": \"white\", \"linecolor\": \"white\", \"ticks\": \"\"}}, \"scene\": {\"xaxis\": {\"backgroundcolor\": \"#E5ECF6\", \"gridcolor\": \"white\", \"gridwidth\": 2, \"linecolor\": \"white\", \"showbackground\": true, \"ticks\": \"\", \"zerolinecolor\": \"white\"}, \"yaxis\": {\"backgroundcolor\": \"#E5ECF6\", \"gridcolor\": \"white\", \"gridwidth\": 2, \"linecolor\": \"white\", \"showbackground\": true, \"ticks\": \"\", \"zerolinecolor\": \"white\"}, \"zaxis\": {\"backgroundcolor\": \"#E5ECF6\", \"gridcolor\": \"white\", \"gridwidth\": 2, \"linecolor\": \"white\", \"showbackground\": true, \"ticks\": \"\", \"zerolinecolor\": \"white\"}}, \"shapedefaults\": {\"line\": {\"color\": \"#2a3f5f\"}}, \"ternary\": {\"aaxis\": {\"gridcolor\": \"white\", \"linecolor\": \"white\", \"ticks\": \"\"}, \"baxis\": {\"gridcolor\": \"white\", \"linecolor\": \"white\", \"ticks\": \"\"}, \"bgcolor\": \"#E5ECF6\", \"caxis\": {\"gridcolor\": \"white\", \"linecolor\": \"white\", \"ticks\": \"\"}}, \"title\": {\"x\": 0.05}, \"xaxis\": {\"automargin\": true, \"gridcolor\": \"white\", \"linecolor\": \"white\", \"ticks\": \"\", \"title\": {\"standoff\": 15}, \"zerolinecolor\": \"white\", \"zerolinewidth\": 2}, \"yaxis\": {\"automargin\": true, \"gridcolor\": \"white\", \"linecolor\": \"white\", \"ticks\": \"\", \"title\": {\"standoff\": 15}, \"zerolinecolor\": \"white\", \"zerolinewidth\": 2}}}, \"title\": {\"text\": \"<b>Average number of annual hours worked per employee in a selection of countries from 1950 to 2020</b><br><i>Source : OECD</i>\"}, \"xaxis\": {\"rangeslider\": {\"visible\": true}}, \"yaxis\": {\"title\": {\"text\": \"Hours worked\"}}},\n",
       "                        {\"responsive\": true}\n",
       "                    ).then(function(){\n",
       "                            \n",
       "var gd = document.getElementById('22d8e3a3-a14f-4942-ad23-4227cc441b1f');\n",
       "var x = new MutationObserver(function (mutations, observer) {{\n",
       "        var display = window.getComputedStyle(gd).display;\n",
       "        if (!display || display === 'none') {{\n",
       "            console.log([gd, 'removed!']);\n",
       "            Plotly.purge(gd);\n",
       "            observer.disconnect();\n",
       "        }}\n",
       "}});\n",
       "\n",
       "// Listen for the removal of the full notebook cells\n",
       "var notebookContainer = gd.closest('#notebook-container');\n",
       "if (notebookContainer) {{\n",
       "    x.observe(notebookContainer, {childList: true});\n",
       "}}\n",
       "\n",
       "// Listen for the clearing of the current output cell\n",
       "var outputEl = gd.closest('.output');\n",
       "if (outputEl) {{\n",
       "    x.observe(outputEl, {childList: true});\n",
       "}}\n",
       "\n",
       "                        })\n",
       "                };\n",
       "                });\n",
       "            </script>\n",
       "        </div>"
      ]
     },
     "metadata": {},
     "output_type": "display_data"
    }
   ],
   "source": [
    "fig_scatter = go.Figure(data=[\n",
    "    go.Scatter(\n",
    "        name='United States',\n",
    "        x=df_hours_worked_us['TIME'], \n",
    "        y=df_hours_worked_us['Value'],\n",
    "        marker_color=df_hours_worked_us['Value'],\n",
    "        text=df_hours_worked_us['Country']\n",
    "    ),\n",
    "    \n",
    "    go.Scatter(\n",
    "        name='France',\n",
    "        x=df_hours_worked_fr['TIME'], \n",
    "        y=df_hours_worked_fr['Value'], \n",
    "        marker_color=df_hours_worked_fr['Value'], \n",
    "        text=df_hours_worked_fr['Country']\n",
    "    ),\n",
    "    \n",
    "    go.Scatter(\n",
    "        name='Canada',\n",
    "        x=df_hours_worked_ca['TIME'], \n",
    "        y=df_hours_worked_ca['Value'], \n",
    "        marker_color=df_hours_worked_ca['Value'], \n",
    "        text=df_hours_worked_ca['Country']\n",
    "    ),\n",
    "    \n",
    "    go.Scatter(\n",
    "        name='United Kingdom',\n",
    "        x=df_hours_worked_uk['TIME'], \n",
    "        y=df_hours_worked_uk['Value'], \n",
    "        marker_color=df_hours_worked_uk['Value'], \n",
    "        text=df_hours_worked_uk['Country']\n",
    "    ),   \n",
    "    \n",
    "    go.Scatter(\n",
    "        name='Germany',\n",
    "        x=df_hours_worked_de['TIME'], \n",
    "        y=df_hours_worked_de['Value'], \n",
    "        marker_color=df_hours_worked_de['Value'], \n",
    "        text=df_hours_worked_de['Country']\n",
    "    ), \n",
    "    \n",
    "    go.Scatter(\n",
    "        name='Italy',\n",
    "        x=df_hours_worked_it['TIME'], \n",
    "        y=df_hours_worked_it['Value'], \n",
    "        marker_color=df_hours_worked_it['Value'], \n",
    "        text=df_hours_worked_it['Country']\n",
    "    ),\n",
    "    \n",
    "    go.Scatter(\n",
    "        name='Japan',\n",
    "        x=df_hours_worked_jp['TIME'], \n",
    "        y=df_hours_worked_jp['Value'], \n",
    "        marker_color=df_hours_worked_jp['Value'], \n",
    "        text=df_hours_worked_jp['Country']\n",
    "    ),\n",
    "])\n",
    "\n",
    "fig_scatter.update_xaxes(rangeslider_visible=True)\n",
    "\n",
    "\n",
    "#Style\n",
    "fig_scatter.update_layout(\n",
    "    margin={\"r\":10,\"t\":70,\"l\":15,\"b\":50},\n",
    "    title='<b>Average number of annual hours worked per employee in a selection of countries from 1950 to 2020</b><br>' + \n",
    "    '<i>Source : OECD</i>',\n",
    "    font=dict(\n",
    "        family='Helvetica',\n",
    "        size=13.5,\n",
    "        color='grey'\n",
    "    ),\n",
    "    legend=dict(\n",
    "        x=0.845,\n",
    "        y=1,\n",
    "        bgcolor='rgba(255, 255, 255, 0)',\n",
    "        bordercolor='rgba(255, 255, 255, 0)'\n",
    "    ),\n",
    "    yaxis=dict(\n",
    "        title='Hours worked'\n",
    "    )\n",
    ")\n",
    "\n",
    "fig_scatter.show()"
   ]
  },
  {
   "cell_type": "markdown",
   "metadata": {},
   "source": [
    "## Limitations of the dataset"
   ]
  },
  {
   "cell_type": "markdown",
   "metadata": {},
   "source": [
    "The data presented are only intended to make comparisons of trends over time. Indeed, due to the disparity of sources and calculation methods specific to each country, it is not possible to compare the average volumes of hours worked for a given year. For example, some countries like the United States or Japan do not have any law clearly defining the limit of weekly working hours and overtime."
   ]
  },
  {
   "cell_type": "markdown",
   "metadata": {},
   "source": [
    "<hr>"
   ]
  },
  {
   "cell_type": "markdown",
   "metadata": {},
   "source": [
    "## Sources"
   ]
  },
  {
   "cell_type": "markdown",
   "metadata": {},
   "source": [
    "OCDE.Stat data : \n",
    "* [Hours worked indicator](https://stats.oecd.org/Index.aspx?DataSetCode=ANHRS) : \n",
    "OECD (2021), Hours worked (indicator). doi: 10.1787/47be1c78-en (Accessed on 17 October 2021)"
   ]
  }
 ],
 "metadata": {
  "kernelspec": {
   "display_name": "Python 3",
   "language": "python",
   "name": "python3"
  },
  "language_info": {
   "codemirror_mode": {
    "name": "ipython",
    "version": 3
   },
   "file_extension": ".py",
   "mimetype": "text/x-python",
   "name": "python",
   "nbconvert_exporter": "python",
   "pygments_lexer": "ipython3",
   "version": "3.8.5"
  }
 },
 "nbformat": 4,
 "nbformat_minor": 4
}
