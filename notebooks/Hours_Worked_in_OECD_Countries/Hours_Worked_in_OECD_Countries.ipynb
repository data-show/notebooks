{
 "cells": [
  {
   "cell_type": "markdown",
   "metadata": {},
   "source": [
    "# Hours worked in OECD countries"
   ]
  },
  {
   "cell_type": "markdown",
   "metadata": {},
   "source": [
    "<hr>"
   ]
  },
  {
   "cell_type": "markdown",
   "metadata": {},
   "source": [
    "According to OECD, the average number of annual hours worked corresponds to the total number of hours worked divided by the average number of people in employment, for a given annual period. \n",
    "What is the evolution of the average number of hours worked per week per employee for a selection of countries over the years ?"
   ]
  },
  {
   "cell_type": "markdown",
   "metadata": {},
   "source": [
    "## Import required libraries"
   ]
  },
  {
   "cell_type": "code",
   "execution_count": 60,
   "metadata": {},
   "outputs": [],
   "source": [
    "from PIL import Image\n",
    "\n",
    "import pandas as pd\n",
    "import numpy as np\n",
    "import plotly.express as px\n",
    "import plotly.io as pio\n",
    "import plotly.graph_objects as go\n",
    "from IPython.display import Javascript\n",
    "from plotly.subplots import make_subplots\n",
    "\n",
    "Javascript(\n",
    "\"\"\"require.config({\n",
    " paths: { \n",
    "     plotly: 'https://cdn.plot.ly/plotly-latest.min'\n",
    " }\n",
    "});\"\"\"\n",
    ")\n",
    "\n",
    "pio.renderers.default = 'notebook_connected'"
   ]
  },
  {
   "cell_type": "markdown",
   "metadata": {},
   "source": [
    "## Data pre-processing"
   ]
  },
  {
   "cell_type": "code",
   "execution_count": 61,
   "metadata": {},
   "outputs": [
    {
     "data": {
      "text/html": [
       "<div>\n",
       "<style scoped>\n",
       "    .dataframe tbody tr th:only-of-type {\n",
       "        vertical-align: middle;\n",
       "    }\n",
       "\n",
       "    .dataframe tbody tr th {\n",
       "        vertical-align: top;\n",
       "    }\n",
       "\n",
       "    .dataframe thead th {\n",
       "        text-align: right;\n",
       "    }\n",
       "</style>\n",
       "<table border=\"1\" class=\"dataframe\">\n",
       "  <thead>\n",
       "    <tr style=\"text-align: right;\">\n",
       "      <th></th>\n",
       "      <th>COUNTRY</th>\n",
       "      <th>Country</th>\n",
       "      <th>TIME</th>\n",
       "      <th>Value</th>\n",
       "    </tr>\n",
       "  </thead>\n",
       "  <tbody>\n",
       "    <tr>\n",
       "      <th>1433</th>\n",
       "      <td>CHL</td>\n",
       "      <td>Chile</td>\n",
       "      <td>1990</td>\n",
       "      <td>46.576923</td>\n",
       "    </tr>\n",
       "    <tr>\n",
       "      <th>1434</th>\n",
       "      <td>CHL</td>\n",
       "      <td>Chile</td>\n",
       "      <td>1991</td>\n",
       "      <td>46.519231</td>\n",
       "    </tr>\n",
       "    <tr>\n",
       "      <th>1432</th>\n",
       "      <td>CHL</td>\n",
       "      <td>Chile</td>\n",
       "      <td>1989</td>\n",
       "      <td>46.461538</td>\n",
       "    </tr>\n",
       "    <tr>\n",
       "      <th>1435</th>\n",
       "      <td>CHL</td>\n",
       "      <td>Chile</td>\n",
       "      <td>1992</td>\n",
       "      <td>46.442308</td>\n",
       "    </tr>\n",
       "    <tr>\n",
       "      <th>1431</th>\n",
       "      <td>CHL</td>\n",
       "      <td>Chile</td>\n",
       "      <td>1988</td>\n",
       "      <td>46.365385</td>\n",
       "    </tr>\n",
       "  </tbody>\n",
       "</table>\n",
       "</div>"
      ],
      "text/plain": [
       "     COUNTRY Country  TIME      Value\n",
       "1433     CHL   Chile  1990  46.576923\n",
       "1434     CHL   Chile  1991  46.519231\n",
       "1432     CHL   Chile  1989  46.461538\n",
       "1435     CHL   Chile  1992  46.442308\n",
       "1431     CHL   Chile  1988  46.365385"
      ]
     },
     "execution_count": 61,
     "metadata": {},
     "output_type": "execute_result"
    }
   ],
   "source": [
    "df_hours_worked = pd.read_csv('Data/Hours_worked_indicator.csv', \n",
    "                              sep=',', \n",
    "                              usecols=['COUNTRY', 'Country', 'TIME', 'Value'],\n",
    "                              parse_dates=True\n",
    "                             )\n",
    "\n",
    "#For more meaningful representations, we decide to transform the data in order to go from an annual view to a weekly view\n",
    "df_hours_worked['Value'] = df_hours_worked['Value'] / 52\n",
    "\n",
    "df_hours_worked_bar = df_hours_worked.sort_values('Value', ascending=False)\n",
    "\n",
    "df_hours_worked_bar.head()"
   ]
  },
  {
   "cell_type": "markdown",
   "metadata": {},
   "source": [
    "## Plotting"
   ]
  },
  {
   "cell_type": "markdown",
   "metadata": {},
   "source": [
    "### Bar plot"
   ]
  },
  {
   "cell_type": "code",
   "execution_count": 62,
   "metadata": {},
   "outputs": [
    {
     "data": {
      "text/html": [
       "        <script type=\"text/javascript\">\n",
       "        window.PlotlyConfig = {MathJaxConfig: 'local'};\n",
       "        if (window.MathJax) {MathJax.Hub.Config({SVG: {font: \"STIX-Web\"}});}\n",
       "        if (typeof require !== 'undefined') {\n",
       "        require.undef(\"plotly\");\n",
       "        requirejs.config({\n",
       "            paths: {\n",
       "                'plotly': ['https://cdn.plot.ly/plotly-latest.min']\n",
       "            }\n",
       "        });\n",
       "        require(['plotly'], function(Plotly) {\n",
       "            window._Plotly = Plotly;\n",
       "        });\n",
       "        }\n",
       "        </script>\n",
       "        "
      ]
     },
     "metadata": {},
     "output_type": "display_data"
    },
    {
     "data": {
      "text/html": [
       "<div>\n",
       "        \n",
       "        \n",
       "            <div id=\"1c7129f0-042a-45b9-b501-5fc01a6e4a6e\" class=\"plotly-graph-div\" style=\"height:525px; width:100%;\"></div>\n",
       "            <script type=\"text/javascript\">\n",
       "                require([\"plotly\"], function(Plotly) {\n",
       "                    window.PLOTLYENV=window.PLOTLYENV || {};\n",
       "                    \n",
       "                if (document.getElementById(\"1c7129f0-042a-45b9-b501-5fc01a6e4a6e\")) {\n",
       "                    Plotly.newPlot(\n",
       "                        '1c7129f0-042a-45b9-b501-5fc01a6e4a6e',\n",
       "                        [{\"alignmentgroup\": \"True\", \"hovertemplate\": \"<b>%{hovertext}</b><br><br>=%{x}<br>Hours worked per week=%{marker.color}<extra></extra>\", \"hovertext\": [\"Colombia\", \"Mexico\", \"Costa Rica\", \"Malta\", \"Korea\", \"Russian Federation\", \"Chile\", \"Greece\", \"Israel\", \"Croatia\", \"Cyprus\", \"Romania\", \"Czech Republic\", \"New Zealand\", \"Poland\", \"United States\", \"Ireland\", \"Portugal\", \"OECD countries\", \"Hungary\", \"Australia\", \"Italy\", \"Estonia\", \"Slovak Republic\", \"Canada\", \"Spain\", \"Lithuania\", \"Bulgaria\", \"Japan\", \"Latvia\", \"Slovenia\", \"European Union 27\", \"Belgium\", \"Euro area\", \"Switzerland\", \"Finland\", \"United Kingdom\", \"France\", \"Austria\", \"Luxembourg\", \"Iceland\", \"Sweden\", \"Netherlands\", \"Germany\", \"Norway\", \"Denmark\"], \"legendgroup\": \"\", \"marker\": {\"color\": [41.76923076923077, 41.13461538461539, 39.607692307692304, 38.90384615384615, 37.82692307692308, 37.78846153846154, 37.10576923076923, 36.92307692307692, 36.50192307692308, 35.34615384615385, 34.71153846153846, 34.44230769230769, 34.30769230769231, 34.28846153846154, 34.25, 34.17307692307692, 34.05769230769231, 33.55769230769231, 33.51923076923077, 33.11923076923077, 33.11538461538461, 32.975, 32.90384615384615, 32.53846153846154, 32.5, 32.455769230769235, 32.01923076923077, 31.634615384615383, 31.615384615384617, 31.365384615384617, 30.79615384615385, 30.634615384615383, 30.307692307692307, 29.96153846153846, 29.78846153846154, 29.596153846153847, 29.557692307692307, 29.057692307692307, 29.01923076923077, 28.96153846153846, 28.46153846153846, 27.923076923076923, 27.692307692307693, 26.592307692307692, 26.565384615384616, 26.557692307692307], \"coloraxis\": \"coloraxis\"}, \"name\": \"\", \"offsetgroup\": \"\", \"orientation\": \"v\", \"showlegend\": false, \"textposition\": \"auto\", \"type\": \"bar\", \"x\": [\"Colombia\", \"Mexico\", \"Costa Rica\", \"Malta\", \"Korea\", \"Russian Federation\", \"Chile\", \"Greece\", \"Israel\", \"Croatia\", \"Cyprus\", \"Romania\", \"Czech Republic\", \"New Zealand\", \"Poland\", \"United States\", \"Ireland\", \"Portugal\", \"OECD countries\", \"Hungary\", \"Australia\", \"Italy\", \"Estonia\", \"Slovak Republic\", \"Canada\", \"Spain\", \"Lithuania\", \"Bulgaria\", \"Japan\", \"Latvia\", \"Slovenia\", \"European Union 27\", \"Belgium\", \"Euro area\", \"Switzerland\", \"Finland\", \"United Kingdom\", \"France\", \"Austria\", \"Luxembourg\", \"Iceland\", \"Sweden\", \"Netherlands\", \"Germany\", \"Norway\", \"Denmark\"], \"xaxis\": \"x\", \"y\": [41.76923076923077, 41.13461538461539, 39.607692307692304, 38.90384615384615, 37.82692307692308, 37.78846153846154, 37.10576923076923, 36.92307692307692, 36.50192307692308, 35.34615384615385, 34.71153846153846, 34.44230769230769, 34.30769230769231, 34.28846153846154, 34.25, 34.17307692307692, 34.05769230769231, 33.55769230769231, 33.51923076923077, 33.11923076923077, 33.11538461538461, 32.975, 32.90384615384615, 32.53846153846154, 32.5, 32.455769230769235, 32.01923076923077, 31.634615384615383, 31.615384615384617, 31.365384615384617, 30.79615384615385, 30.634615384615383, 30.307692307692307, 29.96153846153846, 29.78846153846154, 29.596153846153847, 29.557692307692307, 29.057692307692307, 29.01923076923077, 28.96153846153846, 28.46153846153846, 27.923076923076923, 27.692307692307693, 26.592307692307692, 26.565384615384616, 26.557692307692307], \"yaxis\": \"y\"}],\n",
       "                        {\"barmode\": \"relative\", \"coloraxis\": {\"colorbar\": {\"title\": {\"text\": \"Hours worked per week\"}}, \"colorscale\": [[0.0, \"rgb(209, 238, 234)\"], [0.16666666666666666, \"rgb(168, 219, 217)\"], [0.3333333333333333, \"rgb(133, 196, 201)\"], [0.5, \"rgb(104, 171, 184)\"], [0.6666666666666666, \"rgb(79, 144, 166)\"], [0.8333333333333334, \"rgb(59, 115, 143)\"], [1.0, \"rgb(42, 86, 116)\"]], \"showscale\": false}, \"font\": {\"color\": \"grey\", \"family\": \"Helvetica\", \"size\": 12}, \"legend\": {\"tracegroupgap\": 0}, \"template\": {\"data\": {\"bar\": [{\"error_x\": {\"color\": \"#2a3f5f\"}, \"error_y\": {\"color\": \"#2a3f5f\"}, \"marker\": {\"line\": {\"color\": \"#E5ECF6\", \"width\": 0.5}}, \"type\": \"bar\"}], \"barpolar\": [{\"marker\": {\"line\": {\"color\": \"#E5ECF6\", \"width\": 0.5}}, \"type\": \"barpolar\"}], \"carpet\": [{\"aaxis\": {\"endlinecolor\": \"#2a3f5f\", \"gridcolor\": \"white\", \"linecolor\": \"white\", \"minorgridcolor\": \"white\", \"startlinecolor\": \"#2a3f5f\"}, \"baxis\": {\"endlinecolor\": \"#2a3f5f\", \"gridcolor\": \"white\", \"linecolor\": \"white\", \"minorgridcolor\": \"white\", \"startlinecolor\": \"#2a3f5f\"}, \"type\": \"carpet\"}], \"choropleth\": [{\"colorbar\": {\"outlinewidth\": 0, \"ticks\": \"\"}, \"type\": \"choropleth\"}], \"contour\": [{\"colorbar\": {\"outlinewidth\": 0, \"ticks\": \"\"}, \"colorscale\": [[0.0, \"#0d0887\"], [0.1111111111111111, \"#46039f\"], [0.2222222222222222, \"#7201a8\"], [0.3333333333333333, \"#9c179e\"], [0.4444444444444444, \"#bd3786\"], [0.5555555555555556, \"#d8576b\"], [0.6666666666666666, \"#ed7953\"], [0.7777777777777778, \"#fb9f3a\"], [0.8888888888888888, \"#fdca26\"], [1.0, \"#f0f921\"]], \"type\": \"contour\"}], \"contourcarpet\": [{\"colorbar\": {\"outlinewidth\": 0, \"ticks\": \"\"}, \"type\": \"contourcarpet\"}], \"heatmap\": [{\"colorbar\": {\"outlinewidth\": 0, \"ticks\": \"\"}, \"colorscale\": [[0.0, \"#0d0887\"], [0.1111111111111111, \"#46039f\"], [0.2222222222222222, \"#7201a8\"], [0.3333333333333333, \"#9c179e\"], [0.4444444444444444, \"#bd3786\"], [0.5555555555555556, \"#d8576b\"], [0.6666666666666666, \"#ed7953\"], [0.7777777777777778, \"#fb9f3a\"], [0.8888888888888888, \"#fdca26\"], [1.0, \"#f0f921\"]], \"type\": \"heatmap\"}], \"heatmapgl\": [{\"colorbar\": {\"outlinewidth\": 0, \"ticks\": \"\"}, \"colorscale\": [[0.0, \"#0d0887\"], [0.1111111111111111, \"#46039f\"], [0.2222222222222222, \"#7201a8\"], [0.3333333333333333, \"#9c179e\"], [0.4444444444444444, \"#bd3786\"], [0.5555555555555556, \"#d8576b\"], [0.6666666666666666, \"#ed7953\"], [0.7777777777777778, \"#fb9f3a\"], [0.8888888888888888, \"#fdca26\"], [1.0, \"#f0f921\"]], \"type\": \"heatmapgl\"}], \"histogram\": [{\"marker\": {\"colorbar\": {\"outlinewidth\": 0, \"ticks\": \"\"}}, \"type\": \"histogram\"}], \"histogram2d\": [{\"colorbar\": {\"outlinewidth\": 0, \"ticks\": \"\"}, \"colorscale\": [[0.0, \"#0d0887\"], [0.1111111111111111, \"#46039f\"], [0.2222222222222222, \"#7201a8\"], [0.3333333333333333, \"#9c179e\"], [0.4444444444444444, \"#bd3786\"], [0.5555555555555556, \"#d8576b\"], [0.6666666666666666, \"#ed7953\"], [0.7777777777777778, \"#fb9f3a\"], [0.8888888888888888, \"#fdca26\"], [1.0, \"#f0f921\"]], \"type\": \"histogram2d\"}], \"histogram2dcontour\": [{\"colorbar\": {\"outlinewidth\": 0, \"ticks\": \"\"}, \"colorscale\": [[0.0, \"#0d0887\"], [0.1111111111111111, \"#46039f\"], [0.2222222222222222, \"#7201a8\"], [0.3333333333333333, \"#9c179e\"], [0.4444444444444444, \"#bd3786\"], [0.5555555555555556, \"#d8576b\"], [0.6666666666666666, \"#ed7953\"], [0.7777777777777778, \"#fb9f3a\"], [0.8888888888888888, \"#fdca26\"], [1.0, \"#f0f921\"]], \"type\": \"histogram2dcontour\"}], \"mesh3d\": [{\"colorbar\": {\"outlinewidth\": 0, \"ticks\": \"\"}, \"type\": \"mesh3d\"}], \"parcoords\": [{\"line\": {\"colorbar\": {\"outlinewidth\": 0, \"ticks\": \"\"}}, \"type\": \"parcoords\"}], \"pie\": [{\"automargin\": true, \"type\": \"pie\"}], \"scatter\": [{\"marker\": {\"colorbar\": {\"outlinewidth\": 0, \"ticks\": \"\"}}, \"type\": \"scatter\"}], \"scatter3d\": [{\"line\": {\"colorbar\": {\"outlinewidth\": 0, \"ticks\": \"\"}}, \"marker\": {\"colorbar\": {\"outlinewidth\": 0, \"ticks\": \"\"}}, \"type\": \"scatter3d\"}], \"scattercarpet\": [{\"marker\": {\"colorbar\": {\"outlinewidth\": 0, \"ticks\": \"\"}}, \"type\": \"scattercarpet\"}], \"scattergeo\": [{\"marker\": {\"colorbar\": {\"outlinewidth\": 0, \"ticks\": \"\"}}, \"type\": \"scattergeo\"}], \"scattergl\": [{\"marker\": {\"colorbar\": {\"outlinewidth\": 0, \"ticks\": \"\"}}, \"type\": \"scattergl\"}], \"scattermapbox\": [{\"marker\": {\"colorbar\": {\"outlinewidth\": 0, \"ticks\": \"\"}}, \"type\": \"scattermapbox\"}], \"scatterpolar\": [{\"marker\": {\"colorbar\": {\"outlinewidth\": 0, \"ticks\": \"\"}}, \"type\": \"scatterpolar\"}], \"scatterpolargl\": [{\"marker\": {\"colorbar\": {\"outlinewidth\": 0, \"ticks\": \"\"}}, \"type\": \"scatterpolargl\"}], \"scatterternary\": [{\"marker\": {\"colorbar\": {\"outlinewidth\": 0, \"ticks\": \"\"}}, \"type\": \"scatterternary\"}], \"surface\": [{\"colorbar\": {\"outlinewidth\": 0, \"ticks\": \"\"}, \"colorscale\": [[0.0, \"#0d0887\"], [0.1111111111111111, \"#46039f\"], [0.2222222222222222, \"#7201a8\"], [0.3333333333333333, \"#9c179e\"], [0.4444444444444444, \"#bd3786\"], [0.5555555555555556, \"#d8576b\"], [0.6666666666666666, \"#ed7953\"], [0.7777777777777778, \"#fb9f3a\"], [0.8888888888888888, \"#fdca26\"], [1.0, \"#f0f921\"]], \"type\": \"surface\"}], \"table\": [{\"cells\": {\"fill\": {\"color\": \"#EBF0F8\"}, \"line\": {\"color\": \"white\"}}, \"header\": {\"fill\": {\"color\": \"#C8D4E3\"}, \"line\": {\"color\": \"white\"}}, \"type\": \"table\"}]}, \"layout\": {\"annotationdefaults\": {\"arrowcolor\": \"#2a3f5f\", \"arrowhead\": 0, \"arrowwidth\": 1}, \"coloraxis\": {\"colorbar\": {\"outlinewidth\": 0, \"ticks\": \"\"}}, \"colorscale\": {\"diverging\": [[0, \"#8e0152\"], [0.1, \"#c51b7d\"], [0.2, \"#de77ae\"], [0.3, \"#f1b6da\"], [0.4, \"#fde0ef\"], [0.5, \"#f7f7f7\"], [0.6, \"#e6f5d0\"], [0.7, \"#b8e186\"], [0.8, \"#7fbc41\"], [0.9, \"#4d9221\"], [1, \"#276419\"]], \"sequential\": [[0.0, \"#0d0887\"], [0.1111111111111111, \"#46039f\"], [0.2222222222222222, \"#7201a8\"], [0.3333333333333333, \"#9c179e\"], [0.4444444444444444, \"#bd3786\"], [0.5555555555555556, \"#d8576b\"], [0.6666666666666666, \"#ed7953\"], [0.7777777777777778, \"#fb9f3a\"], [0.8888888888888888, \"#fdca26\"], [1.0, \"#f0f921\"]], \"sequentialminus\": [[0.0, \"#0d0887\"], [0.1111111111111111, \"#46039f\"], [0.2222222222222222, \"#7201a8\"], [0.3333333333333333, \"#9c179e\"], [0.4444444444444444, \"#bd3786\"], [0.5555555555555556, \"#d8576b\"], [0.6666666666666666, \"#ed7953\"], [0.7777777777777778, \"#fb9f3a\"], [0.8888888888888888, \"#fdca26\"], [1.0, \"#f0f921\"]]}, \"colorway\": [\"#636efa\", \"#EF553B\", \"#00cc96\", \"#ab63fa\", \"#FFA15A\", \"#19d3f3\", \"#FF6692\", \"#B6E880\", \"#FF97FF\", \"#FECB52\"], \"font\": {\"color\": \"#2a3f5f\"}, \"geo\": {\"bgcolor\": \"white\", \"lakecolor\": \"white\", \"landcolor\": \"#E5ECF6\", \"showlakes\": true, \"showland\": true, \"subunitcolor\": \"white\"}, \"hoverlabel\": {\"align\": \"left\"}, \"hovermode\": \"closest\", \"mapbox\": {\"style\": \"light\"}, \"paper_bgcolor\": \"white\", \"plot_bgcolor\": \"#E5ECF6\", \"polar\": {\"angularaxis\": {\"gridcolor\": \"white\", \"linecolor\": \"white\", \"ticks\": \"\"}, \"bgcolor\": \"#E5ECF6\", \"radialaxis\": {\"gridcolor\": \"white\", \"linecolor\": \"white\", \"ticks\": \"\"}}, \"scene\": {\"xaxis\": {\"backgroundcolor\": \"#E5ECF6\", \"gridcolor\": \"white\", \"gridwidth\": 2, \"linecolor\": \"white\", \"showbackground\": true, \"ticks\": \"\", \"zerolinecolor\": \"white\"}, \"yaxis\": {\"backgroundcolor\": \"#E5ECF6\", \"gridcolor\": \"white\", \"gridwidth\": 2, \"linecolor\": \"white\", \"showbackground\": true, \"ticks\": \"\", \"zerolinecolor\": \"white\"}, \"zaxis\": {\"backgroundcolor\": \"#E5ECF6\", \"gridcolor\": \"white\", \"gridwidth\": 2, \"linecolor\": \"white\", \"showbackground\": true, \"ticks\": \"\", \"zerolinecolor\": \"white\"}}, \"shapedefaults\": {\"line\": {\"color\": \"#2a3f5f\"}}, \"ternary\": {\"aaxis\": {\"gridcolor\": \"white\", \"linecolor\": \"white\", \"ticks\": \"\"}, \"baxis\": {\"gridcolor\": \"white\", \"linecolor\": \"white\", \"ticks\": \"\"}, \"bgcolor\": \"#E5ECF6\", \"caxis\": {\"gridcolor\": \"white\", \"linecolor\": \"white\", \"ticks\": \"\"}}, \"title\": {\"x\": 0.05}, \"xaxis\": {\"automargin\": true, \"gridcolor\": \"white\", \"linecolor\": \"white\", \"ticks\": \"\", \"title\": {\"standoff\": 15}, \"zerolinecolor\": \"white\", \"zerolinewidth\": 2}, \"yaxis\": {\"automargin\": true, \"gridcolor\": \"white\", \"linecolor\": \"white\", \"ticks\": \"\", \"title\": {\"standoff\": 15}, \"zerolinecolor\": \"white\", \"zerolinewidth\": 2}}}, \"title\": {\"font\": {\"size\": 20}, \"text\": \"<b>Average number of weekly hours worked per employee in 2019 in a selection of countries</b><br><i>Source : OECD</i>\"}, \"xaxis\": {\"anchor\": \"y\", \"domain\": [0.0, 1.0], \"tickangle\": -45, \"title\": {\"text\": \"\"}}, \"yaxis\": {\"anchor\": \"x\", \"domain\": [0.0, 1.0], \"title\": {\"text\": \"Hours worked per week\"}}},\n",
       "                        {\"responsive\": true}\n",
       "                    ).then(function(){\n",
       "                            \n",
       "var gd = document.getElementById('1c7129f0-042a-45b9-b501-5fc01a6e4a6e');\n",
       "var x = new MutationObserver(function (mutations, observer) {{\n",
       "        var display = window.getComputedStyle(gd).display;\n",
       "        if (!display || display === 'none') {{\n",
       "            console.log([gd, 'removed!']);\n",
       "            Plotly.purge(gd);\n",
       "            observer.disconnect();\n",
       "        }}\n",
       "}});\n",
       "\n",
       "// Listen for the removal of the full notebook cells\n",
       "var notebookContainer = gd.closest('#notebook-container');\n",
       "if (notebookContainer) {{\n",
       "    x.observe(notebookContainer, {childList: true});\n",
       "}}\n",
       "\n",
       "// Listen for the clearing of the current output cell\n",
       "var outputEl = gd.closest('.output');\n",
       "if (outputEl) {{\n",
       "    x.observe(outputEl, {childList: true});\n",
       "}}\n",
       "\n",
       "                        })\n",
       "                };\n",
       "                });\n",
       "            </script>\n",
       "        </div>"
      ]
     },
     "metadata": {},
     "output_type": "display_data"
    }
   ],
   "source": [
    "fig_bar = px.bar(df_hours_worked_bar.query(\"TIME==2019\"), \n",
    "             x=\"Country\", \n",
    "             y=\"Value\", \n",
    "             hover_name=\"Country\", \n",
    "             color=\"Value\",\n",
    "             color_continuous_scale=px.colors.sequential.Teal, \n",
    "             labels={'Value':'Hours worked per week', 'Country':''}, \n",
    "             title=\"<b>Average number of weekly hours worked per employee in 2019 in a selection of countries</b><br>\" + \n",
    "             \"<i>Source : OECD</i>\"\n",
    "            )\n",
    "\n",
    "# Style\n",
    "fig_bar.update_layout(\n",
    "    font_family='Helvetica',\n",
    "    font_color='grey',\n",
    "    font_size=12,\n",
    "    title_font_size=20,\n",
    "    xaxis_tickangle=-45\n",
    "\n",
    ")\n",
    "\n",
    "fig_bar.update_coloraxes(showscale=False)\n",
    "\n",
    "fig_bar.show()"
   ]
  },
  {
   "cell_type": "markdown",
   "metadata": {},
   "source": [
    "### Scatter plot"
   ]
  },
  {
   "cell_type": "markdown",
   "metadata": {},
   "source": [
    "Let's see the evolution of the average number of hours worked annually per employee for a selection of countries over the years."
   ]
  },
  {
   "cell_type": "code",
   "execution_count": 63,
   "metadata": {},
   "outputs": [
    {
     "data": {
      "text/html": [
       "<div>\n",
       "<style scoped>\n",
       "    .dataframe tbody tr th:only-of-type {\n",
       "        vertical-align: middle;\n",
       "    }\n",
       "\n",
       "    .dataframe tbody tr th {\n",
       "        vertical-align: top;\n",
       "    }\n",
       "\n",
       "    .dataframe thead th {\n",
       "        text-align: right;\n",
       "    }\n",
       "</style>\n",
       "<table border=\"1\" class=\"dataframe\">\n",
       "  <thead>\n",
       "    <tr style=\"text-align: right;\">\n",
       "      <th></th>\n",
       "      <th>COUNTRY</th>\n",
       "      <th>Country</th>\n",
       "      <th>TIME</th>\n",
       "      <th>Value</th>\n",
       "    </tr>\n",
       "  </thead>\n",
       "  <tbody>\n",
       "    <tr>\n",
       "      <th>313</th>\n",
       "      <td>FRA</td>\n",
       "      <td>France</td>\n",
       "      <td>1950</td>\n",
       "      <td>45.211538</td>\n",
       "    </tr>\n",
       "    <tr>\n",
       "      <th>1035</th>\n",
       "      <td>SWE</td>\n",
       "      <td>Sweden</td>\n",
       "      <td>1950</td>\n",
       "      <td>35.076923</td>\n",
       "    </tr>\n",
       "    <tr>\n",
       "      <th>1267</th>\n",
       "      <td>USA</td>\n",
       "      <td>United States</td>\n",
       "      <td>1950</td>\n",
       "      <td>37.846154</td>\n",
       "    </tr>\n",
       "    <tr>\n",
       "      <th>314</th>\n",
       "      <td>FRA</td>\n",
       "      <td>France</td>\n",
       "      <td>1951</td>\n",
       "      <td>45.384615</td>\n",
       "    </tr>\n",
       "    <tr>\n",
       "      <th>1036</th>\n",
       "      <td>SWE</td>\n",
       "      <td>Sweden</td>\n",
       "      <td>1951</td>\n",
       "      <td>34.923077</td>\n",
       "    </tr>\n",
       "  </tbody>\n",
       "</table>\n",
       "</div>"
      ],
      "text/plain": [
       "     COUNTRY        Country  TIME      Value\n",
       "313      FRA         France  1950  45.211538\n",
       "1035     SWE         Sweden  1950  35.076923\n",
       "1267     USA  United States  1950  37.846154\n",
       "314      FRA         France  1951  45.384615\n",
       "1036     SWE         Sweden  1951  34.923077"
      ]
     },
     "execution_count": 63,
     "metadata": {},
     "output_type": "execute_result"
    }
   ],
   "source": [
    "df_hours_worked_scatter = df_hours_worked.sort_values(by=['TIME', 'COUNTRY'], ascending=True)\n",
    "             \n",
    "df_hours_worked_scatter.head()"
   ]
  },
  {
   "cell_type": "code",
   "execution_count": 64,
   "metadata": {},
   "outputs": [],
   "source": [
    "df_hours_worked_us = df_hours_worked_scatter.query(\"Country == 'United States'\")\n",
    "df_hours_worked_fr = df_hours_worked_scatter.query(\"Country == 'France'\")\n",
    "df_hours_worked_ca = df_hours_worked_scatter.query(\"Country == 'Canada'\")\n",
    "df_hours_worked_de = df_hours_worked_scatter.query(\"Country == 'Germany'\")\n",
    "df_hours_worked_it = df_hours_worked_scatter.query(\"Country == 'Italy'\")\n",
    "df_hours_worked_uk = df_hours_worked_scatter.query(\"Country == 'United Kingdom'\")\n",
    "df_hours_worked_jp = df_hours_worked_scatter.query(\"Country == 'Japan'\")"
   ]
  },
  {
   "cell_type": "code",
   "execution_count": 65,
   "metadata": {},
   "outputs": [
    {
     "data": {
      "text/html": [
       "<div>\n",
       "        \n",
       "        \n",
       "            <div id=\"4ea381ee-c638-4791-b04a-77a473a29e3a\" class=\"plotly-graph-div\" style=\"height:525px; width:100%;\"></div>\n",
       "            <script type=\"text/javascript\">\n",
       "                require([\"plotly\"], function(Plotly) {\n",
       "                    window.PLOTLYENV=window.PLOTLYENV || {};\n",
       "                    \n",
       "                if (document.getElementById(\"4ea381ee-c638-4791-b04a-77a473a29e3a\")) {\n",
       "                    Plotly.newPlot(\n",
       "                        '4ea381ee-c638-4791-b04a-77a473a29e3a',\n",
       "                        [{\"marker\": {\"color\": [37.84615384615385, 38.21153846153846, 38.23076923076923, 38.32692307692308, 38.15384615384615, 38.51923076923077, 38.5, 37.94230769230769, 37.44230769230769, 37.65384615384615, 37.53846153846154, 37.32692307692308, 37.69230769230769, 37.92307692307692, 37.98076923076923, 38.15384615384615, 37.96153846153846, 37.51923076923077, 37.30769230769231, 37.26923076923077, 36.67307692307692, 36.42307692307692, 36.34615384615385, 36.36538461538461, 35.76923076923077, 35.36538461538461, 35.40384615384615, 35.46153846153846, 35.30769230769231, 35.26923076923077, 34.92307692307692, 34.84615384615385, 34.67307692307692, 35.03846153846154, 35.36538461538461, 35.34615384615385, 35.17307692307692, 35.36538461538461, 35.32692307692308, 35.53846153846154, 35.25, 35.05769230769231, 37.84615384615385, 37.84615384615385, 35.36538461538461, 35.36538461538461, 35.38461538461539, 35.44230769230769, 35.42307692307692, 35.36538461538461, 35.23076923076923, 34.82692307692308, 34.73076923076923, 34.53846153846154, 34.57692307692308, 34.5, 34.53846153846154, 34.51923076923077, 34.34615384615385, 33.86538461538461, 34.07692307692308, 34.19230769230769, 34.26923076923077, 34.23076923076923, 34.26923076923077, 34.28846153846154, 34.19230769230769, 34.19230769230769, 34.26923076923077, 34.17307692307692, 33.98076923076923]}, \"name\": \"United States\", \"text\": [\"United States\", \"United States\", \"United States\", \"United States\", \"United States\", \"United States\", \"United States\", \"United States\", \"United States\", \"United States\", \"United States\", \"United States\", \"United States\", \"United States\", \"United States\", \"United States\", \"United States\", \"United States\", \"United States\", \"United States\", \"United States\", \"United States\", \"United States\", \"United States\", \"United States\", \"United States\", \"United States\", \"United States\", \"United States\", \"United States\", \"United States\", \"United States\", \"United States\", \"United States\", \"United States\", \"United States\", \"United States\", \"United States\", \"United States\", \"United States\", \"United States\", \"United States\", \"United States\", \"United States\", \"United States\", \"United States\", \"United States\", \"United States\", \"United States\", \"United States\", \"United States\", \"United States\", \"United States\", \"United States\", \"United States\", \"United States\", \"United States\", \"United States\", \"United States\", \"United States\", \"United States\", \"United States\", \"United States\", \"United States\", \"United States\", \"United States\", \"United States\", \"United States\", \"United States\", \"United States\", \"United States\"], \"type\": \"scatter\", \"x\": [1950, 1951, 1952, 1953, 1954, 1955, 1956, 1957, 1958, 1959, 1960, 1961, 1962, 1963, 1964, 1965, 1966, 1967, 1968, 1969, 1970, 1971, 1972, 1973, 1974, 1975, 1976, 1977, 1978, 1979, 1980, 1981, 1982, 1983, 1984, 1985, 1986, 1987, 1988, 1989, 1990, 1991, 1992, 1993, 1994, 1995, 1996, 1997, 1998, 1999, 2000, 2001, 2002, 2003, 2004, 2005, 2006, 2007, 2008, 2009, 2010, 2011, 2012, 2013, 2014, 2015, 2016, 2017, 2018, 2019, 2020], \"y\": [37.84615384615385, 38.21153846153846, 38.23076923076923, 38.32692307692308, 38.15384615384615, 38.51923076923077, 38.5, 37.94230769230769, 37.44230769230769, 37.65384615384615, 37.53846153846154, 37.32692307692308, 37.69230769230769, 37.92307692307692, 37.98076923076923, 38.15384615384615, 37.96153846153846, 37.51923076923077, 37.30769230769231, 37.26923076923077, 36.67307692307692, 36.42307692307692, 36.34615384615385, 36.36538461538461, 35.76923076923077, 35.36538461538461, 35.40384615384615, 35.46153846153846, 35.30769230769231, 35.26923076923077, 34.92307692307692, 34.84615384615385, 34.67307692307692, 35.03846153846154, 35.36538461538461, 35.34615384615385, 35.17307692307692, 35.36538461538461, 35.32692307692308, 35.53846153846154, 35.25, 35.05769230769231, 37.84615384615385, 37.84615384615385, 35.36538461538461, 35.36538461538461, 35.38461538461539, 35.44230769230769, 35.42307692307692, 35.36538461538461, 35.23076923076923, 34.82692307692308, 34.73076923076923, 34.53846153846154, 34.57692307692308, 34.5, 34.53846153846154, 34.51923076923077, 34.34615384615385, 33.86538461538461, 34.07692307692308, 34.19230769230769, 34.26923076923077, 34.23076923076923, 34.26923076923077, 34.28846153846154, 34.19230769230769, 34.19230769230769, 34.26923076923077, 34.17307692307692, 33.98076923076923]}, {\"marker\": {\"color\": [45.21153846153846, 45.38461538461539, 44.98076923076923, 44.48076923076923, 44.53846153846154, 44.07692307692308, 43.0, 42.30769230769231, 41.90384615384615, 41.90384615384615, 42.07692307692308, 41.63461538461539, 41.88461538461539, 41.51923076923077, 41.65384615384615, 41.40384615384615, 41.25, 40.57692307692308, 40.13461538461539, 38.69230769230769, 38.32692307692308, 38.26923076923077, 37.25, 36.92307692307692, 36.30769230769231, 35.82692307692308, 36.32692307692308, 35.57692307692308, 34.98076923076923, 34.92307692307692, 34.73076923076923, 34.34615384615385, 32.96153846153846, 32.61538461538461, 32.5, 31.807692307692307, 31.692307692307693, 31.903846153846153, 32.05769230769231, 31.75, 31.634615384615383, 31.5, 31.442307692307693, 31.28846153846154, 31.21153846153846, 30.78846153846154, 30.71153846153846, 30.692307692307693, 30.48076923076923, 30.346153846153847, 29.96153846153846, 29.576923076923077, 28.923076923076923, 28.98076923076923, 29.442307692307693, 29.46153846153846, 29.134615384615383, 29.557692307692307, 29.673076923076923, 29.442307692307693, 29.615384615384617, 29.73076923076923, 29.634615384615383, 29.346153846153847, 29.192307692307693, 29.21153846153846, 29.26923076923077, 29.0, 29.115384615384617, 29.057692307692307, 26.96153846153846]}, \"name\": \"France\", \"text\": [\"France\", \"France\", \"France\", \"France\", \"France\", \"France\", \"France\", \"France\", \"France\", \"France\", \"France\", \"France\", \"France\", \"France\", \"France\", \"France\", \"France\", \"France\", \"France\", \"France\", \"France\", \"France\", \"France\", \"France\", \"France\", \"France\", \"France\", \"France\", \"France\", \"France\", \"France\", \"France\", \"France\", \"France\", \"France\", \"France\", \"France\", \"France\", \"France\", \"France\", \"France\", \"France\", \"France\", \"France\", \"France\", \"France\", \"France\", \"France\", \"France\", \"France\", \"France\", \"France\", \"France\", \"France\", \"France\", \"France\", \"France\", \"France\", \"France\", \"France\", \"France\", \"France\", \"France\", \"France\", \"France\", \"France\", \"France\", \"France\", \"France\", \"France\", \"France\"], \"type\": \"scatter\", \"x\": [1950, 1951, 1952, 1953, 1954, 1955, 1956, 1957, 1958, 1959, 1960, 1961, 1962, 1963, 1964, 1965, 1966, 1967, 1968, 1969, 1970, 1971, 1972, 1973, 1974, 1975, 1976, 1977, 1978, 1979, 1980, 1981, 1982, 1983, 1984, 1985, 1986, 1987, 1988, 1989, 1990, 1991, 1992, 1993, 1994, 1995, 1996, 1997, 1998, 1999, 2000, 2001, 2002, 2003, 2004, 2005, 2006, 2007, 2008, 2009, 2010, 2011, 2012, 2013, 2014, 2015, 2016, 2017, 2018, 2019, 2020], \"y\": [45.21153846153846, 45.38461538461539, 44.98076923076923, 44.48076923076923, 44.53846153846154, 44.07692307692308, 43.0, 42.30769230769231, 41.90384615384615, 41.90384615384615, 42.07692307692308, 41.63461538461539, 41.88461538461539, 41.51923076923077, 41.65384615384615, 41.40384615384615, 41.25, 40.57692307692308, 40.13461538461539, 38.69230769230769, 38.32692307692308, 38.26923076923077, 37.25, 36.92307692307692, 36.30769230769231, 35.82692307692308, 36.32692307692308, 35.57692307692308, 34.98076923076923, 34.92307692307692, 34.73076923076923, 34.34615384615385, 32.96153846153846, 32.61538461538461, 32.5, 31.807692307692307, 31.692307692307693, 31.903846153846153, 32.05769230769231, 31.75, 31.634615384615383, 31.5, 31.442307692307693, 31.28846153846154, 31.21153846153846, 30.78846153846154, 30.71153846153846, 30.692307692307693, 30.48076923076923, 30.346153846153847, 29.96153846153846, 29.576923076923077, 28.923076923076923, 28.98076923076923, 29.442307692307693, 29.46153846153846, 29.134615384615383, 29.557692307692307, 29.673076923076923, 29.442307692307693, 29.615384615384617, 29.73076923076923, 29.634615384615383, 29.346153846153847, 29.192307692307693, 29.21153846153846, 29.26923076923077, 29.0, 29.115384615384617, 29.057692307692307, 26.96153846153846]}, {\"marker\": {\"color\": [39.59615384615385, 39.57692307692308, 39.25, 39.09615384615385, 38.76923076923077, 38.48076923076923, 38.32692307692308, 37.65384615384615, 37.36538461538461, 37.01923076923077, 36.76923076923077, 36.61538461538461, 36.5, 36.36538461538461, 36.0, 35.80769230769231, 35.26923076923077, 35.30769230769231, 35.40384615384615, 35.13461538461539, 34.84615384615385, 34.40384615384615, 34.21153846153846, 34.40384615384615, 34.51923076923077, 34.55769230769231, 34.75, 34.76923076923077, 34.65384615384615, 34.55769230769231, 34.13461538461539, 34.07692307692308, 34.01923076923077, 34.19230769230769, 34.13461538461539, 34.42307692307692, 34.57692307692308, 34.5, 34.48076923076923, 34.36538461538461, 34.11538461538461, 33.75, 33.55769230769231, 33.75, 33.55769230769231, 33.53846153846154, 33.53846153846154, 33.48076923076923, 32.92307692307692, 32.98076923076923, 32.94230769230769, 33.11538461538461, 33.0, 32.88461538461539, 32.92307692307692, 32.80769230769231, 32.59615384615385, 32.84615384615385, 32.5, 31.615384615384617]}, \"name\": \"Canada\", \"text\": [\"Canada\", \"Canada\", \"Canada\", \"Canada\", \"Canada\", \"Canada\", \"Canada\", \"Canada\", \"Canada\", \"Canada\", \"Canada\", \"Canada\", \"Canada\", \"Canada\", \"Canada\", \"Canada\", \"Canada\", \"Canada\", \"Canada\", \"Canada\", \"Canada\", \"Canada\", \"Canada\", \"Canada\", \"Canada\", \"Canada\", \"Canada\", \"Canada\", \"Canada\", \"Canada\", \"Canada\", \"Canada\", \"Canada\", \"Canada\", \"Canada\", \"Canada\", \"Canada\", \"Canada\", \"Canada\", \"Canada\", \"Canada\", \"Canada\", \"Canada\", \"Canada\", \"Canada\", \"Canada\", \"Canada\", \"Canada\", \"Canada\", \"Canada\", \"Canada\", \"Canada\", \"Canada\", \"Canada\", \"Canada\", \"Canada\", \"Canada\", \"Canada\", \"Canada\", \"Canada\"], \"type\": \"scatter\", \"x\": [1961, 1962, 1963, 1964, 1965, 1966, 1967, 1968, 1969, 1970, 1971, 1972, 1973, 1974, 1975, 1976, 1977, 1978, 1979, 1980, 1981, 1982, 1983, 1984, 1985, 1986, 1987, 1988, 1989, 1990, 1991, 1992, 1993, 1994, 1995, 1996, 1997, 1998, 1999, 2000, 2001, 2002, 2003, 2004, 2005, 2006, 2007, 2008, 2009, 2010, 2011, 2012, 2013, 2014, 2015, 2016, 2017, 2018, 2019, 2020], \"y\": [39.59615384615385, 39.57692307692308, 39.25, 39.09615384615385, 38.76923076923077, 38.48076923076923, 38.32692307692308, 37.65384615384615, 37.36538461538461, 37.01923076923077, 36.76923076923077, 36.61538461538461, 36.5, 36.36538461538461, 36.0, 35.80769230769231, 35.26923076923077, 35.30769230769231, 35.40384615384615, 35.13461538461539, 34.84615384615385, 34.40384615384615, 34.21153846153846, 34.40384615384615, 34.51923076923077, 34.55769230769231, 34.75, 34.76923076923077, 34.65384615384615, 34.55769230769231, 34.13461538461539, 34.07692307692308, 34.01923076923077, 34.19230769230769, 34.13461538461539, 34.42307692307692, 34.57692307692308, 34.5, 34.48076923076923, 34.36538461538461, 34.11538461538461, 33.75, 33.55769230769231, 33.75, 33.55769230769231, 33.53846153846154, 33.53846153846154, 33.48076923076923, 32.92307692307692, 32.98076923076923, 32.94230769230769, 33.11538461538461, 33.0, 32.88461538461539, 32.92307692307692, 32.80769230769231, 32.59615384615385, 32.84615384615385, 32.5, 31.615384615384617]}, {\"marker\": {\"color\": [34.13461538461539, 33.46153846153846, 32.86538461538461, 33.86538461538461, 33.17307692307692, 33.07692307692308, 32.78846153846154, 32.44230769230769, 32.09615384615385, 31.96153846153846, 31.134615384615383, 30.134615384615383, 30.403846153846153, 30.153846153846153, 30.442307692307693, 31.01923076923077, 31.076923076923077, 30.884615384615383, 31.576923076923077, 31.365384615384617, 31.115384615384617, 31.057692307692307, 30.442307692307693, 30.326923076923077, 30.5, 30.5, 30.5, 30.5, 30.423076923076923, 30.25, 29.96153846153846, 30.057692307692307, 29.673076923076923, 29.5, 29.5, 29.692307692307693, 29.53846153846154, 29.634615384615383, 29.326923076923077, 29.153846153846153, 28.98076923076923, 29.134615384615383, 29.442307692307693, 29.5, 29.653846153846153, 29.326923076923077, 29.634615384615383, 29.53846153846154, 29.53846153846154, 29.557692307692307, 26.28846153846154]}, \"name\": \"United Kingdom\", \"text\": [\"United Kingdom\", \"United Kingdom\", \"United Kingdom\", \"United Kingdom\", \"United Kingdom\", \"United Kingdom\", \"United Kingdom\", \"United Kingdom\", \"United Kingdom\", \"United Kingdom\", \"United Kingdom\", \"United Kingdom\", \"United Kingdom\", \"United Kingdom\", \"United Kingdom\", \"United Kingdom\", \"United Kingdom\", \"United Kingdom\", \"United Kingdom\", \"United Kingdom\", \"United Kingdom\", \"United Kingdom\", \"United Kingdom\", \"United Kingdom\", \"United Kingdom\", \"United Kingdom\", \"United Kingdom\", \"United Kingdom\", \"United Kingdom\", \"United Kingdom\", \"United Kingdom\", \"United Kingdom\", \"United Kingdom\", \"United Kingdom\", \"United Kingdom\", \"United Kingdom\", \"United Kingdom\", \"United Kingdom\", \"United Kingdom\", \"United Kingdom\", \"United Kingdom\", \"United Kingdom\", \"United Kingdom\", \"United Kingdom\", \"United Kingdom\", \"United Kingdom\", \"United Kingdom\", \"United Kingdom\", \"United Kingdom\", \"United Kingdom\", \"United Kingdom\"], \"type\": \"scatter\", \"x\": [1970, 1971, 1972, 1973, 1974, 1975, 1976, 1977, 1978, 1979, 1980, 1981, 1982, 1983, 1984, 1985, 1986, 1987, 1988, 1989, 1990, 1991, 1992, 1993, 1994, 1995, 1996, 1997, 1998, 1999, 2000, 2001, 2002, 2003, 2004, 2005, 2006, 2007, 2008, 2009, 2010, 2011, 2012, 2013, 2014, 2015, 2016, 2017, 2018, 2019, 2020], \"y\": [34.13461538461539, 33.46153846153846, 32.86538461538461, 33.86538461538461, 33.17307692307692, 33.07692307692308, 32.78846153846154, 32.44230769230769, 32.09615384615385, 31.96153846153846, 31.134615384615383, 30.134615384615383, 30.403846153846153, 30.153846153846153, 30.442307692307693, 31.01923076923077, 31.076923076923077, 30.884615384615383, 31.576923076923077, 31.365384615384617, 31.115384615384617, 31.057692307692307, 30.442307692307693, 30.326923076923077, 30.5, 30.5, 30.5, 30.5, 30.423076923076923, 30.25, 29.96153846153846, 30.057692307692307, 29.673076923076923, 29.5, 29.5, 29.692307692307693, 29.53846153846154, 29.634615384615383, 29.326923076923077, 29.153846153846153, 28.98076923076923, 29.134615384615383, 29.442307692307693, 29.5, 29.653846153846153, 29.326923076923077, 29.634615384615383, 29.53846153846154, 29.53846153846154, 29.557692307692307, 26.28846153846154]}, {\"marker\": {\"color\": [29.88653846153846, 30.09807692307692, 29.61923076923077, 29.549999999999997, 29.434615384615384, 29.16923076923077, 28.99423076923077, 28.932692307692307, 28.682692307692307, 28.190384615384616, 28.042307692307695, 27.86346153846154, 27.75769230769231, 27.74230769230769, 27.54615384615385, 27.946153846153848, 27.963461538461537, 27.832692307692305, 27.01923076923077, 27.417307692307695, 27.440384615384616, 27.076923076923077, 26.85576923076923, 26.930769230769233, 26.942307692307693, 26.838461538461537, 26.713461538461537, 26.67115384615385, 26.592307692307692, 25.609615384615385]}, \"name\": \"Germany\", \"text\": [\"Germany\", \"Germany\", \"Germany\", \"Germany\", \"Germany\", \"Germany\", \"Germany\", \"Germany\", \"Germany\", \"Germany\", \"Germany\", \"Germany\", \"Germany\", \"Germany\", \"Germany\", \"Germany\", \"Germany\", \"Germany\", \"Germany\", \"Germany\", \"Germany\", \"Germany\", \"Germany\", \"Germany\", \"Germany\", \"Germany\", \"Germany\", \"Germany\", \"Germany\", \"Germany\"], \"type\": \"scatter\", \"x\": [1991, 1992, 1993, 1994, 1995, 1996, 1997, 1998, 1999, 2000, 2001, 2002, 2003, 2004, 2005, 2006, 2007, 2008, 2009, 2010, 2011, 2012, 2013, 2014, 2015, 2016, 2017, 2018, 2019, 2020], \"y\": [29.88653846153846, 30.09807692307692, 29.61923076923077, 29.549999999999997, 29.434615384615384, 29.16923076923077, 28.99423076923077, 28.932692307692307, 28.682692307692307, 28.190384615384616, 28.042307692307695, 27.86346153846154, 27.75769230769231, 27.74230769230769, 27.54615384615385, 27.946153846153848, 27.963461538461537, 27.832692307692305, 27.01923076923077, 27.417307692307695, 27.440384615384616, 27.076923076923077, 26.85576923076923, 26.930769230769233, 26.942307692307693, 26.838461538461537, 26.713461538461537, 26.67115384615385, 26.592307692307692, 25.609615384615385]}, {\"marker\": {\"color\": [35.69615384615385, 35.88846153846154, 35.767307692307696, 36.021153846153844, 35.95961538461539, 35.580769230769235, 35.33846153846154, 35.11923076923077, 34.90576923076923, 34.896153846153844, 34.82884615384615, 34.84423076923077, 34.955769230769235, 34.74038461538461, 34.13846153846154, 34.169230769230765, 34.08846153846154, 33.33846153846154, 33.059615384615384, 33.00576923076923, 33.02884615384615, 33.10961538461539, 33.06153846153846, 33.065384615384616, 32.975, 29.975]}, \"name\": \"Italy\", \"text\": [\"Italy\", \"Italy\", \"Italy\", \"Italy\", \"Italy\", \"Italy\", \"Italy\", \"Italy\", \"Italy\", \"Italy\", \"Italy\", \"Italy\", \"Italy\", \"Italy\", \"Italy\", \"Italy\", \"Italy\", \"Italy\", \"Italy\", \"Italy\", \"Italy\", \"Italy\", \"Italy\", \"Italy\", \"Italy\", \"Italy\"], \"type\": \"scatter\", \"x\": [1995, 1996, 1997, 1998, 1999, 2000, 2001, 2002, 2003, 2004, 2005, 2006, 2007, 2008, 2009, 2010, 2011, 2012, 2013, 2014, 2015, 2016, 2017, 2018, 2019, 2020], \"y\": [35.69615384615385, 35.88846153846154, 35.767307692307696, 36.021153846153844, 35.95961538461539, 35.580769230769235, 35.33846153846154, 35.11923076923077, 34.90576923076923, 34.896153846153844, 34.82884615384615, 34.84423076923077, 34.955769230769235, 34.74038461538461, 34.13846153846154, 34.169230769230765, 34.08846153846154, 33.33846153846154, 33.059615384615384, 33.00576923076923, 33.02884615384615, 33.10961538461539, 33.06153846153846, 33.065384615384616, 32.975, 29.975]}, {\"marker\": {\"color\": [43.13461538461539, 43.05769230769231, 42.84615384615385, 42.32692307692308, 41.09615384615385, 40.61538461538461, 40.92307692307692, 40.94230769230769, 40.82692307692308, 40.88461538461539, 40.78846153846154, 40.5, 40.46153846153846, 40.28846153846154, 40.53846153846154, 40.25, 40.32692307692308, 40.30769230769231, 40.23076923076923, 39.80769230769231, 39.05769230769231, 38.42307692307692, 37.78846153846154, 36.63461538461539, 36.5, 36.23076923076923, 36.38461538461539, 35.86538461538461, 35.42307692307692, 34.80769230769231, 35.01923076923077, 34.78846153846154, 34.57692307692308, 34.59615384615385, 34.36538461538461, 34.13461538461539, 34.30769230769231, 34.32692307692308, 34.05769230769231, 32.96153846153846, 33.32692307692308, 33.23076923076923, 33.55769230769231, 33.34615384615385, 33.25, 33.05769230769231, 32.96153846153846, 32.86538461538461, 32.30769230769231, 31.615384615384617, 30.73076923076923]}, \"name\": \"Japan\", \"text\": [\"Japan\", \"Japan\", \"Japan\", \"Japan\", \"Japan\", \"Japan\", \"Japan\", \"Japan\", \"Japan\", \"Japan\", \"Japan\", \"Japan\", \"Japan\", \"Japan\", \"Japan\", \"Japan\", \"Japan\", \"Japan\", \"Japan\", \"Japan\", \"Japan\", \"Japan\", \"Japan\", \"Japan\", \"Japan\", \"Japan\", \"Japan\", \"Japan\", \"Japan\", \"Japan\", \"Japan\", \"Japan\", \"Japan\", \"Japan\", \"Japan\", \"Japan\", \"Japan\", \"Japan\", \"Japan\", \"Japan\", \"Japan\", \"Japan\", \"Japan\", \"Japan\", \"Japan\", \"Japan\", \"Japan\", \"Japan\", \"Japan\", \"Japan\", \"Japan\"], \"type\": \"scatter\", \"x\": [1970, 1971, 1972, 1973, 1974, 1975, 1976, 1977, 1978, 1979, 1980, 1981, 1982, 1983, 1984, 1985, 1986, 1987, 1988, 1989, 1990, 1991, 1992, 1993, 1994, 1995, 1996, 1997, 1998, 1999, 2000, 2001, 2002, 2003, 2004, 2005, 2006, 2007, 2008, 2009, 2010, 2011, 2012, 2013, 2014, 2015, 2016, 2017, 2018, 2019, 2020], \"y\": [43.13461538461539, 43.05769230769231, 42.84615384615385, 42.32692307692308, 41.09615384615385, 40.61538461538461, 40.92307692307692, 40.94230769230769, 40.82692307692308, 40.88461538461539, 40.78846153846154, 40.5, 40.46153846153846, 40.28846153846154, 40.53846153846154, 40.25, 40.32692307692308, 40.30769230769231, 40.23076923076923, 39.80769230769231, 39.05769230769231, 38.42307692307692, 37.78846153846154, 36.63461538461539, 36.5, 36.23076923076923, 36.38461538461539, 35.86538461538461, 35.42307692307692, 34.80769230769231, 35.01923076923077, 34.78846153846154, 34.57692307692308, 34.59615384615385, 34.36538461538461, 34.13461538461539, 34.30769230769231, 34.32692307692308, 34.05769230769231, 32.96153846153846, 33.32692307692308, 33.23076923076923, 33.55769230769231, 33.34615384615385, 33.25, 33.05769230769231, 32.96153846153846, 32.86538461538461, 32.30769230769231, 31.615384615384617, 30.73076923076923]}],\n",
       "                        {\"font\": {\"color\": \"grey\", \"family\": \"Helvetica\", \"size\": 12}, \"legend\": {\"bgcolor\": \"rgba(255, 255, 255, 0)\", \"bordercolor\": \"rgba(255, 255, 255, 0)\", \"x\": 0.845, \"y\": 1}, \"template\": {\"data\": {\"bar\": [{\"error_x\": {\"color\": \"#2a3f5f\"}, \"error_y\": {\"color\": \"#2a3f5f\"}, \"marker\": {\"line\": {\"color\": \"#E5ECF6\", \"width\": 0.5}}, \"type\": \"bar\"}], \"barpolar\": [{\"marker\": {\"line\": {\"color\": \"#E5ECF6\", \"width\": 0.5}}, \"type\": \"barpolar\"}], \"carpet\": [{\"aaxis\": {\"endlinecolor\": \"#2a3f5f\", \"gridcolor\": \"white\", \"linecolor\": \"white\", \"minorgridcolor\": \"white\", \"startlinecolor\": \"#2a3f5f\"}, \"baxis\": {\"endlinecolor\": \"#2a3f5f\", \"gridcolor\": \"white\", \"linecolor\": \"white\", \"minorgridcolor\": \"white\", \"startlinecolor\": \"#2a3f5f\"}, \"type\": \"carpet\"}], \"choropleth\": [{\"colorbar\": {\"outlinewidth\": 0, \"ticks\": \"\"}, \"type\": \"choropleth\"}], \"contour\": [{\"colorbar\": {\"outlinewidth\": 0, \"ticks\": \"\"}, \"colorscale\": [[0.0, \"#0d0887\"], [0.1111111111111111, \"#46039f\"], [0.2222222222222222, \"#7201a8\"], [0.3333333333333333, \"#9c179e\"], [0.4444444444444444, \"#bd3786\"], [0.5555555555555556, \"#d8576b\"], [0.6666666666666666, \"#ed7953\"], [0.7777777777777778, \"#fb9f3a\"], [0.8888888888888888, \"#fdca26\"], [1.0, \"#f0f921\"]], \"type\": \"contour\"}], \"contourcarpet\": [{\"colorbar\": {\"outlinewidth\": 0, \"ticks\": \"\"}, \"type\": \"contourcarpet\"}], \"heatmap\": [{\"colorbar\": {\"outlinewidth\": 0, \"ticks\": \"\"}, \"colorscale\": [[0.0, \"#0d0887\"], [0.1111111111111111, \"#46039f\"], [0.2222222222222222, \"#7201a8\"], [0.3333333333333333, \"#9c179e\"], [0.4444444444444444, \"#bd3786\"], [0.5555555555555556, \"#d8576b\"], [0.6666666666666666, \"#ed7953\"], [0.7777777777777778, \"#fb9f3a\"], [0.8888888888888888, \"#fdca26\"], [1.0, \"#f0f921\"]], \"type\": \"heatmap\"}], \"heatmapgl\": [{\"colorbar\": {\"outlinewidth\": 0, \"ticks\": \"\"}, \"colorscale\": [[0.0, \"#0d0887\"], [0.1111111111111111, \"#46039f\"], [0.2222222222222222, \"#7201a8\"], [0.3333333333333333, \"#9c179e\"], [0.4444444444444444, \"#bd3786\"], [0.5555555555555556, \"#d8576b\"], [0.6666666666666666, \"#ed7953\"], [0.7777777777777778, \"#fb9f3a\"], [0.8888888888888888, \"#fdca26\"], [1.0, \"#f0f921\"]], \"type\": \"heatmapgl\"}], \"histogram\": [{\"marker\": {\"colorbar\": {\"outlinewidth\": 0, \"ticks\": \"\"}}, \"type\": \"histogram\"}], \"histogram2d\": [{\"colorbar\": {\"outlinewidth\": 0, \"ticks\": \"\"}, \"colorscale\": [[0.0, \"#0d0887\"], [0.1111111111111111, \"#46039f\"], [0.2222222222222222, \"#7201a8\"], [0.3333333333333333, \"#9c179e\"], [0.4444444444444444, \"#bd3786\"], [0.5555555555555556, \"#d8576b\"], [0.6666666666666666, \"#ed7953\"], [0.7777777777777778, \"#fb9f3a\"], [0.8888888888888888, \"#fdca26\"], [1.0, \"#f0f921\"]], \"type\": \"histogram2d\"}], \"histogram2dcontour\": [{\"colorbar\": {\"outlinewidth\": 0, \"ticks\": \"\"}, \"colorscale\": [[0.0, \"#0d0887\"], [0.1111111111111111, \"#46039f\"], [0.2222222222222222, \"#7201a8\"], [0.3333333333333333, \"#9c179e\"], [0.4444444444444444, \"#bd3786\"], [0.5555555555555556, \"#d8576b\"], [0.6666666666666666, \"#ed7953\"], [0.7777777777777778, \"#fb9f3a\"], [0.8888888888888888, \"#fdca26\"], [1.0, \"#f0f921\"]], \"type\": \"histogram2dcontour\"}], \"mesh3d\": [{\"colorbar\": {\"outlinewidth\": 0, \"ticks\": \"\"}, \"type\": \"mesh3d\"}], \"parcoords\": [{\"line\": {\"colorbar\": {\"outlinewidth\": 0, \"ticks\": \"\"}}, \"type\": \"parcoords\"}], \"pie\": [{\"automargin\": true, \"type\": \"pie\"}], \"scatter\": [{\"marker\": {\"colorbar\": {\"outlinewidth\": 0, \"ticks\": \"\"}}, \"type\": \"scatter\"}], \"scatter3d\": [{\"line\": {\"colorbar\": {\"outlinewidth\": 0, \"ticks\": \"\"}}, \"marker\": {\"colorbar\": {\"outlinewidth\": 0, \"ticks\": \"\"}}, \"type\": \"scatter3d\"}], \"scattercarpet\": [{\"marker\": {\"colorbar\": {\"outlinewidth\": 0, \"ticks\": \"\"}}, \"type\": \"scattercarpet\"}], \"scattergeo\": [{\"marker\": {\"colorbar\": {\"outlinewidth\": 0, \"ticks\": \"\"}}, \"type\": \"scattergeo\"}], \"scattergl\": [{\"marker\": {\"colorbar\": {\"outlinewidth\": 0, \"ticks\": \"\"}}, \"type\": \"scattergl\"}], \"scattermapbox\": [{\"marker\": {\"colorbar\": {\"outlinewidth\": 0, \"ticks\": \"\"}}, \"type\": \"scattermapbox\"}], \"scatterpolar\": [{\"marker\": {\"colorbar\": {\"outlinewidth\": 0, \"ticks\": \"\"}}, \"type\": \"scatterpolar\"}], \"scatterpolargl\": [{\"marker\": {\"colorbar\": {\"outlinewidth\": 0, \"ticks\": \"\"}}, \"type\": \"scatterpolargl\"}], \"scatterternary\": [{\"marker\": {\"colorbar\": {\"outlinewidth\": 0, \"ticks\": \"\"}}, \"type\": \"scatterternary\"}], \"surface\": [{\"colorbar\": {\"outlinewidth\": 0, \"ticks\": \"\"}, \"colorscale\": [[0.0, \"#0d0887\"], [0.1111111111111111, \"#46039f\"], [0.2222222222222222, \"#7201a8\"], [0.3333333333333333, \"#9c179e\"], [0.4444444444444444, \"#bd3786\"], [0.5555555555555556, \"#d8576b\"], [0.6666666666666666, \"#ed7953\"], [0.7777777777777778, \"#fb9f3a\"], [0.8888888888888888, \"#fdca26\"], [1.0, \"#f0f921\"]], \"type\": \"surface\"}], \"table\": [{\"cells\": {\"fill\": {\"color\": \"#EBF0F8\"}, \"line\": {\"color\": \"white\"}}, \"header\": {\"fill\": {\"color\": \"#C8D4E3\"}, \"line\": {\"color\": \"white\"}}, \"type\": \"table\"}]}, \"layout\": {\"annotationdefaults\": {\"arrowcolor\": \"#2a3f5f\", \"arrowhead\": 0, \"arrowwidth\": 1}, \"coloraxis\": {\"colorbar\": {\"outlinewidth\": 0, \"ticks\": \"\"}}, \"colorscale\": {\"diverging\": [[0, \"#8e0152\"], [0.1, \"#c51b7d\"], [0.2, \"#de77ae\"], [0.3, \"#f1b6da\"], [0.4, \"#fde0ef\"], [0.5, \"#f7f7f7\"], [0.6, \"#e6f5d0\"], [0.7, \"#b8e186\"], [0.8, \"#7fbc41\"], [0.9, \"#4d9221\"], [1, \"#276419\"]], \"sequential\": [[0.0, \"#0d0887\"], [0.1111111111111111, \"#46039f\"], [0.2222222222222222, \"#7201a8\"], [0.3333333333333333, \"#9c179e\"], [0.4444444444444444, \"#bd3786\"], [0.5555555555555556, \"#d8576b\"], [0.6666666666666666, \"#ed7953\"], [0.7777777777777778, \"#fb9f3a\"], [0.8888888888888888, \"#fdca26\"], [1.0, \"#f0f921\"]], \"sequentialminus\": [[0.0, \"#0d0887\"], [0.1111111111111111, \"#46039f\"], [0.2222222222222222, \"#7201a8\"], [0.3333333333333333, \"#9c179e\"], [0.4444444444444444, \"#bd3786\"], [0.5555555555555556, \"#d8576b\"], [0.6666666666666666, \"#ed7953\"], [0.7777777777777778, \"#fb9f3a\"], [0.8888888888888888, \"#fdca26\"], [1.0, \"#f0f921\"]]}, \"colorway\": [\"#636efa\", \"#EF553B\", \"#00cc96\", \"#ab63fa\", \"#FFA15A\", \"#19d3f3\", \"#FF6692\", \"#B6E880\", \"#FF97FF\", \"#FECB52\"], \"font\": {\"color\": \"#2a3f5f\"}, \"geo\": {\"bgcolor\": \"white\", \"lakecolor\": \"white\", \"landcolor\": \"#E5ECF6\", \"showlakes\": true, \"showland\": true, \"subunitcolor\": \"white\"}, \"hoverlabel\": {\"align\": \"left\"}, \"hovermode\": \"closest\", \"mapbox\": {\"style\": \"light\"}, \"paper_bgcolor\": \"white\", \"plot_bgcolor\": \"#E5ECF6\", \"polar\": {\"angularaxis\": {\"gridcolor\": \"white\", \"linecolor\": \"white\", \"ticks\": \"\"}, \"bgcolor\": \"#E5ECF6\", \"radialaxis\": {\"gridcolor\": \"white\", \"linecolor\": \"white\", \"ticks\": \"\"}}, \"scene\": {\"xaxis\": {\"backgroundcolor\": \"#E5ECF6\", \"gridcolor\": \"white\", \"gridwidth\": 2, \"linecolor\": \"white\", \"showbackground\": true, \"ticks\": \"\", \"zerolinecolor\": \"white\"}, \"yaxis\": {\"backgroundcolor\": \"#E5ECF6\", \"gridcolor\": \"white\", \"gridwidth\": 2, \"linecolor\": \"white\", \"showbackground\": true, \"ticks\": \"\", \"zerolinecolor\": \"white\"}, \"zaxis\": {\"backgroundcolor\": \"#E5ECF6\", \"gridcolor\": \"white\", \"gridwidth\": 2, \"linecolor\": \"white\", \"showbackground\": true, \"ticks\": \"\", \"zerolinecolor\": \"white\"}}, \"shapedefaults\": {\"line\": {\"color\": \"#2a3f5f\"}}, \"ternary\": {\"aaxis\": {\"gridcolor\": \"white\", \"linecolor\": \"white\", \"ticks\": \"\"}, \"baxis\": {\"gridcolor\": \"white\", \"linecolor\": \"white\", \"ticks\": \"\"}, \"bgcolor\": \"#E5ECF6\", \"caxis\": {\"gridcolor\": \"white\", \"linecolor\": \"white\", \"ticks\": \"\"}}, \"title\": {\"x\": 0.05}, \"xaxis\": {\"automargin\": true, \"gridcolor\": \"white\", \"linecolor\": \"white\", \"ticks\": \"\", \"title\": {\"standoff\": 15}, \"zerolinecolor\": \"white\", \"zerolinewidth\": 2}, \"yaxis\": {\"automargin\": true, \"gridcolor\": \"white\", \"linecolor\": \"white\", \"ticks\": \"\", \"title\": {\"standoff\": 15}, \"zerolinecolor\": \"white\", \"zerolinewidth\": 2}}}, \"title\": {\"text\": \"<b>Average number of weekly hours worked per employee in a selection of countries from 1950 to 2020</b><br><i>Source : OECD</i>\"}, \"yaxis\": {\"title\": {\"text\": \"Hours worked per week\"}}},\n",
       "                        {\"responsive\": true}\n",
       "                    ).then(function(){\n",
       "                            \n",
       "var gd = document.getElementById('4ea381ee-c638-4791-b04a-77a473a29e3a');\n",
       "var x = new MutationObserver(function (mutations, observer) {{\n",
       "        var display = window.getComputedStyle(gd).display;\n",
       "        if (!display || display === 'none') {{\n",
       "            console.log([gd, 'removed!']);\n",
       "            Plotly.purge(gd);\n",
       "            observer.disconnect();\n",
       "        }}\n",
       "}});\n",
       "\n",
       "// Listen for the removal of the full notebook cells\n",
       "var notebookContainer = gd.closest('#notebook-container');\n",
       "if (notebookContainer) {{\n",
       "    x.observe(notebookContainer, {childList: true});\n",
       "}}\n",
       "\n",
       "// Listen for the clearing of the current output cell\n",
       "var outputEl = gd.closest('.output');\n",
       "if (outputEl) {{\n",
       "    x.observe(outputEl, {childList: true});\n",
       "}}\n",
       "\n",
       "                        })\n",
       "                };\n",
       "                });\n",
       "            </script>\n",
       "        </div>"
      ]
     },
     "metadata": {},
     "output_type": "display_data"
    }
   ],
   "source": [
    "fig_scatter = go.Figure(data=[\n",
    "    go.Scatter(\n",
    "        name='United States',\n",
    "        x=df_hours_worked_us['TIME'], \n",
    "        y=df_hours_worked_us['Value'],\n",
    "        marker_color=df_hours_worked_us['Value'],\n",
    "        text=df_hours_worked_us['Country']\n",
    "    ),\n",
    "    \n",
    "    go.Scatter(\n",
    "        name='France',\n",
    "        x=df_hours_worked_fr['TIME'], \n",
    "        y=df_hours_worked_fr['Value'], \n",
    "        marker_color=df_hours_worked_fr['Value'], \n",
    "        text=df_hours_worked_fr['Country']\n",
    "    ),\n",
    "    \n",
    "    go.Scatter(\n",
    "        name='Canada',\n",
    "        x=df_hours_worked_ca['TIME'], \n",
    "        y=df_hours_worked_ca['Value'], \n",
    "        marker_color=df_hours_worked_ca['Value'], \n",
    "        text=df_hours_worked_ca['Country']\n",
    "    ),\n",
    "    \n",
    "    go.Scatter(\n",
    "        name='United Kingdom',\n",
    "        x=df_hours_worked_uk['TIME'], \n",
    "        y=df_hours_worked_uk['Value'], \n",
    "        marker_color=df_hours_worked_uk['Value'], \n",
    "        text=df_hours_worked_uk['Country']\n",
    "    ),   \n",
    "    \n",
    "    go.Scatter(\n",
    "        name='Germany',\n",
    "        x=df_hours_worked_de['TIME'], \n",
    "        y=df_hours_worked_de['Value'], \n",
    "        marker_color=df_hours_worked_de['Value'], \n",
    "        text=df_hours_worked_de['Country']\n",
    "    ), \n",
    "    \n",
    "    go.Scatter(\n",
    "        name='Italy',\n",
    "        x=df_hours_worked_it['TIME'], \n",
    "        y=df_hours_worked_it['Value'], \n",
    "        marker_color=df_hours_worked_it['Value'], \n",
    "        text=df_hours_worked_it['Country']\n",
    "    ),\n",
    "    \n",
    "    go.Scatter(\n",
    "        name='Japan',\n",
    "        x=df_hours_worked_jp['TIME'], \n",
    "        y=df_hours_worked_jp['Value'], \n",
    "        marker_color=df_hours_worked_jp['Value'], \n",
    "        text=df_hours_worked_jp['Country']\n",
    "    ),\n",
    "])\n",
    "\n",
    "\n",
    "#Style\n",
    "fig_scatter.update_layout(\n",
    "    title='<b>Average number of weekly hours worked per employee in a selection of countries from 1950 to 2020</b><br>' + \n",
    "    '<i>Source : OECD</i>',\n",
    "    font=dict(\n",
    "        family='Helvetica',\n",
    "        size=12,\n",
    "        color='grey'\n",
    "    ),\n",
    "    legend=dict(\n",
    "        x=0.845,\n",
    "        y=1,\n",
    "        bgcolor='rgba(255, 255, 255, 0)',\n",
    "        bordercolor='rgba(255, 255, 255, 0)'\n",
    "    ),\n",
    "    yaxis=dict(\n",
    "        title='Hours worked per week'\n",
    "    )\n",
    ")\n",
    "\n",
    "fig_scatter.show()"
   ]
  },
  {
   "cell_type": "markdown",
   "metadata": {},
   "source": [
    "## Limitations of the dataset"
   ]
  },
  {
   "cell_type": "markdown",
   "metadata": {},
   "source": [
    "The data presented are only intended to make comparisons of trends over time. Indeed, due to the disparity of sources and calculation methods specific to each country, it is not possible to compare the average volumes of hours worked for a given year. For example, some countries like the United States or Japan do not have any law clearly defining the limit of weekly working hours and overtime."
   ]
  },
  {
   "cell_type": "markdown",
   "metadata": {},
   "source": [
    "<hr>"
   ]
  },
  {
   "cell_type": "markdown",
   "metadata": {},
   "source": [
    "## Sources"
   ]
  },
  {
   "cell_type": "markdown",
   "metadata": {},
   "source": [
    "OCDE.Stat data : \n",
    "* [Hours worked indicator](https://stats.oecd.org/Index.aspx?DataSetCode=ANHRS) : \n",
    "OECD (2021), Hours worked (indicator). doi: 10.1787/47be1c78-en (Accessed on 17 October 2021)"
   ]
  }
 ],
 "metadata": {
  "kernelspec": {
   "display_name": "Python 3",
   "language": "python",
   "name": "python3"
  },
  "language_info": {
   "codemirror_mode": {
    "name": "ipython",
    "version": 3
   },
   "file_extension": ".py",
   "mimetype": "text/x-python",
   "name": "python",
   "nbconvert_exporter": "python",
   "pygments_lexer": "ipython3",
   "version": "3.8.5"
  }
 },
 "nbformat": 4,
 "nbformat_minor": 4
}
