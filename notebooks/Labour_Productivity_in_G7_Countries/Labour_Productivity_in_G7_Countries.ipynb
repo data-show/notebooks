{
 "cells": [
  {
   "cell_type": "markdown",
   "metadata": {},
   "source": [
    "# Labour productivity in G7 countries"
   ]
  },
  {
   "cell_type": "markdown",
   "metadata": {},
   "source": [
    "<hr>"
   ]
  },
  {
   "cell_type": "markdown",
   "metadata": {},
   "source": [
    "According to OECD, gross domestic product (GDP) is the standard measure of the value added created through the production of goods and services in a country during a certain period. \n",
    "\n",
    "GDP per hour worked measures the productivity of labor, and the efficiency with which labor input and other factors of production are used in the production process. The labor factor is the total number of hours worked by all the individuals involved in production.\n",
    "\n",
    "What is the evolution of labour productivity for G7 countries over the years ?"
   ]
  },
  {
   "cell_type": "markdown",
   "metadata": {},
   "source": [
    "## Import required libraries"
   ]
  },
  {
   "cell_type": "code",
   "execution_count": 1,
   "metadata": {},
   "outputs": [],
   "source": [
    "import pandas as pd\n",
    "import numpy as np\n",
    "import plotly.express as px\n",
    "import plotly.io as pio\n",
    "import plotly.graph_objects as go\n",
    "from IPython.display import Javascript\n",
    "from plotly.subplots import make_subplots\n",
    "\n",
    "Javascript(\n",
    "\"\"\"require.config({\n",
    " paths: { \n",
    "     plotly: 'https://cdn.plot.ly/plotly-latest.min'\n",
    " }\n",
    "});\"\"\"\n",
    ")\n",
    "\n",
    "pio.renderers.default = 'notebook_connected'"
   ]
  },
  {
   "cell_type": "markdown",
   "metadata": {},
   "source": [
    "## Data pre-processing"
   ]
  },
  {
   "cell_type": "code",
   "execution_count": 2,
   "metadata": {},
   "outputs": [
    {
     "data": {
      "text/html": [
       "<div>\n",
       "<style scoped>\n",
       "    .dataframe tbody tr th:only-of-type {\n",
       "        vertical-align: middle;\n",
       "    }\n",
       "\n",
       "    .dataframe tbody tr th {\n",
       "        vertical-align: top;\n",
       "    }\n",
       "\n",
       "    .dataframe thead th {\n",
       "        text-align: right;\n",
       "    }\n",
       "</style>\n",
       "<table border=\"1\" class=\"dataframe\">\n",
       "  <thead>\n",
       "    <tr style=\"text-align: right;\">\n",
       "      <th></th>\n",
       "      <th>LOCATION</th>\n",
       "      <th>Country</th>\n",
       "      <th>TIME</th>\n",
       "      <th>Value</th>\n",
       "    </tr>\n",
       "  </thead>\n",
       "  <tbody>\n",
       "    <tr>\n",
       "      <th>580</th>\n",
       "      <td>IRL</td>\n",
       "      <td>Ireland</td>\n",
       "      <td>2020</td>\n",
       "      <td>121.751868</td>\n",
       "    </tr>\n",
       "    <tr>\n",
       "      <th>784</th>\n",
       "      <td>LUX</td>\n",
       "      <td>Luxembourg</td>\n",
       "      <td>2020</td>\n",
       "      <td>111.758087</td>\n",
       "    </tr>\n",
       "    <tr>\n",
       "      <th>579</th>\n",
       "      <td>IRL</td>\n",
       "      <td>Ireland</td>\n",
       "      <td>2019</td>\n",
       "      <td>109.617670</td>\n",
       "    </tr>\n",
       "    <tr>\n",
       "      <th>783</th>\n",
       "      <td>LUX</td>\n",
       "      <td>Luxembourg</td>\n",
       "      <td>2019</td>\n",
       "      <td>106.010826</td>\n",
       "    </tr>\n",
       "    <tr>\n",
       "      <th>782</th>\n",
       "      <td>LUX</td>\n",
       "      <td>Luxembourg</td>\n",
       "      <td>2018</td>\n",
       "      <td>105.443137</td>\n",
       "    </tr>\n",
       "  </tbody>\n",
       "</table>\n",
       "</div>"
      ],
      "text/plain": [
       "    LOCATION     Country  TIME       Value\n",
       "580      IRL     Ireland  2020  121.751868\n",
       "784      LUX  Luxembourg  2020  111.758087\n",
       "579      IRL     Ireland  2019  109.617670\n",
       "783      LUX  Luxembourg  2019  106.010826\n",
       "782      LUX  Luxembourg  2018  105.443137"
      ]
     },
     "execution_count": 2,
     "metadata": {},
     "output_type": "execute_result"
    }
   ],
   "source": [
    "df_gdp_hour_worked = pd.read_csv('Data/GDP_per_hour_worked_indicator.csv', \n",
    "                              sep=',', \n",
    "                              usecols=['LOCATION', 'Country', 'TIME', 'Value'],\n",
    "                              parse_dates=True\n",
    "                             )\n",
    "\n",
    "df_gdp_hour_worked = df_gdp_hour_worked.sort_values('Value', ascending=False)\n",
    "\n",
    "df_gdp_hour_worked = df_gdp_hour_worked.drop(df_gdp_hour_worked[df_gdp_hour_worked['LOCATION']=='EU27_2020'].index)\n",
    "\n",
    "df_gdp_hour_worked.head()"
   ]
  },
  {
   "cell_type": "markdown",
   "metadata": {},
   "source": [
    "## Plotting"
   ]
  },
  {
   "cell_type": "markdown",
   "metadata": {},
   "source": [
    "### Bar plot"
   ]
  },
  {
   "cell_type": "code",
   "execution_count": 3,
   "metadata": {},
   "outputs": [
    {
     "data": {
      "text/html": [
       "        <script type=\"text/javascript\">\n",
       "        window.PlotlyConfig = {MathJaxConfig: 'local'};\n",
       "        if (window.MathJax) {MathJax.Hub.Config({SVG: {font: \"STIX-Web\"}});}\n",
       "        if (typeof require !== 'undefined') {\n",
       "        require.undef(\"plotly\");\n",
       "        requirejs.config({\n",
       "            paths: {\n",
       "                'plotly': ['https://cdn.plot.ly/plotly-latest.min']\n",
       "            }\n",
       "        });\n",
       "        require(['plotly'], function(Plotly) {\n",
       "            window._Plotly = Plotly;\n",
       "        });\n",
       "        }\n",
       "        </script>\n",
       "        "
      ]
     },
     "metadata": {},
     "output_type": "display_data"
    },
    {
     "data": {
      "text/html": [
       "<div>\n",
       "        \n",
       "        \n",
       "            <div id=\"d1503e46-8b32-43e1-977f-4cb4036acd87\" class=\"plotly-graph-div\" style=\"height:525px; width:100%;\"></div>\n",
       "            <script type=\"text/javascript\">\n",
       "                require([\"plotly\"], function(Plotly) {\n",
       "                    window.PLOTLYENV=window.PLOTLYENV || {};\n",
       "                    \n",
       "                if (document.getElementById(\"d1503e46-8b32-43e1-977f-4cb4036acd87\")) {\n",
       "                    Plotly.newPlot(\n",
       "                        'd1503e46-8b32-43e1-977f-4cb4036acd87',\n",
       "                        [{\"alignmentgroup\": \"True\", \"hovertemplate\": \"<b>%{hovertext}</b><br><br>=%{x}<br>GDP ($/hour worked)=%{marker.color}<extra></extra>\", \"hovertext\": [\"Ireland\", \"Luxembourg\", \"Norway\", \"Denmark\", \"Belgium\", \"Switzerland\", \"United States\", \"Austria\", \"France\", \"Sweden\", \"Netherlands\", \"Germany\", \"Iceland\", \"G7\", \"Finland\", \"United Kingdom\", \"Euro area (19 countries)\", \"Italy\", \"Canada\", \"Australia\", \"OECD - Total\", \"Spain\", \"Slovenia\", \"Israel\", \"Lithuania\", \"Czech Republic\", \"Japan\", \"Estonia\", \"Turkey\", \"New Zealand\", \"Slovak Republic\", \"Poland\", \"Portugal\", \"Latvia\", \"Korea\", \"Hungary\", \"Romania\", \"Greece\", \"Croatia\", \"Chile\", \"Russia\", \"Bulgaria\", \"Costa Rica\", \"Mexico\", \"Colombia\"], \"legendgroup\": \"\", \"marker\": {\"color\": [121.75186799999999, 111.75808700000002, 88.77551700000001, 88.21475799999999, 86.130049, 81.46320300000001, 80.53968499999999, 79.378776, 79.18905699999999, 78.88005799999999, 77.071999, 75.97421, 72.821478, 71.40336500000001, 70.11976899999999, 69.321845, 68.936683, 64.237347, 63.101243000000004, 60.488755000000005, 59.28049300000001, 59.237048, 52.83695, 52.391764, 50.242317, 49.451215999999995, 49.366014, 48.591349, 48.441384, 47.80395, 46.340036, 45.14798, 44.806324, 44.019542, 43.78063, 43.137312, 40.483006, 37.9804, 37.685876, 35.210225, 31.238584999999997, 30.472265999999998, 29.231875, 22.430256, 19.017704000000002], \"coloraxis\": \"coloraxis\"}, \"name\": \"\", \"offsetgroup\": \"\", \"orientation\": \"v\", \"showlegend\": false, \"textposition\": \"auto\", \"type\": \"bar\", \"x\": [\"Ireland\", \"Luxembourg\", \"Norway\", \"Denmark\", \"Belgium\", \"Switzerland\", \"United States\", \"Austria\", \"France\", \"Sweden\", \"Netherlands\", \"Germany\", \"Iceland\", \"G7\", \"Finland\", \"United Kingdom\", \"Euro area (19 countries)\", \"Italy\", \"Canada\", \"Australia\", \"OECD - Total\", \"Spain\", \"Slovenia\", \"Israel\", \"Lithuania\", \"Czech Republic\", \"Japan\", \"Estonia\", \"Turkey\", \"New Zealand\", \"Slovak Republic\", \"Poland\", \"Portugal\", \"Latvia\", \"Korea\", \"Hungary\", \"Romania\", \"Greece\", \"Croatia\", \"Chile\", \"Russia\", \"Bulgaria\", \"Costa Rica\", \"Mexico\", \"Colombia\"], \"xaxis\": \"x\", \"y\": [121.75186799999999, 111.75808700000002, 88.77551700000001, 88.21475799999999, 86.130049, 81.46320300000001, 80.53968499999999, 79.378776, 79.18905699999999, 78.88005799999999, 77.071999, 75.97421, 72.821478, 71.40336500000001, 70.11976899999999, 69.321845, 68.936683, 64.237347, 63.101243000000004, 60.488755000000005, 59.28049300000001, 59.237048, 52.83695, 52.391764, 50.242317, 49.451215999999995, 49.366014, 48.591349, 48.441384, 47.80395, 46.340036, 45.14798, 44.806324, 44.019542, 43.78063, 43.137312, 40.483006, 37.9804, 37.685876, 35.210225, 31.238584999999997, 30.472265999999998, 29.231875, 22.430256, 19.017704000000002], \"yaxis\": \"y\"}],\n",
       "                        {\"barmode\": \"relative\", \"coloraxis\": {\"colorbar\": {\"title\": {\"text\": \"GDP ($/hour worked)\"}}, \"colorscale\": [[0.0, \"rgb(243, 203, 211)\"], [0.16666666666666666, \"rgb(234, 169, 189)\"], [0.3333333333333333, \"rgb(221, 136, 172)\"], [0.5, \"rgb(202, 105, 157)\"], [0.6666666666666666, \"rgb(177, 77, 142)\"], [0.8333333333333334, \"rgb(145, 53, 125)\"], [1.0, \"rgb(108, 33, 103)\"]], \"showscale\": false}, \"font\": {\"color\": \"grey\", \"family\": \"Helvetica\", \"size\": 12}, \"legend\": {\"tracegroupgap\": 0}, \"template\": {\"data\": {\"bar\": [{\"error_x\": {\"color\": \"#2a3f5f\"}, \"error_y\": {\"color\": \"#2a3f5f\"}, \"marker\": {\"line\": {\"color\": \"#E5ECF6\", \"width\": 0.5}}, \"type\": \"bar\"}], \"barpolar\": [{\"marker\": {\"line\": {\"color\": \"#E5ECF6\", \"width\": 0.5}}, \"type\": \"barpolar\"}], \"carpet\": [{\"aaxis\": {\"endlinecolor\": \"#2a3f5f\", \"gridcolor\": \"white\", \"linecolor\": \"white\", \"minorgridcolor\": \"white\", \"startlinecolor\": \"#2a3f5f\"}, \"baxis\": {\"endlinecolor\": \"#2a3f5f\", \"gridcolor\": \"white\", \"linecolor\": \"white\", \"minorgridcolor\": \"white\", \"startlinecolor\": \"#2a3f5f\"}, \"type\": \"carpet\"}], \"choropleth\": [{\"colorbar\": {\"outlinewidth\": 0, \"ticks\": \"\"}, \"type\": \"choropleth\"}], \"contour\": [{\"colorbar\": {\"outlinewidth\": 0, \"ticks\": \"\"}, \"colorscale\": [[0.0, \"#0d0887\"], [0.1111111111111111, \"#46039f\"], [0.2222222222222222, \"#7201a8\"], [0.3333333333333333, \"#9c179e\"], [0.4444444444444444, \"#bd3786\"], [0.5555555555555556, \"#d8576b\"], [0.6666666666666666, \"#ed7953\"], [0.7777777777777778, \"#fb9f3a\"], [0.8888888888888888, \"#fdca26\"], [1.0, \"#f0f921\"]], \"type\": \"contour\"}], \"contourcarpet\": [{\"colorbar\": {\"outlinewidth\": 0, \"ticks\": \"\"}, \"type\": \"contourcarpet\"}], \"heatmap\": [{\"colorbar\": {\"outlinewidth\": 0, \"ticks\": \"\"}, \"colorscale\": [[0.0, \"#0d0887\"], [0.1111111111111111, \"#46039f\"], [0.2222222222222222, \"#7201a8\"], [0.3333333333333333, \"#9c179e\"], [0.4444444444444444, \"#bd3786\"], [0.5555555555555556, \"#d8576b\"], [0.6666666666666666, \"#ed7953\"], [0.7777777777777778, \"#fb9f3a\"], [0.8888888888888888, \"#fdca26\"], [1.0, \"#f0f921\"]], \"type\": \"heatmap\"}], \"heatmapgl\": [{\"colorbar\": {\"outlinewidth\": 0, \"ticks\": \"\"}, \"colorscale\": [[0.0, \"#0d0887\"], [0.1111111111111111, \"#46039f\"], [0.2222222222222222, \"#7201a8\"], [0.3333333333333333, \"#9c179e\"], [0.4444444444444444, \"#bd3786\"], [0.5555555555555556, \"#d8576b\"], [0.6666666666666666, \"#ed7953\"], [0.7777777777777778, \"#fb9f3a\"], [0.8888888888888888, \"#fdca26\"], [1.0, \"#f0f921\"]], \"type\": \"heatmapgl\"}], \"histogram\": [{\"marker\": {\"colorbar\": {\"outlinewidth\": 0, \"ticks\": \"\"}}, \"type\": \"histogram\"}], \"histogram2d\": [{\"colorbar\": {\"outlinewidth\": 0, \"ticks\": \"\"}, \"colorscale\": [[0.0, \"#0d0887\"], [0.1111111111111111, \"#46039f\"], [0.2222222222222222, \"#7201a8\"], [0.3333333333333333, \"#9c179e\"], [0.4444444444444444, \"#bd3786\"], [0.5555555555555556, \"#d8576b\"], [0.6666666666666666, \"#ed7953\"], [0.7777777777777778, \"#fb9f3a\"], [0.8888888888888888, \"#fdca26\"], [1.0, \"#f0f921\"]], \"type\": \"histogram2d\"}], \"histogram2dcontour\": [{\"colorbar\": {\"outlinewidth\": 0, \"ticks\": \"\"}, \"colorscale\": [[0.0, \"#0d0887\"], [0.1111111111111111, \"#46039f\"], [0.2222222222222222, \"#7201a8\"], [0.3333333333333333, \"#9c179e\"], [0.4444444444444444, \"#bd3786\"], [0.5555555555555556, \"#d8576b\"], [0.6666666666666666, \"#ed7953\"], [0.7777777777777778, \"#fb9f3a\"], [0.8888888888888888, \"#fdca26\"], [1.0, \"#f0f921\"]], \"type\": \"histogram2dcontour\"}], \"mesh3d\": [{\"colorbar\": {\"outlinewidth\": 0, \"ticks\": \"\"}, \"type\": \"mesh3d\"}], \"parcoords\": [{\"line\": {\"colorbar\": {\"outlinewidth\": 0, \"ticks\": \"\"}}, \"type\": \"parcoords\"}], \"pie\": [{\"automargin\": true, \"type\": \"pie\"}], \"scatter\": [{\"marker\": {\"colorbar\": {\"outlinewidth\": 0, \"ticks\": \"\"}}, \"type\": \"scatter\"}], \"scatter3d\": [{\"line\": {\"colorbar\": {\"outlinewidth\": 0, \"ticks\": \"\"}}, \"marker\": {\"colorbar\": {\"outlinewidth\": 0, \"ticks\": \"\"}}, \"type\": \"scatter3d\"}], \"scattercarpet\": [{\"marker\": {\"colorbar\": {\"outlinewidth\": 0, \"ticks\": \"\"}}, \"type\": \"scattercarpet\"}], \"scattergeo\": [{\"marker\": {\"colorbar\": {\"outlinewidth\": 0, \"ticks\": \"\"}}, \"type\": \"scattergeo\"}], \"scattergl\": [{\"marker\": {\"colorbar\": {\"outlinewidth\": 0, \"ticks\": \"\"}}, \"type\": \"scattergl\"}], \"scattermapbox\": [{\"marker\": {\"colorbar\": {\"outlinewidth\": 0, \"ticks\": \"\"}}, \"type\": \"scattermapbox\"}], \"scatterpolar\": [{\"marker\": {\"colorbar\": {\"outlinewidth\": 0, \"ticks\": \"\"}}, \"type\": \"scatterpolar\"}], \"scatterpolargl\": [{\"marker\": {\"colorbar\": {\"outlinewidth\": 0, \"ticks\": \"\"}}, \"type\": \"scatterpolargl\"}], \"scatterternary\": [{\"marker\": {\"colorbar\": {\"outlinewidth\": 0, \"ticks\": \"\"}}, \"type\": \"scatterternary\"}], \"surface\": [{\"colorbar\": {\"outlinewidth\": 0, \"ticks\": \"\"}, \"colorscale\": [[0.0, \"#0d0887\"], [0.1111111111111111, \"#46039f\"], [0.2222222222222222, \"#7201a8\"], [0.3333333333333333, \"#9c179e\"], [0.4444444444444444, \"#bd3786\"], [0.5555555555555556, \"#d8576b\"], [0.6666666666666666, \"#ed7953\"], [0.7777777777777778, \"#fb9f3a\"], [0.8888888888888888, \"#fdca26\"], [1.0, \"#f0f921\"]], \"type\": \"surface\"}], \"table\": [{\"cells\": {\"fill\": {\"color\": \"#EBF0F8\"}, \"line\": {\"color\": \"white\"}}, \"header\": {\"fill\": {\"color\": \"#C8D4E3\"}, \"line\": {\"color\": \"white\"}}, \"type\": \"table\"}]}, \"layout\": {\"annotationdefaults\": {\"arrowcolor\": \"#2a3f5f\", \"arrowhead\": 0, \"arrowwidth\": 1}, \"coloraxis\": {\"colorbar\": {\"outlinewidth\": 0, \"ticks\": \"\"}}, \"colorscale\": {\"diverging\": [[0, \"#8e0152\"], [0.1, \"#c51b7d\"], [0.2, \"#de77ae\"], [0.3, \"#f1b6da\"], [0.4, \"#fde0ef\"], [0.5, \"#f7f7f7\"], [0.6, \"#e6f5d0\"], [0.7, \"#b8e186\"], [0.8, \"#7fbc41\"], [0.9, \"#4d9221\"], [1, \"#276419\"]], \"sequential\": [[0.0, \"#0d0887\"], [0.1111111111111111, \"#46039f\"], [0.2222222222222222, \"#7201a8\"], [0.3333333333333333, \"#9c179e\"], [0.4444444444444444, \"#bd3786\"], [0.5555555555555556, \"#d8576b\"], [0.6666666666666666, \"#ed7953\"], [0.7777777777777778, \"#fb9f3a\"], [0.8888888888888888, \"#fdca26\"], [1.0, \"#f0f921\"]], \"sequentialminus\": [[0.0, \"#0d0887\"], [0.1111111111111111, \"#46039f\"], [0.2222222222222222, \"#7201a8\"], [0.3333333333333333, \"#9c179e\"], [0.4444444444444444, \"#bd3786\"], [0.5555555555555556, \"#d8576b\"], [0.6666666666666666, \"#ed7953\"], [0.7777777777777778, \"#fb9f3a\"], [0.8888888888888888, \"#fdca26\"], [1.0, \"#f0f921\"]]}, \"colorway\": [\"#636efa\", \"#EF553B\", \"#00cc96\", \"#ab63fa\", \"#FFA15A\", \"#19d3f3\", \"#FF6692\", \"#B6E880\", \"#FF97FF\", \"#FECB52\"], \"font\": {\"color\": \"#2a3f5f\"}, \"geo\": {\"bgcolor\": \"white\", \"lakecolor\": \"white\", \"landcolor\": \"#E5ECF6\", \"showlakes\": true, \"showland\": true, \"subunitcolor\": \"white\"}, \"hoverlabel\": {\"align\": \"left\"}, \"hovermode\": \"closest\", \"mapbox\": {\"style\": \"light\"}, \"paper_bgcolor\": \"white\", \"plot_bgcolor\": \"#E5ECF6\", \"polar\": {\"angularaxis\": {\"gridcolor\": \"white\", \"linecolor\": \"white\", \"ticks\": \"\"}, \"bgcolor\": \"#E5ECF6\", \"radialaxis\": {\"gridcolor\": \"white\", \"linecolor\": \"white\", \"ticks\": \"\"}}, \"scene\": {\"xaxis\": {\"backgroundcolor\": \"#E5ECF6\", \"gridcolor\": \"white\", \"gridwidth\": 2, \"linecolor\": \"white\", \"showbackground\": true, \"ticks\": \"\", \"zerolinecolor\": \"white\"}, \"yaxis\": {\"backgroundcolor\": \"#E5ECF6\", \"gridcolor\": \"white\", \"gridwidth\": 2, \"linecolor\": \"white\", \"showbackground\": true, \"ticks\": \"\", \"zerolinecolor\": \"white\"}, \"zaxis\": {\"backgroundcolor\": \"#E5ECF6\", \"gridcolor\": \"white\", \"gridwidth\": 2, \"linecolor\": \"white\", \"showbackground\": true, \"ticks\": \"\", \"zerolinecolor\": \"white\"}}, \"shapedefaults\": {\"line\": {\"color\": \"#2a3f5f\"}}, \"ternary\": {\"aaxis\": {\"gridcolor\": \"white\", \"linecolor\": \"white\", \"ticks\": \"\"}, \"baxis\": {\"gridcolor\": \"white\", \"linecolor\": \"white\", \"ticks\": \"\"}, \"bgcolor\": \"#E5ECF6\", \"caxis\": {\"gridcolor\": \"white\", \"linecolor\": \"white\", \"ticks\": \"\"}}, \"title\": {\"x\": 0.05}, \"xaxis\": {\"automargin\": true, \"gridcolor\": \"white\", \"linecolor\": \"white\", \"ticks\": \"\", \"title\": {\"standoff\": 15}, \"zerolinecolor\": \"white\", \"zerolinewidth\": 2}, \"yaxis\": {\"automargin\": true, \"gridcolor\": \"white\", \"linecolor\": \"white\", \"ticks\": \"\", \"title\": {\"standoff\": 15}, \"zerolinecolor\": \"white\", \"zerolinewidth\": 2}}}, \"title\": {\"font\": {\"size\": 20}, \"text\": \"<b>Contribution to GDP in USD per person and hour worked in 2020 in a selection of countries</b><br><i>Source : OECD</i>\"}, \"xaxis\": {\"anchor\": \"y\", \"domain\": [0.0, 1.0], \"tickangle\": -45, \"title\": {\"text\": \"\"}}, \"yaxis\": {\"anchor\": \"x\", \"domain\": [0.0, 1.0], \"title\": {\"text\": \"GDP ($/hour worked)\"}}},\n",
       "                        {\"responsive\": true}\n",
       "                    ).then(function(){\n",
       "                            \n",
       "var gd = document.getElementById('d1503e46-8b32-43e1-977f-4cb4036acd87');\n",
       "var x = new MutationObserver(function (mutations, observer) {{\n",
       "        var display = window.getComputedStyle(gd).display;\n",
       "        if (!display || display === 'none') {{\n",
       "            console.log([gd, 'removed!']);\n",
       "            Plotly.purge(gd);\n",
       "            observer.disconnect();\n",
       "        }}\n",
       "}});\n",
       "\n",
       "// Listen for the removal of the full notebook cells\n",
       "var notebookContainer = gd.closest('#notebook-container');\n",
       "if (notebookContainer) {{\n",
       "    x.observe(notebookContainer, {childList: true});\n",
       "}}\n",
       "\n",
       "// Listen for the clearing of the current output cell\n",
       "var outputEl = gd.closest('.output');\n",
       "if (outputEl) {{\n",
       "    x.observe(outputEl, {childList: true});\n",
       "}}\n",
       "\n",
       "                        })\n",
       "                };\n",
       "                });\n",
       "            </script>\n",
       "        </div>"
      ]
     },
     "metadata": {},
     "output_type": "display_data"
    }
   ],
   "source": [
    "fig_bar = px.bar(df_gdp_hour_worked.query(\"TIME==2020\"), \n",
    "             x=\"Country\", \n",
    "             y=\"Value\", \n",
    "             hover_name=\"Country\", \n",
    "             color=\"Value\",\n",
    "             color_continuous_scale=px.colors.sequential.Magenta, \n",
    "             labels={'Value':'GDP ($/hour worked)', 'Country':''}, \n",
    "             title=\"<b>Contribution to GDP in USD per person and hour worked in 2020 in a selection of countries</b><br>\" + \n",
    "             \"<i>Source : OECD</i>\"\n",
    "            )\n",
    "\n",
    "fig_bar.update_coloraxes(showscale=False)\n",
    "\n",
    "# Style\n",
    "fig_bar.update_layout(\n",
    "    font_family='Helvetica',\n",
    "    font_color='grey',\n",
    "    font_size=12,\n",
    "    title_font_size=20,\n",
    "    xaxis_tickangle=-45\n",
    ")\n",
    "\n",
    "fig_bar.show()"
   ]
  },
  {
   "cell_type": "markdown",
   "metadata": {},
   "source": [
    "### Scatter plot"
   ]
  },
  {
   "cell_type": "markdown",
   "metadata": {},
   "source": [
    "Now, let's see the evolution of labour productivity for a selection of countries over the years."
   ]
  },
  {
   "cell_type": "code",
   "execution_count": 4,
   "metadata": {},
   "outputs": [
    {
     "data": {
      "text/html": [
       "<div>\n",
       "<style scoped>\n",
       "    .dataframe tbody tr th:only-of-type {\n",
       "        vertical-align: middle;\n",
       "    }\n",
       "\n",
       "    .dataframe tbody tr th {\n",
       "        vertical-align: top;\n",
       "    }\n",
       "\n",
       "    .dataframe thead th {\n",
       "        text-align: right;\n",
       "    }\n",
       "</style>\n",
       "<table border=\"1\" class=\"dataframe\">\n",
       "  <thead>\n",
       "    <tr style=\"text-align: right;\">\n",
       "      <th></th>\n",
       "      <th>LOCATION</th>\n",
       "      <th>Country</th>\n",
       "      <th>TIME</th>\n",
       "      <th>Value</th>\n",
       "    </tr>\n",
       "  </thead>\n",
       "  <tbody>\n",
       "    <tr>\n",
       "      <th>0</th>\n",
       "      <td>AUS</td>\n",
       "      <td>Australia</td>\n",
       "      <td>1970</td>\n",
       "      <td>5.762347</td>\n",
       "    </tr>\n",
       "    <tr>\n",
       "      <th>77</th>\n",
       "      <td>BEL</td>\n",
       "      <td>Belgium</td>\n",
       "      <td>1970</td>\n",
       "      <td>5.261655</td>\n",
       "    </tr>\n",
       "    <tr>\n",
       "      <th>128</th>\n",
       "      <td>CAN</td>\n",
       "      <td>Canada</td>\n",
       "      <td>1970</td>\n",
       "      <td>6.067352</td>\n",
       "    </tr>\n",
       "    <tr>\n",
       "      <th>1175</th>\n",
       "      <td>CHE</td>\n",
       "      <td>Switzerland</td>\n",
       "      <td>1970</td>\n",
       "      <td>7.462724</td>\n",
       "    </tr>\n",
       "    <tr>\n",
       "      <th>360</th>\n",
       "      <td>DEU</td>\n",
       "      <td>Germany</td>\n",
       "      <td>1970</td>\n",
       "      <td>4.838160</td>\n",
       "    </tr>\n",
       "  </tbody>\n",
       "</table>\n",
       "</div>"
      ],
      "text/plain": [
       "     LOCATION      Country  TIME     Value\n",
       "0         AUS    Australia  1970  5.762347\n",
       "77        BEL      Belgium  1970  5.261655\n",
       "128       CAN       Canada  1970  6.067352\n",
       "1175      CHE  Switzerland  1970  7.462724\n",
       "360       DEU      Germany  1970  4.838160"
      ]
     },
     "execution_count": 4,
     "metadata": {},
     "output_type": "execute_result"
    }
   ],
   "source": [
    "df_gdp_hour_worked_scatter = df_gdp_hour_worked.sort_values(by=['TIME', 'LOCATION'], ascending=True)\n",
    "             \n",
    "df_gdp_hour_worked_scatter.head()"
   ]
  },
  {
   "cell_type": "code",
   "execution_count": 5,
   "metadata": {},
   "outputs": [],
   "source": [
    "df_gdp_hour_worked_us = df_gdp_hour_worked_scatter.query(\"Country == 'United States'\")\n",
    "df_gdp_hour_worked_fr = df_gdp_hour_worked_scatter.query(\"Country == 'France'\")\n",
    "df_gdp_hour_worked_ca = df_gdp_hour_worked_scatter.query(\"Country == 'Canada'\")\n",
    "df_gdp_hour_worked_uk = df_gdp_hour_worked_scatter.query(\"Country == 'United Kingdom'\")\n",
    "df_gdp_hour_worked_de = df_gdp_hour_worked_scatter.query(\"Country == 'Germany'\")\n",
    "df_gdp_hour_worked_it = df_gdp_hour_worked_scatter.query(\"Country == 'Italy'\")\n",
    "df_gdp_hour_worked_jp = df_gdp_hour_worked_scatter.query(\"Country == 'Japan'\")"
   ]
  },
  {
   "cell_type": "code",
   "execution_count": 6,
   "metadata": {},
   "outputs": [
    {
     "data": {
      "text/html": [
       "<div>\n",
       "        \n",
       "        \n",
       "            <div id=\"8b214270-09b2-44fb-8455-a1776864d144\" class=\"plotly-graph-div\" style=\"height:525px; width:100%;\"></div>\n",
       "            <script type=\"text/javascript\">\n",
       "                require([\"plotly\"], function(Plotly) {\n",
       "                    window.PLOTLYENV=window.PLOTLYENV || {};\n",
       "                    \n",
       "                if (document.getElementById(\"8b214270-09b2-44fb-8455-a1776864d144\")) {\n",
       "                    Plotly.newPlot(\n",
       "                        '8b214270-09b2-44fb-8455-a1776864d144',\n",
       "                        [{\"marker\": {\"color\": [6.975312, 7.603742, 8.125367, 8.774053, 9.477322000000001, 10.638668, 11.496086, 12.340659, 13.313295000000002, 14.482412, 15.793814999999999, 17.689293, 18.721842000000002, 19.987497, 21.140304999999998, 22.209910999999998, 23.169708, 23.915192, 25.045013, 26.256165999999997, 27.705455, 29.017633, 30.698458000000002, 31.545765999999997, 32.492335, 33.246658000000004, 34.69706, 35.806991, 37.024639, 38.655498, 40.616972, 42.443160999999996, 44.297078000000006, 46.537262, 49.036882, 51.631183, 53.72828199999999, 55.955048, 57.758624, 59.986605000000004, 62.311994999999996, 63.631076, 65.06611099999999, 66.48678100000001, 67.950909, 69.032836, 69.922358, 71.925514, 74.443326, 76.84891400000001, 80.53968499999999]}, \"name\": \"United States\", \"text\": [\"United States\", \"United States\", \"United States\", \"United States\", \"United States\", \"United States\", \"United States\", \"United States\", \"United States\", \"United States\", \"United States\", \"United States\", \"United States\", \"United States\", \"United States\", \"United States\", \"United States\", \"United States\", \"United States\", \"United States\", \"United States\", \"United States\", \"United States\", \"United States\", \"United States\", \"United States\", \"United States\", \"United States\", \"United States\", \"United States\", \"United States\", \"United States\", \"United States\", \"United States\", \"United States\", \"United States\", \"United States\", \"United States\", \"United States\", \"United States\", \"United States\", \"United States\", \"United States\", \"United States\", \"United States\", \"United States\", \"United States\", \"United States\", \"United States\", \"United States\", \"United States\"], \"type\": \"scatter\", \"x\": [1970, 1971, 1972, 1973, 1974, 1975, 1976, 1977, 1978, 1979, 1980, 1981, 1982, 1983, 1984, 1985, 1986, 1987, 1988, 1989, 1990, 1991, 1992, 1993, 1994, 1995, 1996, 1997, 1998, 1999, 2000, 2001, 2002, 2003, 2004, 2005, 2006, 2007, 2008, 2009, 2010, 2011, 2012, 2013, 2014, 2015, 2016, 2017, 2018, 2019, 2020], \"y\": [6.975312, 7.603742, 8.125367, 8.774053, 9.477322000000001, 10.638668, 11.496086, 12.340659, 13.313295000000002, 14.482412, 15.793814999999999, 17.689293, 18.721842000000002, 19.987497, 21.140304999999998, 22.209910999999998, 23.169708, 23.915192, 25.045013, 26.256165999999997, 27.705455, 29.017633, 30.698458000000002, 31.545765999999997, 32.492335, 33.246658000000004, 34.69706, 35.806991, 37.024639, 38.655498, 40.616972, 42.443160999999996, 44.297078000000006, 46.537262, 49.036882, 51.631183, 53.72828199999999, 55.955048, 57.758624, 59.986605000000004, 62.311994999999996, 63.631076, 65.06611099999999, 66.48678100000001, 67.950909, 69.032836, 69.922358, 71.925514, 74.443326, 76.84891400000001, 80.53968499999999]}, {\"marker\": {\"color\": [4.506396, 4.97021, 5.533722, 6.173985, 7.072706, 7.820578, 8.420589999999999, 9.363264, 10.536925, 11.759592, 13.032544999999999, 14.598951000000001, 16.506188, 17.569957000000002, 18.647637, 20.010529000000002, 20.864245, 21.590945, 23.074413, 24.833679999999998, 26.381218, 27.615088, 28.924229999999998, 29.885061999999998, 31.153037, 32.597164, 33.519094, 34.8719, 36.371771, 37.31621, 39.851449, 42.248792, 44.9171, 44.521837, 45.497487, 47.782854, 51.176784000000005, 52.593463, 53.978784, 54.673915, 56.521487, 58.492883, 59.159131, 62.858230000000006, 64.151481, 65.316731, 68.259811, 70.96740799999999, 73.36149, 77.135807, 79.18905699999999]}, \"name\": \"France\", \"text\": [\"France\", \"France\", \"France\", \"France\", \"France\", \"France\", \"France\", \"France\", \"France\", \"France\", \"France\", \"France\", \"France\", \"France\", \"France\", \"France\", \"France\", \"France\", \"France\", \"France\", \"France\", \"France\", \"France\", \"France\", \"France\", \"France\", \"France\", \"France\", \"France\", \"France\", \"France\", \"France\", \"France\", \"France\", \"France\", \"France\", \"France\", \"France\", \"France\", \"France\", \"France\", \"France\", \"France\", \"France\", \"France\", \"France\", \"France\", \"France\", \"France\", \"France\", \"France\"], \"type\": \"scatter\", \"x\": [1970, 1971, 1972, 1973, 1974, 1975, 1976, 1977, 1978, 1979, 1980, 1981, 1982, 1983, 1984, 1985, 1986, 1987, 1988, 1989, 1990, 1991, 1992, 1993, 1994, 1995, 1996, 1997, 1998, 1999, 2000, 2001, 2002, 2003, 2004, 2005, 2006, 2007, 2008, 2009, 2010, 2011, 2012, 2013, 2014, 2015, 2016, 2017, 2018, 2019, 2020], \"y\": [4.506396, 4.97021, 5.533722, 6.173985, 7.072706, 7.820578, 8.420589999999999, 9.363264, 10.536925, 11.759592, 13.032544999999999, 14.598951000000001, 16.506188, 17.569957000000002, 18.647637, 20.010529000000002, 20.864245, 21.590945, 23.074413, 24.833679999999998, 26.381218, 27.615088, 28.924229999999998, 29.885061999999998, 31.153037, 32.597164, 33.519094, 34.8719, 36.371771, 37.31621, 39.851449, 42.248792, 44.9171, 44.521837, 45.497487, 47.782854, 51.176784000000005, 52.593463, 53.978784, 54.673915, 56.521487, 58.492883, 59.159131, 62.858230000000006, 64.151481, 65.316731, 68.259811, 70.96740799999999, 73.36149, 77.135807, 79.18905699999999]}, {\"marker\": {\"color\": [6.067352, 6.531772, 7.050105, 7.613657000000001, 8.29837, 9.170852, 10.245957, 11.184553999999999, 12.059474, 12.931452, 14.058046, 15.599716, 16.792082, 17.855486, 19.002451, 19.779325, 20.00539, 20.594782000000002, 21.525606, 22.423166000000002, 23.236479, 24.233488, 25.292791, 26.415919, 27.516357, 28.436328999999997, 28.893328999999998, 29.922715999999998, 30.822408000000003, 32.057433, 33.464652, 34.744233, 35.507092, 36.843573, 38.154036, 40.867404, 42.643156, 43.785913, 44.60455, 44.985064, 45.972425, 47.514339, 48.013576, 50.329908, 52.382335, 51.051617, 53.270708, 55.369723, 57.18930600000001, 57.947970999999995, 63.101243000000004]}, \"name\": \"Canada\", \"text\": [\"Canada\", \"Canada\", \"Canada\", \"Canada\", \"Canada\", \"Canada\", \"Canada\", \"Canada\", \"Canada\", \"Canada\", \"Canada\", \"Canada\", \"Canada\", \"Canada\", \"Canada\", \"Canada\", \"Canada\", \"Canada\", \"Canada\", \"Canada\", \"Canada\", \"Canada\", \"Canada\", \"Canada\", \"Canada\", \"Canada\", \"Canada\", \"Canada\", \"Canada\", \"Canada\", \"Canada\", \"Canada\", \"Canada\", \"Canada\", \"Canada\", \"Canada\", \"Canada\", \"Canada\", \"Canada\", \"Canada\", \"Canada\", \"Canada\", \"Canada\", \"Canada\", \"Canada\", \"Canada\", \"Canada\", \"Canada\", \"Canada\", \"Canada\", \"Canada\"], \"type\": \"scatter\", \"x\": [1970, 1971, 1972, 1973, 1974, 1975, 1976, 1977, 1978, 1979, 1980, 1981, 1982, 1983, 1984, 1985, 1986, 1987, 1988, 1989, 1990, 1991, 1992, 1993, 1994, 1995, 1996, 1997, 1998, 1999, 2000, 2001, 2002, 2003, 2004, 2005, 2006, 2007, 2008, 2009, 2010, 2011, 2012, 2013, 2014, 2015, 2016, 2017, 2018, 2019, 2020], \"y\": [6.067352, 6.531772, 7.050105, 7.613657000000001, 8.29837, 9.170852, 10.245957, 11.184553999999999, 12.059474, 12.931452, 14.058046, 15.599716, 16.792082, 17.855486, 19.002451, 19.779325, 20.00539, 20.594782000000002, 21.525606, 22.423166000000002, 23.236479, 24.233488, 25.292791, 26.415919, 27.516357, 28.436328999999997, 28.893328999999998, 29.922715999999998, 30.822408000000003, 32.057433, 33.464652, 34.744233, 35.507092, 36.843573, 38.154036, 40.867404, 42.643156, 43.785913, 44.60455, 44.985064, 45.972425, 47.514339, 48.013576, 50.329908, 52.382335, 51.051617, 53.270708, 55.369723, 57.18930600000001, 57.947970999999995, 63.101243000000004]}, {\"marker\": {\"color\": [4.599362999999999, 5.1482470000000005, 5.687766000000001, 6.1062970000000005, 6.608871000000001, 7.162767999999999, 7.891916999999999, 8.671874, 9.72513, 10.861578999999999, 11.962038, 13.875144, 15.168481, 16.596560999999998, 17.035644, 17.776456, 18.609235, 19.773683, 20.438831, 21.328015, 22.364376, 23.590652, 25.278267, 26.824319, 28.068276, 29.162066999999997, 30.854664, 31.943653, 32.67777, 33.593505, 36.425264, 37.971614, 40.01706, 41.77819, 43.900133000000004, 44.399828, 47.306064, 48.291151, 50.427718, 49.652029999999996, 52.163431, 53.133582999999994, 53.964889, 55.966381000000005, 56.646623, 58.56933000000001, 59.865527, 62.206178, 63.834115000000004, 65.415499, 69.321845]}, \"name\": \"United Kingdom\", \"text\": [\"United Kingdom\", \"United Kingdom\", \"United Kingdom\", \"United Kingdom\", \"United Kingdom\", \"United Kingdom\", \"United Kingdom\", \"United Kingdom\", \"United Kingdom\", \"United Kingdom\", \"United Kingdom\", \"United Kingdom\", \"United Kingdom\", \"United Kingdom\", \"United Kingdom\", \"United Kingdom\", \"United Kingdom\", \"United Kingdom\", \"United Kingdom\", \"United Kingdom\", \"United Kingdom\", \"United Kingdom\", \"United Kingdom\", \"United Kingdom\", \"United Kingdom\", \"United Kingdom\", \"United Kingdom\", \"United Kingdom\", \"United Kingdom\", \"United Kingdom\", \"United Kingdom\", \"United Kingdom\", \"United Kingdom\", \"United Kingdom\", \"United Kingdom\", \"United Kingdom\", \"United Kingdom\", \"United Kingdom\", \"United Kingdom\", \"United Kingdom\", \"United Kingdom\", \"United Kingdom\", \"United Kingdom\", \"United Kingdom\", \"United Kingdom\", \"United Kingdom\", \"United Kingdom\", \"United Kingdom\", \"United Kingdom\", \"United Kingdom\", \"United Kingdom\"], \"type\": \"scatter\", \"x\": [1970, 1971, 1972, 1973, 1974, 1975, 1976, 1977, 1978, 1979, 1980, 1981, 1982, 1983, 1984, 1985, 1986, 1987, 1988, 1989, 1990, 1991, 1992, 1993, 1994, 1995, 1996, 1997, 1998, 1999, 2000, 2001, 2002, 2003, 2004, 2005, 2006, 2007, 2008, 2009, 2010, 2011, 2012, 2013, 2014, 2015, 2016, 2017, 2018, 2019, 2020], \"y\": [4.599362999999999, 5.1482470000000005, 5.687766000000001, 6.1062970000000005, 6.608871000000001, 7.162767999999999, 7.891916999999999, 8.671874, 9.72513, 10.861578999999999, 11.962038, 13.875144, 15.168481, 16.596560999999998, 17.035644, 17.776456, 18.609235, 19.773683, 20.438831, 21.328015, 22.364376, 23.590652, 25.278267, 26.824319, 28.068276, 29.162066999999997, 30.854664, 31.943653, 32.67777, 33.593505, 36.425264, 37.971614, 40.01706, 41.77819, 43.900133000000004, 44.399828, 47.306064, 48.291151, 50.427718, 49.652029999999996, 52.163431, 53.133582999999994, 53.964889, 55.966381000000005, 56.646623, 58.56933000000001, 59.865527, 62.206178, 63.834115000000004, 65.415499, 69.321845]}, {\"marker\": {\"color\": [4.83816, 5.305268, 5.8103940000000005, 6.441426, 7.304522, 8.281400999999999, 9.14451, 10.11267, 11.158128999999999, 12.429872999999999, 13.666767000000002, 15.208648, 16.31535, 17.510664000000002, 18.621574, 19.653737, 20.353339000000002, 21.141876999999997, 22.452244, 24.144434, 25.933335999999997, 27.742456, 29.098987, 30.368405, 31.81959, 32.976124, 34.085636, 35.135684999999995, 35.90291, 36.993765, 38.178156, 40.212227, 41.879051000000004, 43.540476, 45.496133, 46.564475, 48.840894, 50.916038, 52.514936999999996, 52.505371999999994, 54.47119, 57.609108, 58.943585999999996, 61.355033999999996, 63.635349, 64.376152, 68.35635699999999, 71.36310999999999, 73.601049, 74.783218, 75.97421]}, \"name\": \"Germany\", \"text\": [\"Germany\", \"Germany\", \"Germany\", \"Germany\", \"Germany\", \"Germany\", \"Germany\", \"Germany\", \"Germany\", \"Germany\", \"Germany\", \"Germany\", \"Germany\", \"Germany\", \"Germany\", \"Germany\", \"Germany\", \"Germany\", \"Germany\", \"Germany\", \"Germany\", \"Germany\", \"Germany\", \"Germany\", \"Germany\", \"Germany\", \"Germany\", \"Germany\", \"Germany\", \"Germany\", \"Germany\", \"Germany\", \"Germany\", \"Germany\", \"Germany\", \"Germany\", \"Germany\", \"Germany\", \"Germany\", \"Germany\", \"Germany\", \"Germany\", \"Germany\", \"Germany\", \"Germany\", \"Germany\", \"Germany\", \"Germany\", \"Germany\", \"Germany\", \"Germany\"], \"type\": \"scatter\", \"x\": [1970, 1971, 1972, 1973, 1974, 1975, 1976, 1977, 1978, 1979, 1980, 1981, 1982, 1983, 1984, 1985, 1986, 1987, 1988, 1989, 1990, 1991, 1992, 1993, 1994, 1995, 1996, 1997, 1998, 1999, 2000, 2001, 2002, 2003, 2004, 2005, 2006, 2007, 2008, 2009, 2010, 2011, 2012, 2013, 2014, 2015, 2016, 2017, 2018, 2019, 2020], \"y\": [4.83816, 5.305268, 5.8103940000000005, 6.441426, 7.304522, 8.281400999999999, 9.14451, 10.11267, 11.158128999999999, 12.429872999999999, 13.666767000000002, 15.208648, 16.31535, 17.510664000000002, 18.621574, 19.653737, 20.353339000000002, 21.141876999999997, 22.452244, 24.144434, 25.933335999999997, 27.742456, 29.098987, 30.368405, 31.81959, 32.976124, 34.085636, 35.135684999999995, 35.90291, 36.993765, 38.178156, 40.212227, 41.879051000000004, 43.540476, 45.496133, 46.564475, 48.840894, 50.916038, 52.514936999999996, 52.505371999999994, 54.47119, 57.609108, 58.943585999999996, 61.355033999999996, 63.635349, 64.376152, 68.35635699999999, 71.36310999999999, 73.601049, 74.783218, 75.97421]}, {\"marker\": {\"color\": [4.775702, 5.242106, 5.739629, 6.448148000000001, 7.417566000000001, 7.993636, 8.95381, 9.904823, 10.967675, 12.490872, 13.877807999999998, 15.279928, 16.158825, 16.940033, 18.219202, 19.176135000000002, 19.894032, 20.775952, 22.130022, 23.815476999999998, 24.944943, 25.800451000000002, 26.757715, 27.909785, 29.70314, 31.225014, 31.792932, 33.011271, 34.02305, 34.504677, 36.196267, 37.031388, 37.606472, 38.015209000000006, 38.515275, 39.346633000000004, 41.612233, 43.32542, 45.613772999999995, 46.218738, 47.366174, 49.336944, 50.562677, 52.278812, 52.630867, 53.221214, 56.58162900000001, 58.24564399999999, 59.725260999999996, 61.56097, 64.237347]}, \"name\": \"Italy\", \"text\": [\"Italy\", \"Italy\", \"Italy\", \"Italy\", \"Italy\", \"Italy\", \"Italy\", \"Italy\", \"Italy\", \"Italy\", \"Italy\", \"Italy\", \"Italy\", \"Italy\", \"Italy\", \"Italy\", \"Italy\", \"Italy\", \"Italy\", \"Italy\", \"Italy\", \"Italy\", \"Italy\", \"Italy\", \"Italy\", \"Italy\", \"Italy\", \"Italy\", \"Italy\", \"Italy\", \"Italy\", \"Italy\", \"Italy\", \"Italy\", \"Italy\", \"Italy\", \"Italy\", \"Italy\", \"Italy\", \"Italy\", \"Italy\", \"Italy\", \"Italy\", \"Italy\", \"Italy\", \"Italy\", \"Italy\", \"Italy\", \"Italy\", \"Italy\", \"Italy\"], \"type\": \"scatter\", \"x\": [1970, 1971, 1972, 1973, 1974, 1975, 1976, 1977, 1978, 1979, 1980, 1981, 1982, 1983, 1984, 1985, 1986, 1987, 1988, 1989, 1990, 1991, 1992, 1993, 1994, 1995, 1996, 1997, 1998, 1999, 2000, 2001, 2002, 2003, 2004, 2005, 2006, 2007, 2008, 2009, 2010, 2011, 2012, 2013, 2014, 2015, 2016, 2017, 2018, 2019, 2020], \"y\": [4.775702, 5.242106, 5.739629, 6.448148000000001, 7.417566000000001, 7.993636, 8.95381, 9.904823, 10.967675, 12.490872, 13.877807999999998, 15.279928, 16.158825, 16.940033, 18.219202, 19.176135000000002, 19.894032, 20.775952, 22.130022, 23.815476999999998, 24.944943, 25.800451000000002, 26.757715, 27.909785, 29.70314, 31.225014, 31.792932, 33.011271, 34.02305, 34.504677, 36.196267, 37.031388, 37.606472, 38.015209000000006, 38.515275, 39.346633000000004, 41.612233, 43.32542, 45.613772999999995, 46.218738, 47.366174, 49.336944, 50.562677, 52.278812, 52.630867, 53.221214, 56.58162900000001, 58.24564399999999, 59.725260999999996, 61.56097, 64.237347]}, {\"marker\": {\"color\": [2.781172, 3.043461, 3.4412580000000004, 3.8818040000000003, 4.322618, 4.938803, 5.33335, 5.840585, 6.535824, 7.379813, 8.235683, 9.389789, 10.226386, 10.883839, 11.671746, 12.693014, 13.285934, 14.208994, 15.557701999999999, 16.884421, 18.418916, 19.61884, 20.346357, 21.292573, 22.431156, 23.59969, 24.668123, 25.523119, 26.104389, 27.243299, 28.964919000000002, 30.027418, 31.403469, 32.295479, 33.915642999999996, 35.338101, 36.50293, 37.728137, 38.407605, 38.200396999999995, 39.846181, 40.992919, 42.382459999999995, 44.442434999999996, 44.503462, 46.169987, 45.508788, 46.072881, 46.941876, 48.015562, 49.366014]}, \"name\": \"Japan\", \"text\": [\"Japan\", \"Japan\", \"Japan\", \"Japan\", \"Japan\", \"Japan\", \"Japan\", \"Japan\", \"Japan\", \"Japan\", \"Japan\", \"Japan\", \"Japan\", \"Japan\", \"Japan\", \"Japan\", \"Japan\", \"Japan\", \"Japan\", \"Japan\", \"Japan\", \"Japan\", \"Japan\", \"Japan\", \"Japan\", \"Japan\", \"Japan\", \"Japan\", \"Japan\", \"Japan\", \"Japan\", \"Japan\", \"Japan\", \"Japan\", \"Japan\", \"Japan\", \"Japan\", \"Japan\", \"Japan\", \"Japan\", \"Japan\", \"Japan\", \"Japan\", \"Japan\", \"Japan\", \"Japan\", \"Japan\", \"Japan\", \"Japan\", \"Japan\", \"Japan\"], \"type\": \"scatter\", \"x\": [1970, 1971, 1972, 1973, 1974, 1975, 1976, 1977, 1978, 1979, 1980, 1981, 1982, 1983, 1984, 1985, 1986, 1987, 1988, 1989, 1990, 1991, 1992, 1993, 1994, 1995, 1996, 1997, 1998, 1999, 2000, 2001, 2002, 2003, 2004, 2005, 2006, 2007, 2008, 2009, 2010, 2011, 2012, 2013, 2014, 2015, 2016, 2017, 2018, 2019, 2020], \"y\": [2.781172, 3.043461, 3.4412580000000004, 3.8818040000000003, 4.322618, 4.938803, 5.33335, 5.840585, 6.535824, 7.379813, 8.235683, 9.389789, 10.226386, 10.883839, 11.671746, 12.693014, 13.285934, 14.208994, 15.557701999999999, 16.884421, 18.418916, 19.61884, 20.346357, 21.292573, 22.431156, 23.59969, 24.668123, 25.523119, 26.104389, 27.243299, 28.964919000000002, 30.027418, 31.403469, 32.295479, 33.915642999999996, 35.338101, 36.50293, 37.728137, 38.407605, 38.200396999999995, 39.846181, 40.992919, 42.382459999999995, 44.442434999999996, 44.503462, 46.169987, 45.508788, 46.072881, 46.941876, 48.015562, 49.366014]}],\n",
       "                        {\"font\": {\"color\": \"grey\", \"family\": \"Helvetica\", \"size\": 14}, \"legend\": {\"bgcolor\": \"rgba(255, 255, 255, 0)\", \"bordercolor\": \"rgba(255, 255, 255, 0)\", \"x\": 0.825, \"y\": 0}, \"template\": {\"data\": {\"bar\": [{\"error_x\": {\"color\": \"#2a3f5f\"}, \"error_y\": {\"color\": \"#2a3f5f\"}, \"marker\": {\"line\": {\"color\": \"#E5ECF6\", \"width\": 0.5}}, \"type\": \"bar\"}], \"barpolar\": [{\"marker\": {\"line\": {\"color\": \"#E5ECF6\", \"width\": 0.5}}, \"type\": \"barpolar\"}], \"carpet\": [{\"aaxis\": {\"endlinecolor\": \"#2a3f5f\", \"gridcolor\": \"white\", \"linecolor\": \"white\", \"minorgridcolor\": \"white\", \"startlinecolor\": \"#2a3f5f\"}, \"baxis\": {\"endlinecolor\": \"#2a3f5f\", \"gridcolor\": \"white\", \"linecolor\": \"white\", \"minorgridcolor\": \"white\", \"startlinecolor\": \"#2a3f5f\"}, \"type\": \"carpet\"}], \"choropleth\": [{\"colorbar\": {\"outlinewidth\": 0, \"ticks\": \"\"}, \"type\": \"choropleth\"}], \"contour\": [{\"colorbar\": {\"outlinewidth\": 0, \"ticks\": \"\"}, \"colorscale\": [[0.0, \"#0d0887\"], [0.1111111111111111, \"#46039f\"], [0.2222222222222222, \"#7201a8\"], [0.3333333333333333, \"#9c179e\"], [0.4444444444444444, \"#bd3786\"], [0.5555555555555556, \"#d8576b\"], [0.6666666666666666, \"#ed7953\"], [0.7777777777777778, \"#fb9f3a\"], [0.8888888888888888, \"#fdca26\"], [1.0, \"#f0f921\"]], \"type\": \"contour\"}], \"contourcarpet\": [{\"colorbar\": {\"outlinewidth\": 0, \"ticks\": \"\"}, \"type\": \"contourcarpet\"}], \"heatmap\": [{\"colorbar\": {\"outlinewidth\": 0, \"ticks\": \"\"}, \"colorscale\": [[0.0, \"#0d0887\"], [0.1111111111111111, \"#46039f\"], [0.2222222222222222, \"#7201a8\"], [0.3333333333333333, \"#9c179e\"], [0.4444444444444444, \"#bd3786\"], [0.5555555555555556, \"#d8576b\"], [0.6666666666666666, \"#ed7953\"], [0.7777777777777778, \"#fb9f3a\"], [0.8888888888888888, \"#fdca26\"], [1.0, \"#f0f921\"]], \"type\": \"heatmap\"}], \"heatmapgl\": [{\"colorbar\": {\"outlinewidth\": 0, \"ticks\": \"\"}, \"colorscale\": [[0.0, \"#0d0887\"], [0.1111111111111111, \"#46039f\"], [0.2222222222222222, \"#7201a8\"], [0.3333333333333333, \"#9c179e\"], [0.4444444444444444, \"#bd3786\"], [0.5555555555555556, \"#d8576b\"], [0.6666666666666666, \"#ed7953\"], [0.7777777777777778, \"#fb9f3a\"], [0.8888888888888888, \"#fdca26\"], [1.0, \"#f0f921\"]], \"type\": \"heatmapgl\"}], \"histogram\": [{\"marker\": {\"colorbar\": {\"outlinewidth\": 0, \"ticks\": \"\"}}, \"type\": \"histogram\"}], \"histogram2d\": [{\"colorbar\": {\"outlinewidth\": 0, \"ticks\": \"\"}, \"colorscale\": [[0.0, \"#0d0887\"], [0.1111111111111111, \"#46039f\"], [0.2222222222222222, \"#7201a8\"], [0.3333333333333333, \"#9c179e\"], [0.4444444444444444, \"#bd3786\"], [0.5555555555555556, \"#d8576b\"], [0.6666666666666666, \"#ed7953\"], [0.7777777777777778, \"#fb9f3a\"], [0.8888888888888888, \"#fdca26\"], [1.0, \"#f0f921\"]], \"type\": \"histogram2d\"}], \"histogram2dcontour\": [{\"colorbar\": {\"outlinewidth\": 0, \"ticks\": \"\"}, \"colorscale\": [[0.0, \"#0d0887\"], [0.1111111111111111, \"#46039f\"], [0.2222222222222222, \"#7201a8\"], [0.3333333333333333, \"#9c179e\"], [0.4444444444444444, \"#bd3786\"], [0.5555555555555556, \"#d8576b\"], [0.6666666666666666, \"#ed7953\"], [0.7777777777777778, \"#fb9f3a\"], [0.8888888888888888, \"#fdca26\"], [1.0, \"#f0f921\"]], \"type\": \"histogram2dcontour\"}], \"mesh3d\": [{\"colorbar\": {\"outlinewidth\": 0, \"ticks\": \"\"}, \"type\": \"mesh3d\"}], \"parcoords\": [{\"line\": {\"colorbar\": {\"outlinewidth\": 0, \"ticks\": \"\"}}, \"type\": \"parcoords\"}], \"pie\": [{\"automargin\": true, \"type\": \"pie\"}], \"scatter\": [{\"marker\": {\"colorbar\": {\"outlinewidth\": 0, \"ticks\": \"\"}}, \"type\": \"scatter\"}], \"scatter3d\": [{\"line\": {\"colorbar\": {\"outlinewidth\": 0, \"ticks\": \"\"}}, \"marker\": {\"colorbar\": {\"outlinewidth\": 0, \"ticks\": \"\"}}, \"type\": \"scatter3d\"}], \"scattercarpet\": [{\"marker\": {\"colorbar\": {\"outlinewidth\": 0, \"ticks\": \"\"}}, \"type\": \"scattercarpet\"}], \"scattergeo\": [{\"marker\": {\"colorbar\": {\"outlinewidth\": 0, \"ticks\": \"\"}}, \"type\": \"scattergeo\"}], \"scattergl\": [{\"marker\": {\"colorbar\": {\"outlinewidth\": 0, \"ticks\": \"\"}}, \"type\": \"scattergl\"}], \"scattermapbox\": [{\"marker\": {\"colorbar\": {\"outlinewidth\": 0, \"ticks\": \"\"}}, \"type\": \"scattermapbox\"}], \"scatterpolar\": [{\"marker\": {\"colorbar\": {\"outlinewidth\": 0, \"ticks\": \"\"}}, \"type\": \"scatterpolar\"}], \"scatterpolargl\": [{\"marker\": {\"colorbar\": {\"outlinewidth\": 0, \"ticks\": \"\"}}, \"type\": \"scatterpolargl\"}], \"scatterternary\": [{\"marker\": {\"colorbar\": {\"outlinewidth\": 0, \"ticks\": \"\"}}, \"type\": \"scatterternary\"}], \"surface\": [{\"colorbar\": {\"outlinewidth\": 0, \"ticks\": \"\"}, \"colorscale\": [[0.0, \"#0d0887\"], [0.1111111111111111, \"#46039f\"], [0.2222222222222222, \"#7201a8\"], [0.3333333333333333, \"#9c179e\"], [0.4444444444444444, \"#bd3786\"], [0.5555555555555556, \"#d8576b\"], [0.6666666666666666, \"#ed7953\"], [0.7777777777777778, \"#fb9f3a\"], [0.8888888888888888, \"#fdca26\"], [1.0, \"#f0f921\"]], \"type\": \"surface\"}], \"table\": [{\"cells\": {\"fill\": {\"color\": \"#EBF0F8\"}, \"line\": {\"color\": \"white\"}}, \"header\": {\"fill\": {\"color\": \"#C8D4E3\"}, \"line\": {\"color\": \"white\"}}, \"type\": \"table\"}]}, \"layout\": {\"annotationdefaults\": {\"arrowcolor\": \"#2a3f5f\", \"arrowhead\": 0, \"arrowwidth\": 1}, \"coloraxis\": {\"colorbar\": {\"outlinewidth\": 0, \"ticks\": \"\"}}, \"colorscale\": {\"diverging\": [[0, \"#8e0152\"], [0.1, \"#c51b7d\"], [0.2, \"#de77ae\"], [0.3, \"#f1b6da\"], [0.4, \"#fde0ef\"], [0.5, \"#f7f7f7\"], [0.6, \"#e6f5d0\"], [0.7, \"#b8e186\"], [0.8, \"#7fbc41\"], [0.9, \"#4d9221\"], [1, \"#276419\"]], \"sequential\": [[0.0, \"#0d0887\"], [0.1111111111111111, \"#46039f\"], [0.2222222222222222, \"#7201a8\"], [0.3333333333333333, \"#9c179e\"], [0.4444444444444444, \"#bd3786\"], [0.5555555555555556, \"#d8576b\"], [0.6666666666666666, \"#ed7953\"], [0.7777777777777778, \"#fb9f3a\"], [0.8888888888888888, \"#fdca26\"], [1.0, \"#f0f921\"]], \"sequentialminus\": [[0.0, \"#0d0887\"], [0.1111111111111111, \"#46039f\"], [0.2222222222222222, \"#7201a8\"], [0.3333333333333333, \"#9c179e\"], [0.4444444444444444, \"#bd3786\"], [0.5555555555555556, \"#d8576b\"], [0.6666666666666666, \"#ed7953\"], [0.7777777777777778, \"#fb9f3a\"], [0.8888888888888888, \"#fdca26\"], [1.0, \"#f0f921\"]]}, \"colorway\": [\"#636efa\", \"#EF553B\", \"#00cc96\", \"#ab63fa\", \"#FFA15A\", \"#19d3f3\", \"#FF6692\", \"#B6E880\", \"#FF97FF\", \"#FECB52\"], \"font\": {\"color\": \"#2a3f5f\"}, \"geo\": {\"bgcolor\": \"white\", \"lakecolor\": \"white\", \"landcolor\": \"#E5ECF6\", \"showlakes\": true, \"showland\": true, \"subunitcolor\": \"white\"}, \"hoverlabel\": {\"align\": \"left\"}, \"hovermode\": \"closest\", \"mapbox\": {\"style\": \"light\"}, \"paper_bgcolor\": \"white\", \"plot_bgcolor\": \"#E5ECF6\", \"polar\": {\"angularaxis\": {\"gridcolor\": \"white\", \"linecolor\": \"white\", \"ticks\": \"\"}, \"bgcolor\": \"#E5ECF6\", \"radialaxis\": {\"gridcolor\": \"white\", \"linecolor\": \"white\", \"ticks\": \"\"}}, \"scene\": {\"xaxis\": {\"backgroundcolor\": \"#E5ECF6\", \"gridcolor\": \"white\", \"gridwidth\": 2, \"linecolor\": \"white\", \"showbackground\": true, \"ticks\": \"\", \"zerolinecolor\": \"white\"}, \"yaxis\": {\"backgroundcolor\": \"#E5ECF6\", \"gridcolor\": \"white\", \"gridwidth\": 2, \"linecolor\": \"white\", \"showbackground\": true, \"ticks\": \"\", \"zerolinecolor\": \"white\"}, \"zaxis\": {\"backgroundcolor\": \"#E5ECF6\", \"gridcolor\": \"white\", \"gridwidth\": 2, \"linecolor\": \"white\", \"showbackground\": true, \"ticks\": \"\", \"zerolinecolor\": \"white\"}}, \"shapedefaults\": {\"line\": {\"color\": \"#2a3f5f\"}}, \"ternary\": {\"aaxis\": {\"gridcolor\": \"white\", \"linecolor\": \"white\", \"ticks\": \"\"}, \"baxis\": {\"gridcolor\": \"white\", \"linecolor\": \"white\", \"ticks\": \"\"}, \"bgcolor\": \"#E5ECF6\", \"caxis\": {\"gridcolor\": \"white\", \"linecolor\": \"white\", \"ticks\": \"\"}}, \"title\": {\"x\": 0.05}, \"xaxis\": {\"automargin\": true, \"gridcolor\": \"white\", \"linecolor\": \"white\", \"ticks\": \"\", \"title\": {\"standoff\": 15}, \"zerolinecolor\": \"white\", \"zerolinewidth\": 2}, \"yaxis\": {\"automargin\": true, \"gridcolor\": \"white\", \"linecolor\": \"white\", \"ticks\": \"\", \"title\": {\"standoff\": 15}, \"zerolinecolor\": \"white\", \"zerolinewidth\": 2}}}, \"title\": {\"text\": \"<b>Contribution to GDP per person and hour worked in G7 countries from 1970 to 2020 in USD</b><br><i>Source : OECD</i>\"}, \"yaxis\": {\"title\": {\"text\": \"GDP ($/hour worked)\"}}},\n",
       "                        {\"responsive\": true}\n",
       "                    ).then(function(){\n",
       "                            \n",
       "var gd = document.getElementById('8b214270-09b2-44fb-8455-a1776864d144');\n",
       "var x = new MutationObserver(function (mutations, observer) {{\n",
       "        var display = window.getComputedStyle(gd).display;\n",
       "        if (!display || display === 'none') {{\n",
       "            console.log([gd, 'removed!']);\n",
       "            Plotly.purge(gd);\n",
       "            observer.disconnect();\n",
       "        }}\n",
       "}});\n",
       "\n",
       "// Listen for the removal of the full notebook cells\n",
       "var notebookContainer = gd.closest('#notebook-container');\n",
       "if (notebookContainer) {{\n",
       "    x.observe(notebookContainer, {childList: true});\n",
       "}}\n",
       "\n",
       "// Listen for the clearing of the current output cell\n",
       "var outputEl = gd.closest('.output');\n",
       "if (outputEl) {{\n",
       "    x.observe(outputEl, {childList: true});\n",
       "}}\n",
       "\n",
       "                        })\n",
       "                };\n",
       "                });\n",
       "            </script>\n",
       "        </div>"
      ]
     },
     "metadata": {},
     "output_type": "display_data"
    }
   ],
   "source": [
    "fig_scatter = go.Figure(data=[\n",
    "    go.Scatter(\n",
    "        name='United States',\n",
    "        x=df_gdp_hour_worked_us['TIME'], \n",
    "        y=df_gdp_hour_worked_us['Value'],\n",
    "        marker_color=df_gdp_hour_worked_us['Value'],\n",
    "        text=df_gdp_hour_worked_us['Country']\n",
    "    ),\n",
    "    \n",
    "    go.Scatter(\n",
    "        name='France',\n",
    "        x=df_gdp_hour_worked_fr['TIME'], \n",
    "        y=df_gdp_hour_worked_fr['Value'], \n",
    "        marker_color=df_gdp_hour_worked_fr['Value'], \n",
    "        text=df_gdp_hour_worked_fr['Country']\n",
    "    ),\n",
    "    \n",
    "    go.Scatter(\n",
    "        name='Canada',\n",
    "        x=df_gdp_hour_worked_ca['TIME'], \n",
    "        y=df_gdp_hour_worked_ca['Value'], \n",
    "        marker_color=df_gdp_hour_worked_ca['Value'], \n",
    "        text=df_gdp_hour_worked_ca['Country']\n",
    "    ),\n",
    "    \n",
    "    go.Scatter(\n",
    "        name='United Kingdom',\n",
    "        x=df_gdp_hour_worked_uk['TIME'], \n",
    "        y=df_gdp_hour_worked_uk['Value'], \n",
    "        marker_color=df_gdp_hour_worked_uk['Value'], \n",
    "        text=df_gdp_hour_worked_uk['Country']\n",
    "    ),   \n",
    "    \n",
    "    go.Scatter(\n",
    "        name='Germany',\n",
    "        x=df_gdp_hour_worked_de['TIME'], \n",
    "        y=df_gdp_hour_worked_de['Value'], \n",
    "        marker_color=df_gdp_hour_worked_de['Value'], \n",
    "        text=df_gdp_hour_worked_de['Country']\n",
    "    ), \n",
    "    \n",
    "    go.Scatter(\n",
    "        name='Italy',\n",
    "        x=df_gdp_hour_worked_it['TIME'], \n",
    "        y=df_gdp_hour_worked_it['Value'], \n",
    "        marker_color=df_gdp_hour_worked_it['Value'], \n",
    "        text=df_gdp_hour_worked_it['Country']\n",
    "    ),\n",
    "    \n",
    "    go.Scatter(\n",
    "        name='Japan',\n",
    "        x=df_gdp_hour_worked_jp['TIME'], \n",
    "        y=df_gdp_hour_worked_jp['Value'], \n",
    "        marker_color=df_gdp_hour_worked_jp['Value'], \n",
    "        text=df_gdp_hour_worked_jp['Country']\n",
    "    ),\n",
    "])\n",
    "\n",
    "\n",
    "#Style\n",
    "fig_scatter.update_layout(\n",
    "    title='<b>Contribution to GDP per person and hour worked in G7 countries from 1970 to 2020 in USD</b><br>' + \n",
    "    '<i>Source : OECD</i>',\n",
    "    font=dict(\n",
    "        family='Helvetica',\n",
    "        size=14,\n",
    "        color='grey'\n",
    "    ),\n",
    "    legend=dict(\n",
    "        x=0.825,\n",
    "        y=0,\n",
    "        bgcolor='rgba(255, 255, 255, 0)',\n",
    "        bordercolor='rgba(255, 255, 255, 0)'\n",
    "    ),\n",
    "    yaxis=dict(\n",
    "        title='GDP ($/hour worked)'\n",
    "    )\n",
    ")\n",
    "\n",
    "fig_scatter.show()"
   ]
  },
  {
   "cell_type": "markdown",
   "metadata": {},
   "source": [
    "<hr>"
   ]
  },
  {
   "cell_type": "markdown",
   "metadata": {},
   "source": [
    "## Sources"
   ]
  },
  {
   "cell_type": "markdown",
   "metadata": {},
   "source": [
    "OCDE.Stat data : \n",
    "* [GDP per hour worked indicator](https://stats.oecd.org/Index.aspx?DataSetCode=PDB_LV) : \n",
    "OECD (2021), GDP per hour worked (indicator). doi: 10.1787/1439e590-en (Accessed on 17 October 2021)"
   ]
  }
 ],
 "metadata": {
  "kernelspec": {
   "display_name": "Python 3",
   "language": "python",
   "name": "python3"
  },
  "language_info": {
   "codemirror_mode": {
    "name": "ipython",
    "version": 3
   },
   "file_extension": ".py",
   "mimetype": "text/x-python",
   "name": "python",
   "nbconvert_exporter": "python",
   "pygments_lexer": "ipython3",
   "version": "3.8.5"
  }
 },
 "nbformat": 4,
 "nbformat_minor": 4
}
