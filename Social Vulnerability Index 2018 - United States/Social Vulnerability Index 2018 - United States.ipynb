{
 "cells": [
  {
   "cell_type": "markdown",
   "metadata": {},
   "source": [
    "# Social Vulnerability Index 2018 - United States "
   ]
  },
  {
   "cell_type": "code",
   "execution_count": null,
   "metadata": {},
   "outputs": [],
   "source": [
    "import pandas as pd\n",
    "import numpy as np\n",
    "import geopandas as gpd\n",
    "import json\n",
    "import plotly.express as px"
   ]
  },
  {
   "cell_type": "markdown",
   "metadata": {},
   "source": [
    "## JSON"
   ]
  },
  {
   "cell_type": "code",
   "execution_count": null,
   "metadata": {},
   "outputs": [],
   "source": [
    "map_path = 'Data/SVI2018_US_county.shp'\n",
    "\n",
    "map_df = gpd.read_file(map_path)\n",
    "\n",
    "map_df.drop(map_df.loc[:, 'LOCATION':'Shape_STLe'].columns, inplace=True, axis = 1)\n",
    "\n",
    "map_df.to_file(\"Data/SVI2018_US_county.json\", driver=\"GeoJSON\")\n",
    "geo_json_data = json.load(open(\"Data/SVI2018_US_county.json\",'r'))\n",
    "#geo_json_data[\"features\"][1]"
   ]
  },
  {
   "cell_type": "markdown",
   "metadata": {},
   "source": [
    "## CSV"
   ]
  },
  {
   "cell_type": "code",
   "execution_count": null,
   "metadata": {},
   "outputs": [],
   "source": [
    "df = pd.read_csv('Data/SVI2018_US_COUNTY.csv', dtype={\"FIPS\": str})\n",
    "\n",
    "\n",
    "df.rename(columns={'RPL_THEME1':'SS_SVI', 'RPL_THEME2':'HCD_SVI', 'RPL_THEME3':'MSL_SVI', 'RPL_THEME4':'HTT_SVI', 'RPL_THEMES': 'SVI'}, inplace=True)\n",
    "df.replace(-999.0, np.nan, inplace=True)\n",
    "svi = df[['ST','STATE','ST_ABBR','COUNTY','FIPS','SS_SVI','HCD_SVI','MSL_SVI','HTT_SVI','SVI']]"
   ]
  },
  {
   "cell_type": "markdown",
   "metadata": {},
   "source": [
    "## GLOBAL SVI MAP"
   ]
  },
  {
   "cell_type": "code",
   "execution_count": null,
   "metadata": {},
   "outputs": [],
   "source": [
    "fig = px.choropleth(svi, geojson=geo_json_data, locations='FIPS', color='SVI',\n",
    "                    featureidkey=\"properties.FIPS\",\n",
    "                    hover_data=[\"STATE\", \"COUNTY\"],\n",
    "                    color_continuous_scale=\"YlOrRd\",\n",
    "                    range_color=(0, 1),\n",
    "                    scope=\"usa\",\n",
    "                    labels={'SVI':'SVI US 2018'},\n",
    "                   )\n",
    "\n",
    "fig.update_layout(margin={\"r\":0,\"t\":0,\"l\":0,\"b\":0})\n",
    "\n",
    "fig.show()"
   ]
  },
  {
   "cell_type": "markdown",
   "metadata": {},
   "source": [
    "## Socioeconomic Status Map"
   ]
  },
  {
   "cell_type": "code",
   "execution_count": null,
   "metadata": {},
   "outputs": [],
   "source": [
    "fig = px.choropleth(svi, geojson=geo_json_data, locations='FIPS', color='SS_SVI',\n",
    "                    featureidkey=\"properties.FIPS\",\n",
    "                    hover_data=[\"STATE\", \"COUNTY\"],\n",
    "                    color_continuous_scale=\"Greens\",\n",
    "                    range_color=(0, 1),\n",
    "                    scope=\"usa\",\n",
    "                    labels={'SS_SVI':'SVI US 2018<br>Socioeconomic Status'}\n",
    "                   )\n",
    "\n",
    "fig.update_layout(margin={\"r\":0,\"t\":0,\"l\":0,\"b\":0})\n",
    "\n",
    "fig.show()"
   ]
  },
  {
   "cell_type": "markdown",
   "metadata": {},
   "source": [
    "## Household Composition & Disability Map"
   ]
  },
  {
   "cell_type": "code",
   "execution_count": null,
   "metadata": {},
   "outputs": [],
   "source": [
    "fig = px.choropleth(svi, geojson=geo_json_data, locations='FIPS', color='HCD_SVI',\n",
    "                    featureidkey=\"properties.FIPS\",\n",
    "                    hover_data=[\"STATE\", \"COUNTY\"],\n",
    "                    color_continuous_scale=\"YlOrBr\",\n",
    "                    range_color=(0, 1),\n",
    "                    scope=\"usa\",\n",
    "                    labels={'HCD_SVI':'SVI US 2018<br>Household Composition & Disability'}\n",
    "                   )\n",
    "\n",
    "fig.update_layout(margin={\"r\":0,\"t\":0,\"l\":0,\"b\":0})\n",
    "\n",
    "fig.show()"
   ]
  },
  {
   "cell_type": "markdown",
   "metadata": {},
   "source": [
    "## Minority Status & Language Map"
   ]
  },
  {
   "cell_type": "code",
   "execution_count": null,
   "metadata": {},
   "outputs": [],
   "source": [
    "fig = px.choropleth(svi, geojson=geo_json_data, locations='FIPS', color='MSL_SVI',\n",
    "                    featureidkey=\"properties.FIPS\",\n",
    "                    hover_data=[\"STATE\", \"COUNTY\"],\n",
    "                    color_continuous_scale=\"Purples\",\n",
    "                    range_color=(0, 1),\n",
    "                    scope=\"usa\",\n",
    "                    labels={'MSL_SVI':'SVI US 2018<br>Minority Status & Language'}\n",
    "                   )\n",
    "\n",
    "fig.update_layout(margin={\"r\":0,\"t\":0,\"l\":0,\"b\":0})\n",
    "\n",
    "fig.show()"
   ]
  },
  {
   "cell_type": "markdown",
   "metadata": {},
   "source": [
    "## Housing Type & Transportation Map"
   ]
  },
  {
   "cell_type": "code",
   "execution_count": null,
   "metadata": {},
   "outputs": [],
   "source": [
    "fig = px.choropleth(svi, geojson=geo_json_data, locations='FIPS', color='HTT_SVI',\n",
    "                    featureidkey=\"properties.FIPS\",\n",
    "                    hover_data=[\"STATE\", \"COUNTY\"],\n",
    "                    color_continuous_scale=\"Blues\",\n",
    "                    range_color=(0, 1),\n",
    "                    scope=\"usa\",\n",
    "                    labels={'HTT_SVI':'SVI US 2018<br>Housing Type & Transportation'}\n",
    "                   )\n",
    "\n",
    "fig.update_layout(margin={\"r\":0,\"t\":0,\"l\":0,\"b\":0})\n",
    "\n",
    "fig.show()"
   ]
  },
  {
   "cell_type": "code",
   "execution_count": null,
   "metadata": {},
   "outputs": [],
   "source": []
  },
  {
   "cell_type": "code",
   "execution_count": null,
   "metadata": {},
   "outputs": [],
   "source": []
  }
 ],
 "metadata": {
  "kernelspec": {
   "display_name": "Python 3",
   "language": "python",
   "name": "python3"
  },
  "language_info": {
   "codemirror_mode": {
    "name": "ipython",
    "version": 3
   },
   "file_extension": ".py",
   "mimetype": "text/x-python",
   "name": "python",
   "nbconvert_exporter": "python",
   "pygments_lexer": "ipython3",
   "version": "3.7.6"
  }
 },
 "nbformat": 4,
 "nbformat_minor": 4
}
